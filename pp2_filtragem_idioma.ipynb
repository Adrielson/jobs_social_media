{
 "cells": [
  {
   "cell_type": "code",
   "execution_count": 3,
   "id": "5a53aee9",
   "metadata": {
    "scrolled": true
   },
   "outputs": [],
   "source": [
    "#!pip install langdetect"
   ]
  },
  {
   "cell_type": "code",
   "execution_count": 1,
   "id": "2da2e090-b1ff-4ae6-abcf-f49b770b29e3",
   "metadata": {},
   "outputs": [],
   "source": [
    "from langdetect import detect\n",
    "import pandas as pd\n",
    "\n",
    "import matplotlib.pyplot as plt\n",
    "%matplotlib inline\n",
    "\n",
    "#Detectando idiomas\n",
    "from langdetect import detect"
   ]
  },
  {
   "cell_type": "code",
   "execution_count": 2,
   "id": "f2085e82-460d-437f-b5a0-d843e799e3b2",
   "metadata": {},
   "outputs": [],
   "source": [
    "df = pd.read_csv('social_mid_vagas_deduplicado.csv')"
   ]
  },
  {
   "cell_type": "code",
   "execution_count": 3,
   "id": "397ce028-c7cd-40ba-80bf-92348e330f23",
   "metadata": {},
   "outputs": [
    {
     "data": {
      "text/html": [
       "<div>\n",
       "<style scoped>\n",
       "    .dataframe tbody tr th:only-of-type {\n",
       "        vertical-align: middle;\n",
       "    }\n",
       "\n",
       "    .dataframe tbody tr th {\n",
       "        vertical-align: top;\n",
       "    }\n",
       "\n",
       "    .dataframe thead th {\n",
       "        text-align: right;\n",
       "    }\n",
       "</style>\n",
       "<table border=\"1\" class=\"dataframe\">\n",
       "  <thead>\n",
       "    <tr style=\"text-align: right;\">\n",
       "      <th></th>\n",
       "      <th>Unnamed: 0</th>\n",
       "      <th>id</th>\n",
       "      <th>title</th>\n",
       "      <th>text</th>\n",
       "      <th>humanLanguage</th>\n",
       "      <th>pageUrl</th>\n",
       "      <th>requirements</th>\n",
       "      <th>tasks</th>\n",
       "      <th>word_count</th>\n",
       "    </tr>\n",
       "  </thead>\n",
       "  <tbody>\n",
       "    <tr>\n",
       "      <th>0</th>\n",
       "      <td>0</td>\n",
       "      <td>JOB13030080891</td>\n",
       "      <td>Social Media &amp; Web Management Internship</td>\n",
       "      <td>\\nIntroduction\\nThe Social Media &amp; Web Managem...</td>\n",
       "      <td>en</td>\n",
       "      <td>https://www.nps.gov/hafe/getinvolved/supportyo...</td>\n",
       "      <td>If not selected for this internship, please in...</td>\n",
       "      <td>Assist in creating and managing social media (...</td>\n",
       "      <td>501</td>\n",
       "    </tr>\n",
       "    <tr>\n",
       "      <th>1</th>\n",
       "      <td>1</td>\n",
       "      <td>JOB14899553632</td>\n",
       "      <td>Social Media Coordinator</td>\n",
       "      <td>ABOUT US\\nThirty-Three Threads is an industry ...</td>\n",
       "      <td>en</td>\n",
       "      <td>https://www.linkedin.com/jobs/view/social-medi...</td>\n",
       "      <td>Bachelor’s degree in marketing or related fiel...</td>\n",
       "      <td>Responsible for daily content reaching followe...</td>\n",
       "      <td>710</td>\n",
       "    </tr>\n",
       "    <tr>\n",
       "      <th>2</th>\n",
       "      <td>2</td>\n",
       "      <td>JOB25352725960</td>\n",
       "      <td>Web Strategy and Social Media Jobs</td>\n",
       "      <td>\\nThe Web Manager will become part of an exper...</td>\n",
       "      <td>en</td>\n",
       "      <td>https://web.archive.org/web/20110413001938/htt...</td>\n",
       "      <td>NaN</td>\n",
       "      <td>NaN</td>\n",
       "      <td>570</td>\n",
       "    </tr>\n",
       "    <tr>\n",
       "      <th>3</th>\n",
       "      <td>3</td>\n",
       "      <td>JOB25520053244</td>\n",
       "      <td>Social Media and Communications Manager (m/f) ...</td>\n",
       "      <td>\\nwith high affinity to life sciences\\nfull ti...</td>\n",
       "      <td>en</td>\n",
       "      <td>http://www.nature.com/naturejobs/science/jobs/...</td>\n",
       "      <td>NaN</td>\n",
       "      <td>Development and design of internal and externa...</td>\n",
       "      <td>714</td>\n",
       "    </tr>\n",
       "    <tr>\n",
       "      <th>4</th>\n",
       "      <td>4</td>\n",
       "      <td>JOB31104822195</td>\n",
       "      <td>Job opening: Social Media Producer</td>\n",
       "      <td>\\nThis is a position on our core social team, ...</td>\n",
       "      <td>en</td>\n",
       "      <td>http://www.washingtonpost.com/wapo-audience-te...</td>\n",
       "      <td>2+ years of journalism experience. Reporting/b...</td>\n",
       "      <td>NaN</td>\n",
       "      <td>407</td>\n",
       "    </tr>\n",
       "  </tbody>\n",
       "</table>\n",
       "</div>"
      ],
      "text/plain": [
       "   Unnamed: 0              id  \\\n",
       "0           0  JOB13030080891   \n",
       "1           1  JOB14899553632   \n",
       "2           2  JOB25352725960   \n",
       "3           3  JOB25520053244   \n",
       "4           4  JOB31104822195   \n",
       "\n",
       "                                               title  \\\n",
       "0           Social Media & Web Management Internship   \n",
       "1                           Social Media Coordinator   \n",
       "2                 Web Strategy and Social Media Jobs   \n",
       "3  Social Media and Communications Manager (m/f) ...   \n",
       "4                 Job opening: Social Media Producer   \n",
       "\n",
       "                                                text humanLanguage  \\\n",
       "0  \\nIntroduction\\nThe Social Media & Web Managem...            en   \n",
       "1  ABOUT US\\nThirty-Three Threads is an industry ...            en   \n",
       "2  \\nThe Web Manager will become part of an exper...            en   \n",
       "3  \\nwith high affinity to life sciences\\nfull ti...            en   \n",
       "4  \\nThis is a position on our core social team, ...            en   \n",
       "\n",
       "                                             pageUrl  \\\n",
       "0  https://www.nps.gov/hafe/getinvolved/supportyo...   \n",
       "1  https://www.linkedin.com/jobs/view/social-medi...   \n",
       "2  https://web.archive.org/web/20110413001938/htt...   \n",
       "3  http://www.nature.com/naturejobs/science/jobs/...   \n",
       "4  http://www.washingtonpost.com/wapo-audience-te...   \n",
       "\n",
       "                                        requirements  \\\n",
       "0  If not selected for this internship, please in...   \n",
       "1  Bachelor’s degree in marketing or related fiel...   \n",
       "2                                                NaN   \n",
       "3                                                NaN   \n",
       "4  2+ years of journalism experience. Reporting/b...   \n",
       "\n",
       "                                               tasks  word_count  \n",
       "0  Assist in creating and managing social media (...         501  \n",
       "1  Responsible for daily content reaching followe...         710  \n",
       "2                                                NaN         570  \n",
       "3  Development and design of internal and externa...         714  \n",
       "4                                                NaN         407  "
      ]
     },
     "execution_count": 3,
     "metadata": {},
     "output_type": "execute_result"
    }
   ],
   "source": [
    "df.head()"
   ]
  },
  {
   "cell_type": "code",
   "execution_count": 4,
   "id": "a6480e5d",
   "metadata": {},
   "outputs": [],
   "source": [
    "df['language'] = df['text'].apply(detect)"
   ]
  },
  {
   "cell_type": "code",
   "execution_count": 5,
   "id": "f2711696",
   "metadata": {},
   "outputs": [
    {
     "data": {
      "image/png": "[encoded data removed]",
      "text/plain": [
       "<Figure size 640x480 with 1 Axes>"
      ]
     },
     "metadata": {},
     "output_type": "display_data"
    }
   ],
   "source": [
    "plt.hist(df['language'])\n",
    "plt.show()"
   ]
  },
  {
   "cell_type": "code",
   "execution_count": 6,
   "id": "af9b8fc9-4603-459a-bd97-2f61bb644b3b",
   "metadata": {},
   "outputs": [],
   "source": [
    "for index, row in df.iterrows():\n",
    "    idioma = detect(row.text)\n",
    "    if(idioma!='en'):\n",
    "        df = df.drop(index)"
   ]
  },
  {
   "cell_type": "code",
   "execution_count": 7,
   "id": "49510d49",
   "metadata": {},
   "outputs": [
    {
     "data": {
      "text/plain": [
       "7273"
      ]
     },
     "execution_count": 7,
     "metadata": {},
     "output_type": "execute_result"
    }
   ],
   "source": [
    "len(df)"
   ]
  },
  {
   "cell_type": "code",
   "execution_count": 9,
   "id": "737ec7e0-0037-467c-bda9-f312ae9f7b14",
   "metadata": {},
   "outputs": [],
   "source": [
    "df.to_csv('df_english_only.csv')"
   ]
  },
  {
   "cell_type": "code",
   "execution_count": null,
   "id": "c8342e0b",
   "metadata": {},
   "outputs": [],
   "source": []
  }
 ],
 "metadata": {
  "kernelspec": {
   "display_name": "Python 3 (ipykernel)",
   "language": "python",
   "name": "python3"
  },
  "language_info": {
   "codemirror_mode": {
    "name": "ipython",
    "version": 3
   },
   "file_extension": ".py",
   "mimetype": "text/x-python",
   "name": "python",
   "nbconvert_exporter": "python",
   "pygments_lexer": "ipython3",
   "version": "3.9.13"
  }
 },
 "nbformat": 4,
 "nbformat_minor": 5
}
