{
 "cells": [
  {
   "cell_type": "markdown",
   "id": "5e1be313",
   "metadata": {},
   "source": [
    "### Análise de Dados - job_games\n",
    "\n",
    "Por maior conveniência para a utilização de pacotes, optei por fazer um Notebook separado para a EDA"
   ]
  },
  {
   "cell_type": "code",
   "execution_count": 23,
   "id": "b3b467fb",
   "metadata": {},
   "outputs": [],
   "source": [
    "#Importação de bibliotecas\n",
    "\n",
    "import numpy as np\n",
    "import pandas as pd\n",
    "import matplotlib.pyplot as plt\n",
    "import seaborn as sns \n",
    "import warnings\n",
    "import requests\n",
    "import io\n",
    "warnings.filterwarnings(\"ignore\")\n",
    "\n"
   ]
  },
  {
   "cell_type": "code",
   "execution_count": 21,
   "id": "6fb4ab27",
   "metadata": {},
   "outputs": [],
   "source": [
    "#Para filtrar as urls\n",
    "from urllib.parse import urlparse\n",
    "\n",
    "from publicsuffix2 import get_public_suffix\n",
    "from publicsuffix2 import PublicSuffixList"
   ]
  },
  {
   "cell_type": "code",
   "execution_count": 22,
   "id": "5d570c64",
   "metadata": {},
   "outputs": [],
   "source": [
    "#Detectando idiomas\n",
    "\n",
    "from langdetect import detect"
   ]
  },
  {
   "cell_type": "code",
   "execution_count": 4,
   "id": "9a5feee2",
   "metadata": {},
   "outputs": [
    {
     "data": {
      "text/html": [
       "<div>\n",
       "<style scoped>\n",
       "    .dataframe tbody tr th:only-of-type {\n",
       "        vertical-align: middle;\n",
       "    }\n",
       "\n",
       "    .dataframe tbody tr th {\n",
       "        vertical-align: top;\n",
       "    }\n",
       "\n",
       "    .dataframe thead th {\n",
       "        text-align: right;\n",
       "    }\n",
       "</style>\n",
       "<table border=\"1\" class=\"dataframe\">\n",
       "  <thead>\n",
       "    <tr style=\"text-align: right;\">\n",
       "      <th></th>\n",
       "      <th>Unnamed: 0.2</th>\n",
       "      <th>Unnamed: 0</th>\n",
       "      <th>Unnamed: 0.1</th>\n",
       "      <th>diffbotUri</th>\n",
       "      <th>humanLanguage</th>\n",
       "      <th>id</th>\n",
       "      <th>lastCrawlTime</th>\n",
       "      <th>name</th>\n",
       "      <th>pageUrl</th>\n",
       "      <th>requirements</th>\n",
       "      <th>resolvedPageUrl</th>\n",
       "      <th>summary</th>\n",
       "      <th>tasks</th>\n",
       "      <th>text</th>\n",
       "      <th>title</th>\n",
       "      <th>type</th>\n",
       "    </tr>\n",
       "  </thead>\n",
       "  <tbody>\n",
       "    <tr>\n",
       "      <th>0</th>\n",
       "      <td>0</td>\n",
       "      <td>0</td>\n",
       "      <td>0</td>\n",
       "      <td>http://diffbot.com/entity/JOB966384586</td>\n",
       "      <td>en</td>\n",
       "      <td>JOB966384586</td>\n",
       "      <td>1591962958</td>\n",
       "      <td>Bioinformatics Specialist, GIS</td>\n",
       "      <td>https://www.nature.com/naturecareers/job/bioin...</td>\n",
       "      <td>NaN</td>\n",
       "      <td>NaN</td>\n",
       "      <td>The Genomics Institute of Singapore () has an ...</td>\n",
       "      <td>NaN</td>\n",
       "      <td>The Genomics Institute of Singapore () has an ...</td>\n",
       "      <td>Bioinformatics Specialist, GIS</td>\n",
       "      <td>Job</td>\n",
       "    </tr>\n",
       "    <tr>\n",
       "      <th>1</th>\n",
       "      <td>1</td>\n",
       "      <td>1</td>\n",
       "      <td>1</td>\n",
       "      <td>http://diffbot.com/entity/JOB1028283361</td>\n",
       "      <td>en</td>\n",
       "      <td>JOB1028283361</td>\n",
       "      <td>1549734701</td>\n",
       "      <td>Postdoctoral Fellowship in Bioinformatics and ...</td>\n",
       "      <td>http://www.nature.com/naturejobs/science/jobs/...</td>\n",
       "      <td>NaN</td>\n",
       "      <td>https://www.nature.com/naturecareers/job?id=67...</td>\n",
       "      <td>The laboratories of Drs. Jeffrey Pessin, Fajun...</td>\n",
       "      <td>NaN</td>\n",
       "      <td>The laboratories of Drs. Jeffrey Pessin, Fajun...</td>\n",
       "      <td>Postdoctoral Fellowship in Bioinformatics and ...</td>\n",
       "      <td>Job</td>\n",
       "    </tr>\n",
       "    <tr>\n",
       "      <th>2</th>\n",
       "      <td>2</td>\n",
       "      <td>2</td>\n",
       "      <td>2</td>\n",
       "      <td>http://diffbot.com/entity/JOB1570298833</td>\n",
       "      <td>en</td>\n",
       "      <td>JOB1570298833</td>\n",
       "      <td>1486437231</td>\n",
       "      <td>Bioinformatics Analyst : Bar Harbor, ME, Unite...</td>\n",
       "      <td>http://www.nature.com/naturejobs/science/jobs/...</td>\n",
       "      <td>NaN</td>\n",
       "      <td>NaN</td>\n",
       "      <td>\\nTweet\\nFacebook\\nLinkedIn\\nThe MDI Biologica...</td>\n",
       "      <td>NaN</td>\n",
       "      <td>\\nTweet\\nFacebook\\nLinkedIn\\nThe MDI Biologica...</td>\n",
       "      <td>Bioinformatics Analyst : Bar Harbor, ME, Unite...</td>\n",
       "      <td>Job</td>\n",
       "    </tr>\n",
       "    <tr>\n",
       "      <th>3</th>\n",
       "      <td>3</td>\n",
       "      <td>3</td>\n",
       "      <td>3</td>\n",
       "      <td>http://diffbot.com/entity/JOB2313411533</td>\n",
       "      <td>en</td>\n",
       "      <td>JOB2313411533</td>\n",
       "      <td>1629620706</td>\n",
       "      <td>Postdoctoral Fellow in Bioinformatics and/or G...</td>\n",
       "      <td>https://www.nature.com/naturecareers/job/postd...</td>\n",
       "      <td>Must hold a Ph.D. degree, with publications in...</td>\n",
       "      <td>NaN</td>\n",
       "      <td>We are looking for enthusiastic postdoctoral f...</td>\n",
       "      <td>NaN</td>\n",
       "      <td>We are looking for enthusiastic postdoctoral f...</td>\n",
       "      <td>Postdoctoral Fellow in Bioinformatics and/or G...</td>\n",
       "      <td>Job</td>\n",
       "    </tr>\n",
       "    <tr>\n",
       "      <th>4</th>\n",
       "      <td>4</td>\n",
       "      <td>4</td>\n",
       "      <td>4</td>\n",
       "      <td>http://diffbot.com/entity/JOB2513853425</td>\n",
       "      <td>en</td>\n",
       "      <td>JOB2513853425</td>\n",
       "      <td>1563630178</td>\n",
       "      <td>Postdoctoral Position in Bioinformatics, Micro...</td>\n",
       "      <td>https://www.nature.com/naturecareers/job/postd...</td>\n",
       "      <td>NaN</td>\n",
       "      <td>NaN</td>\n",
       "      <td>Work group:\\nInstitute of Virology\\nArea of re...</td>\n",
       "      <td>NaN</td>\n",
       "      <td>Work group:\\nInstitute of Virology\\nArea of re...</td>\n",
       "      <td>Postdoctoral Position in Bioinformatics, Micro...</td>\n",
       "      <td>Job</td>\n",
       "    </tr>\n",
       "  </tbody>\n",
       "</table>\n",
       "</div>"
      ],
      "text/plain": [
       "   Unnamed: 0.2  Unnamed: 0  Unnamed: 0.1  \\\n",
       "0             0           0             0   \n",
       "1             1           1             1   \n",
       "2             2           2             2   \n",
       "3             3           3             3   \n",
       "4             4           4             4   \n",
       "\n",
       "                                diffbotUri humanLanguage             id  \\\n",
       "0   http://diffbot.com/entity/JOB966384586            en   JOB966384586   \n",
       "1  http://diffbot.com/entity/JOB1028283361            en  JOB1028283361   \n",
       "2  http://diffbot.com/entity/JOB1570298833            en  JOB1570298833   \n",
       "3  http://diffbot.com/entity/JOB2313411533            en  JOB2313411533   \n",
       "4  http://diffbot.com/entity/JOB2513853425            en  JOB2513853425   \n",
       "\n",
       "   lastCrawlTime                                               name  \\\n",
       "0     1591962958                     Bioinformatics Specialist, GIS   \n",
       "1     1549734701  Postdoctoral Fellowship in Bioinformatics and ...   \n",
       "2     1486437231  Bioinformatics Analyst : Bar Harbor, ME, Unite...   \n",
       "3     1629620706  Postdoctoral Fellow in Bioinformatics and/or G...   \n",
       "4     1563630178  Postdoctoral Position in Bioinformatics, Micro...   \n",
       "\n",
       "                                             pageUrl  \\\n",
       "0  https://www.nature.com/naturecareers/job/bioin...   \n",
       "1  http://www.nature.com/naturejobs/science/jobs/...   \n",
       "2  http://www.nature.com/naturejobs/science/jobs/...   \n",
       "3  https://www.nature.com/naturecareers/job/postd...   \n",
       "4  https://www.nature.com/naturecareers/job/postd...   \n",
       "\n",
       "                                        requirements  \\\n",
       "0                                                NaN   \n",
       "1                                                NaN   \n",
       "2                                                NaN   \n",
       "3  Must hold a Ph.D. degree, with publications in...   \n",
       "4                                                NaN   \n",
       "\n",
       "                                     resolvedPageUrl  \\\n",
       "0                                                NaN   \n",
       "1  https://www.nature.com/naturecareers/job?id=67...   \n",
       "2                                                NaN   \n",
       "3                                                NaN   \n",
       "4                                                NaN   \n",
       "\n",
       "                                             summary tasks  \\\n",
       "0  The Genomics Institute of Singapore () has an ...   NaN   \n",
       "1  The laboratories of Drs. Jeffrey Pessin, Fajun...   NaN   \n",
       "2  \\nTweet\\nFacebook\\nLinkedIn\\nThe MDI Biologica...   NaN   \n",
       "3  We are looking for enthusiastic postdoctoral f...   NaN   \n",
       "4  Work group:\\nInstitute of Virology\\nArea of re...   NaN   \n",
       "\n",
       "                                                text  \\\n",
       "0  The Genomics Institute of Singapore () has an ...   \n",
       "1  The laboratories of Drs. Jeffrey Pessin, Fajun...   \n",
       "2  \\nTweet\\nFacebook\\nLinkedIn\\nThe MDI Biologica...   \n",
       "3  We are looking for enthusiastic postdoctoral f...   \n",
       "4  Work group:\\nInstitute of Virology\\nArea of re...   \n",
       "\n",
       "                                               title type  \n",
       "0                     Bioinformatics Specialist, GIS  Job  \n",
       "1  Postdoctoral Fellowship in Bioinformatics and ...  Job  \n",
       "2  Bioinformatics Analyst : Bar Harbor, ME, Unite...  Job  \n",
       "3  Postdoctoral Fellow in Bioinformatics and/or G...  Job  \n",
       "4  Postdoctoral Position in Bioinformatics, Micro...  Job  "
      ]
     },
     "execution_count": 4,
     "metadata": {},
     "output_type": "execute_result"
    }
   ],
   "source": [
    "#Importando o csv\n",
    "df = pd.read_csv('job_bioinfo_csv/bioinf_vagas.csv')\n",
    "df.head()"
   ]
  },
  {
   "cell_type": "code",
   "execution_count": 5,
   "id": "b439a711",
   "metadata": {
    "scrolled": true
   },
   "outputs": [
    {
     "name": "stdout",
     "output_type": "stream",
     "text": [
      "<class 'pandas.core.frame.DataFrame'>\n",
      "RangeIndex: 2012 entries, 0 to 2011\n",
      "Data columns (total 16 columns):\n",
      " #   Column           Non-Null Count  Dtype \n",
      "---  ------           --------------  ----- \n",
      " 0   Unnamed: 0.2     2012 non-null   int64 \n",
      " 1   Unnamed: 0       2012 non-null   int64 \n",
      " 2   Unnamed: 0.1     2012 non-null   int64 \n",
      " 3   diffbotUri       2012 non-null   object\n",
      " 4   humanLanguage    2012 non-null   object\n",
      " 5   id               2012 non-null   object\n",
      " 6   lastCrawlTime    2012 non-null   int64 \n",
      " 7   name             2012 non-null   object\n",
      " 8   pageUrl          2012 non-null   object\n",
      " 9   requirements     442 non-null    object\n",
      " 10  resolvedPageUrl  253 non-null    object\n",
      " 11  summary          2012 non-null   object\n",
      " 12  tasks            559 non-null    object\n",
      " 13  text             2012 non-null   object\n",
      " 14  title            2012 non-null   object\n",
      " 15  type             2012 non-null   object\n",
      "dtypes: int64(4), object(12)\n",
      "memory usage: 251.6+ KB\n"
     ]
    }
   ],
   "source": [
    "df.info()"
   ]
  },
  {
   "cell_type": "markdown",
   "id": "de1c5ac6",
   "metadata": {},
   "source": [
    "### Vamos verificar os sites que mais saíram resultados"
   ]
  },
  {
   "cell_type": "code",
   "execution_count": 6,
   "id": "8ab5c616",
   "metadata": {},
   "outputs": [],
   "source": [
    "#Trexo retirado de utils_url\n",
    "urls = df.pageUrl.values\n",
    "\n",
    "def clean_url(urls):\n",
    "    psl = PublicSuffixList()\n",
    "    ##Removo prefixo\n",
    "    urls_cleaned = []\n",
    "    for url in urls:\n",
    "        domain = urlparse(url).netloc\n",
    "        domain = domain.replace('www.', '')\n",
    "        urls_cleaned.append(domain)\n",
    "    ## Removo sufixo e prefixo de caminho\n",
    "    urls_cleaned_2 = []\n",
    "    for url in urls_cleaned:\n",
    "        urls_cleaned_2.append(psl.get_public_suffix(url).replace(psl.get_tld(url), '')[:-1])\n",
    "\n",
    "    return urls_cleaned_2"
   ]
  },
  {
   "cell_type": "code",
   "execution_count": 7,
   "id": "78e97f87",
   "metadata": {},
   "outputs": [],
   "source": [
    "df['urlCleaned'] = clean_url(urls)\n"
   ]
  },
  {
   "cell_type": "code",
   "execution_count": 8,
   "id": "91d325ac",
   "metadata": {},
   "outputs": [
    {
     "data": {
      "text/plain": [
       "<AxesSubplot:>"
      ]
     },
     "execution_count": 8,
     "metadata": {},
     "output_type": "execute_result"
    },
    {
     "data": {
      "image/png": "[encoded data removed]",
      "text/plain": [
       "<Figure size 640x480 with 1 Axes>"
      ]
     },
     "metadata": {},
     "output_type": "display_data"
    }
   ],
   "source": [
    "df['urlCleaned'].value_counts()[:25].plot(kind='barh')"
   ]
  },
  {
   "cell_type": "markdown",
   "id": "ee649ea3",
   "metadata": {},
   "source": [
    "## Verificando o tamanho dos textos"
   ]
  },
  {
   "cell_type": "code",
   "execution_count": 9,
   "id": "9a6acb1f",
   "metadata": {},
   "outputs": [],
   "source": [
    "df['word_count'] = df['text'].str.count(' ') + 1"
   ]
  },
  {
   "cell_type": "code",
   "execution_count": 10,
   "id": "9f923a9a",
   "metadata": {},
   "outputs": [
    {
     "data": {
      "image/png": "[encoded data removed]",
      "text/plain": [
       "<Figure size 500x500 with 1 Axes>"
      ]
     },
     "metadata": {},
     "output_type": "display_data"
    }
   ],
   "source": [
    "sns.displot(df['word_count'])\n",
    "plt.show()"
   ]
  },
  {
   "cell_type": "code",
   "execution_count": 11,
   "id": "e7ee9a6a",
   "metadata": {},
   "outputs": [],
   "source": [
    "#Removendo os outliers\n",
    "tam = []\n",
    "for index, row in df.iterrows():\n",
    "    tam.append(len(row.text))\n",
    "    \n",
    "df['tam'] = tam"
   ]
  },
  {
   "cell_type": "code",
   "execution_count": 12,
   "id": "f19b7a0b",
   "metadata": {},
   "outputs": [
    {
     "data": {
      "text/plain": [
       "<AxesSubplot:ylabel='word_count'>"
      ]
     },
     "execution_count": 12,
     "metadata": {},
     "output_type": "execute_result"
    },
    {
     "data": {
      "image/png": "[encoded data removed]",
      "text/plain": [
       "<Figure size 640x480 with 1 Axes>"
      ]
     },
     "metadata": {},
     "output_type": "display_data"
    }
   ],
   "source": [
    "sns.boxplot(y = df['word_count'])"
   ]
  },
  {
   "cell_type": "code",
   "execution_count": 13,
   "id": "f54308d6",
   "metadata": {},
   "outputs": [
    {
     "data": {
      "text/plain": [
       "<AxesSubplot:ylabel='tam'>"
      ]
     },
     "execution_count": 13,
     "metadata": {},
     "output_type": "execute_result"
    },
    {
     "data": {
      "image/png": "[encoded data removed]",
      "text/plain": [
       "<Figure size 640x480 with 1 Axes>"
      ]
     },
     "metadata": {},
     "output_type": "display_data"
    }
   ],
   "source": [
    "sns.boxplot(y = df['tam'])"
   ]
  },
  {
   "cell_type": "code",
   "execution_count": 14,
   "id": "61cd916e",
   "metadata": {},
   "outputs": [
    {
     "data": {
      "text/html": [
       "<div>\n",
       "<style scoped>\n",
       "    .dataframe tbody tr th:only-of-type {\n",
       "        vertical-align: middle;\n",
       "    }\n",
       "\n",
       "    .dataframe tbody tr th {\n",
       "        vertical-align: top;\n",
       "    }\n",
       "\n",
       "    .dataframe thead th {\n",
       "        text-align: right;\n",
       "    }\n",
       "</style>\n",
       "<table border=\"1\" class=\"dataframe\">\n",
       "  <thead>\n",
       "    <tr style=\"text-align: right;\">\n",
       "      <th></th>\n",
       "      <th>Unnamed: 0.2</th>\n",
       "      <th>Unnamed: 0</th>\n",
       "      <th>Unnamed: 0.1</th>\n",
       "      <th>diffbotUri</th>\n",
       "      <th>humanLanguage</th>\n",
       "      <th>id</th>\n",
       "      <th>lastCrawlTime</th>\n",
       "      <th>name</th>\n",
       "      <th>pageUrl</th>\n",
       "      <th>requirements</th>\n",
       "      <th>resolvedPageUrl</th>\n",
       "      <th>summary</th>\n",
       "      <th>tasks</th>\n",
       "      <th>text</th>\n",
       "      <th>title</th>\n",
       "      <th>type</th>\n",
       "      <th>urlCleaned</th>\n",
       "      <th>word_count</th>\n",
       "      <th>tam</th>\n",
       "    </tr>\n",
       "  </thead>\n",
       "  <tbody>\n",
       "    <tr>\n",
       "      <th>33</th>\n",
       "      <td>33</td>\n",
       "      <td>34</td>\n",
       "      <td>34</td>\n",
       "      <td>http://diffbot.com/entity/JOB32453303245</td>\n",
       "      <td>en</td>\n",
       "      <td>JOB32453303245</td>\n",
       "      <td>1544974973</td>\n",
       "      <td>Postdoc in in Cancer Bioinformatics in the Por...</td>\n",
       "      <td>http://www.nature.com/naturejobs/science/jobs/...</td>\n",
       "      <td>NaN</td>\n",
       "      <td>https://www.nature.com/naturecareers/job?id=66...</td>\n",
       "      <td>Postdoc in in Cancer Bioinformatics in the Por...</td>\n",
       "      <td>NaN</td>\n",
       "      <td>Postdoc in in Cancer Bioinformatics in the Por...</td>\n",
       "      <td>Postdoc in in Cancer Bioinformatics in the Por...</td>\n",
       "      <td>Job</td>\n",
       "      <td>nature</td>\n",
       "      <td>1258</td>\n",
       "      <td>8919</td>\n",
       "    </tr>\n",
       "    <tr>\n",
       "      <th>41</th>\n",
       "      <td>41</td>\n",
       "      <td>42</td>\n",
       "      <td>42</td>\n",
       "      <td>http://diffbot.com/entity/JOB39337860083</td>\n",
       "      <td>en</td>\n",
       "      <td>JOB39337860083</td>\n",
       "      <td>1550065459</td>\n",
       "      <td>Postdoc in Bioinformatics in the Gorodkin lab</td>\n",
       "      <td>http://www.nature.com/naturejobs/science/jobs/...</td>\n",
       "      <td>NaN</td>\n",
       "      <td>https://www.nature.com/naturecareers/job?id=67...</td>\n",
       "      <td>A two-year Postdoc position is available in th...</td>\n",
       "      <td>NaN</td>\n",
       "      <td>A two-year Postdoc position is available in th...</td>\n",
       "      <td>Postdoc in Bioinformatics in the Gorodkin lab</td>\n",
       "      <td>Job</td>\n",
       "      <td>nature</td>\n",
       "      <td>1099</td>\n",
       "      <td>7994</td>\n",
       "    </tr>\n",
       "    <tr>\n",
       "      <th>52</th>\n",
       "      <td>52</td>\n",
       "      <td>53</td>\n",
       "      <td>53</td>\n",
       "      <td>http://diffbot.com/entity/JOB47789923289</td>\n",
       "      <td>en</td>\n",
       "      <td>JOB47789923289</td>\n",
       "      <td>1635101971</td>\n",
       "      <td>Bioinformatics Core Manager of the Omics Data ...</td>\n",
       "      <td>https://www.nature.com/naturecareers/job/bioin...</td>\n",
       "      <td>NaN</td>\n",
       "      <td>NaN</td>\n",
       "      <td>\\nComputational sciences applied to biology an...</td>\n",
       "      <td>Coordination and maintenance of the state-of-t...</td>\n",
       "      <td>\\nComputational sciences applied to biology an...</td>\n",
       "      <td>Bioinformatics Core Manager of the Omics Data ...</td>\n",
       "      <td>Job</td>\n",
       "      <td>nature</td>\n",
       "      <td>1011</td>\n",
       "      <td>7755</td>\n",
       "    </tr>\n",
       "    <tr>\n",
       "      <th>97</th>\n",
       "      <td>97</td>\n",
       "      <td>98</td>\n",
       "      <td>98</td>\n",
       "      <td>http://diffbot.com/entity/JOB85504973771</td>\n",
       "      <td>en</td>\n",
       "      <td>JOB85504973771</td>\n",
       "      <td>1604865070</td>\n",
       "      <td>Postdoc in Biochemistry, Bioinformatics, and S...</td>\n",
       "      <td>https://www.nature.com/naturecareers/job/postd...</td>\n",
       "      <td>Protein sequence and structure clustering,Pyth...</td>\n",
       "      <td>NaN</td>\n",
       "      <td>We are looking for a postdoctoral researcher w...</td>\n",
       "      <td>NaN</td>\n",
       "      <td>We are looking for a postdoctoral researcher w...</td>\n",
       "      <td>Postdoc in Biochemistry, Bioinformatics, and S...</td>\n",
       "      <td>Job</td>\n",
       "      <td>nature</td>\n",
       "      <td>1113</td>\n",
       "      <td>8110</td>\n",
       "    </tr>\n",
       "    <tr>\n",
       "      <th>100</th>\n",
       "      <td>100</td>\n",
       "      <td>102</td>\n",
       "      <td>102</td>\n",
       "      <td>http://diffbot.com/entity/JOB87963999198</td>\n",
       "      <td>en</td>\n",
       "      <td>JOB87963999198</td>\n",
       "      <td>1636056694</td>\n",
       "      <td>Staff Fellow – Bioinformatics Reviewer</td>\n",
       "      <td>https://www.nature.com/naturecareers/job/staff...</td>\n",
       "      <td>NaN</td>\n",
       "      <td>NaN</td>\n",
       "      <td>Individualized Cell and Gene Therapies and Imm...</td>\n",
       "      <td>Developing and implementing bioinformatics dat...</td>\n",
       "      <td>Individualized Cell and Gene Therapies and Imm...</td>\n",
       "      <td>Staff Fellow – Bioinformatics Reviewer</td>\n",
       "      <td>Job</td>\n",
       "      <td>nature</td>\n",
       "      <td>1013</td>\n",
       "      <td>7730</td>\n",
       "    </tr>\n",
       "  </tbody>\n",
       "</table>\n",
       "</div>"
      ],
      "text/plain": [
       "     Unnamed: 0.2  Unnamed: 0  Unnamed: 0.1  \\\n",
       "33             33          34            34   \n",
       "41             41          42            42   \n",
       "52             52          53            53   \n",
       "97             97          98            98   \n",
       "100           100         102           102   \n",
       "\n",
       "                                   diffbotUri humanLanguage              id  \\\n",
       "33   http://diffbot.com/entity/JOB32453303245            en  JOB32453303245   \n",
       "41   http://diffbot.com/entity/JOB39337860083            en  JOB39337860083   \n",
       "52   http://diffbot.com/entity/JOB47789923289            en  JOB47789923289   \n",
       "97   http://diffbot.com/entity/JOB85504973771            en  JOB85504973771   \n",
       "100  http://diffbot.com/entity/JOB87963999198            en  JOB87963999198   \n",
       "\n",
       "     lastCrawlTime                                               name  \\\n",
       "33      1544974973  Postdoc in in Cancer Bioinformatics in the Por...   \n",
       "41      1550065459      Postdoc in Bioinformatics in the Gorodkin lab   \n",
       "52      1635101971  Bioinformatics Core Manager of the Omics Data ...   \n",
       "97      1604865070  Postdoc in Biochemistry, Bioinformatics, and S...   \n",
       "100     1636056694             Staff Fellow – Bioinformatics Reviewer   \n",
       "\n",
       "                                               pageUrl  \\\n",
       "33   http://www.nature.com/naturejobs/science/jobs/...   \n",
       "41   http://www.nature.com/naturejobs/science/jobs/...   \n",
       "52   https://www.nature.com/naturecareers/job/bioin...   \n",
       "97   https://www.nature.com/naturecareers/job/postd...   \n",
       "100  https://www.nature.com/naturecareers/job/staff...   \n",
       "\n",
       "                                          requirements  \\\n",
       "33                                                 NaN   \n",
       "41                                                 NaN   \n",
       "52                                                 NaN   \n",
       "97   Protein sequence and structure clustering,Pyth...   \n",
       "100                                                NaN   \n",
       "\n",
       "                                       resolvedPageUrl  \\\n",
       "33   https://www.nature.com/naturecareers/job?id=66...   \n",
       "41   https://www.nature.com/naturecareers/job?id=67...   \n",
       "52                                                 NaN   \n",
       "97                                                 NaN   \n",
       "100                                                NaN   \n",
       "\n",
       "                                               summary  \\\n",
       "33   Postdoc in in Cancer Bioinformatics in the Por...   \n",
       "41   A two-year Postdoc position is available in th...   \n",
       "52   \\nComputational sciences applied to biology an...   \n",
       "97   We are looking for a postdoctoral researcher w...   \n",
       "100  Individualized Cell and Gene Therapies and Imm...   \n",
       "\n",
       "                                                 tasks  \\\n",
       "33                                                 NaN   \n",
       "41                                                 NaN   \n",
       "52   Coordination and maintenance of the state-of-t...   \n",
       "97                                                 NaN   \n",
       "100  Developing and implementing bioinformatics dat...   \n",
       "\n",
       "                                                  text  \\\n",
       "33   Postdoc in in Cancer Bioinformatics in the Por...   \n",
       "41   A two-year Postdoc position is available in th...   \n",
       "52   \\nComputational sciences applied to biology an...   \n",
       "97   We are looking for a postdoctoral researcher w...   \n",
       "100  Individualized Cell and Gene Therapies and Imm...   \n",
       "\n",
       "                                                 title type urlCleaned  \\\n",
       "33   Postdoc in in Cancer Bioinformatics in the Por...  Job     nature   \n",
       "41       Postdoc in Bioinformatics in the Gorodkin lab  Job     nature   \n",
       "52   Bioinformatics Core Manager of the Omics Data ...  Job     nature   \n",
       "97   Postdoc in Biochemistry, Bioinformatics, and S...  Job     nature   \n",
       "100             Staff Fellow – Bioinformatics Reviewer  Job     nature   \n",
       "\n",
       "     word_count   tam  \n",
       "33         1258  8919  \n",
       "41         1099  7994  \n",
       "52         1011  7755  \n",
       "97         1113  8110  \n",
       "100        1013  7730  "
      ]
     },
     "execution_count": 14,
     "metadata": {},
     "output_type": "execute_result"
    }
   ],
   "source": [
    "df.loc[df['word_count']>1000].head()"
   ]
  },
  {
   "cell_type": "code",
   "execution_count": 15,
   "id": "128f4ca0",
   "metadata": {},
   "outputs": [],
   "source": [
    "for index, row in df.iterrows():\n",
    "    if(row.word_count > 1000):\n",
    "        df = df.drop(index)"
   ]
  },
  {
   "cell_type": "code",
   "execution_count": 16,
   "id": "dca548fb",
   "metadata": {},
   "outputs": [
    {
     "data": {
      "image/png": "[encoded data removed]",
      "text/plain": [
       "<Figure size 500x500 with 1 Axes>"
      ]
     },
     "metadata": {},
     "output_type": "display_data"
    }
   ],
   "source": [
    "sns.displot(df['word_count'])\n",
    "plt.show()"
   ]
  },
  {
   "cell_type": "code",
   "execution_count": 17,
   "id": "b245218c",
   "metadata": {},
   "outputs": [
    {
     "name": "stdout",
     "output_type": "stream",
     "text": [
      "O tamanho médio dos textos é de 390 palavras\n"
     ]
    }
   ],
   "source": [
    "print(\"O tamanho médio dos textos é de {:.0f} palavras\".format(df['word_count'].mean()))"
   ]
  },
  {
   "cell_type": "markdown",
   "id": "d12fa9d4",
   "metadata": {},
   "source": [
    "## Verificando os idiomas "
   ]
  },
  {
   "cell_type": "code",
   "execution_count": 18,
   "id": "41b5683c",
   "metadata": {},
   "outputs": [],
   "source": [
    "df['language'] = df['text'].apply(detect)"
   ]
  },
  {
   "cell_type": "code",
   "execution_count": 19,
   "id": "59c98bf9",
   "metadata": {},
   "outputs": [
    {
     "data": {
      "image/png": "[encoded data removed]",
      "text/plain": [
       "<Figure size 500x500 with 1 Axes>"
      ]
     },
     "metadata": {},
     "output_type": "display_data"
    }
   ],
   "source": [
    "sns.displot(df['language'])\n",
    "plt.show()"
   ]
  },
  {
   "cell_type": "code",
   "execution_count": null,
   "id": "b377dd1d",
   "metadata": {},
   "outputs": [],
   "source": []
  }
 ],
 "metadata": {
  "kernelspec": {
   "display_name": "Python 3 (ipykernel)",
   "language": "python",
   "name": "python3"
  },
  "language_info": {
   "codemirror_mode": {
    "name": "ipython",
    "version": 3
   },
   "file_extension": ".py",
   "mimetype": "text/x-python",
   "name": "python",
   "nbconvert_exporter": "python",
   "pygments_lexer": "ipython3",
   "version": "3.9.13"
  }
 },
 "nbformat": 4,
 "nbformat_minor": 5
}
