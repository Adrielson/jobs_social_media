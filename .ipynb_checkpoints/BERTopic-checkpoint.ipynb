{
 "cells": [
  {
   "cell_type": "markdown",
   "metadata": {},
   "source": [
    "Fonte principal: https://github.com/MaartenGr/BERTopic\n",
    "\n",
    "https://maartengr.github.io/BERTopic/algorithm/algorithm.html\n",
    "\n",
    "\n",
    "    \n",
    "https://hdbscan.readthedocs.io/en/latest/soft_clustering.html\n",
    "    \n",
    "https://hdbscan.readthedocs.io/en/latest/soft_clustering_explanation.html\n",
    "    \n",
    "   \n",
    "   ***O que é o BERTopic?***\n",
    "   https://towardsdatascience.com/let-us-extract-some-topics-from-text-data-part-iv-bertopic-46ddf3c91622 (lido*)\n",
    "   \n",
    "   Problemas fóruns: https://github.com/MaartenGr/BERTopic/issues/763\n",
    "   \n",
    "Artigo base para escrita: https://www.mdpi.com/2071-1050/15/5/4166"
   ]
  },
  {
   "cell_type": "markdown",
   "metadata": {
    "id": "AXHLDxJdRzBi"
   },
   "source": [
    "# **Tutorial** - Topic Modeling with BERTopic\n",
    "\n",
    "## BERTopic\n",
    "BERTopic é uma técnica de modelagem de tópicos que utiliza transformadores 🤗 e um TF-IDF baseado em classe personalizado para criar clusters densos, permitindo tópicos facilmente interpretáveis, mantendo palavras importantes nas descrições do tópico. \n",
    "\n",
    "<br>\n",
    "\n",
    "<img src=\"https://raw.githubusercontent.com/MaartenGr/BERTopic/master/images/logo.png\" width=\"10%\">\n",
    "\n",
    "<img src=\"https://github.com/MaartenGr/BERTopic/blob/master/docs/img/algorithm.png?raw=true\" width=\"50%\">\n",
    "\n",
    "<img src=\"https://maartengr.github.io/BERTopic/algorithm/default.svg\" width=\"20%\">"
   ]
  },
  {
   "cell_type": "markdown",
   "metadata": {
    "id": "lj2MUI9Mkdxu"
   },
   "source": [
    "# **Instalando o BERTopic**\n",
    "\n",
    "Começamos instalando o BERTopic do PyPi:"
   ]
  },
  {
   "cell_type": "code",
   "execution_count": null,
   "metadata": {
    "id": "SNa-KtKDRnus"
   },
   "outputs": [],
   "source": [
    "# %%capture\n",
    "# !pip install bertopic"
   ]
  },
  {
   "cell_type": "markdown",
   "metadata": {
    "id": "0ehO3emgk96g"
   },
   "source": [
    "## Importando dependências"
   ]
  },
  {
   "cell_type": "code",
   "execution_count": 1,
   "metadata": {
    "scrolled": true
   },
   "outputs": [
    {
     "name": "stderr",
     "output_type": "stream",
     "text": [
      "/home/adrielson/anaconda3/lib/python3.9/site-packages/umap/distances.py:1063: NumbaDeprecationWarning: \u001b[1mThe 'nopython' keyword argument was not supplied to the 'numba.jit' decorator. The implicit default value for this argument is currently False, but it will be changed to True in Numba 0.59.0. See https://numba.readthedocs.io/en/stable/reference/deprecation.html#deprecation-of-object-mode-fall-back-behaviour-when-using-jit for details.\u001b[0m\n",
      "  @numba.jit()\n",
      "/home/adrielson/anaconda3/lib/python3.9/site-packages/umap/distances.py:1071: NumbaDeprecationWarning: \u001b[1mThe 'nopython' keyword argument was not supplied to the 'numba.jit' decorator. The implicit default value for this argument is currently False, but it will be changed to True in Numba 0.59.0. See https://numba.readthedocs.io/en/stable/reference/deprecation.html#deprecation-of-object-mode-fall-back-behaviour-when-using-jit for details.\u001b[0m\n",
      "  @numba.jit()\n",
      "/home/adrielson/anaconda3/lib/python3.9/site-packages/umap/distances.py:1086: NumbaDeprecationWarning: \u001b[1mThe 'nopython' keyword argument was not supplied to the 'numba.jit' decorator. The implicit default value for this argument is currently False, but it will be changed to True in Numba 0.59.0. See https://numba.readthedocs.io/en/stable/reference/deprecation.html#deprecation-of-object-mode-fall-back-behaviour-when-using-jit for details.\u001b[0m\n",
      "  @numba.jit()\n",
      "/home/adrielson/anaconda3/lib/python3.9/site-packages/umap/umap_.py:660: NumbaDeprecationWarning: \u001b[1mThe 'nopython' keyword argument was not supplied to the 'numba.jit' decorator. The implicit default value for this argument is currently False, but it will be changed to True in Numba 0.59.0. See https://numba.readthedocs.io/en/stable/reference/deprecation.html#deprecation-of-object-mode-fall-back-behaviour-when-using-jit for details.\u001b[0m\n",
      "  @numba.jit()\n"
     ]
    }
   ],
   "source": [
    "import pandas as pd\n",
    "from bertopic import BERTopic"
   ]
  },
  {
   "cell_type": "markdown",
   "metadata": {
    "id": "Y3VGFZ1USMTu"
   },
   "source": [
    "# Importando conjunto de dados\n",
    "\n",
    "Para este projeto, usaremos um conjunto de dados de vagas de emprego na área da bioinformática."
   ]
  },
  {
   "cell_type": "code",
   "execution_count": 2,
   "metadata": {
    "id": "JJij3WP6SEQD",
    "scrolled": true
   },
   "outputs": [
    {
     "data": {
      "text/html": [
       "<div>\n",
       "<style scoped>\n",
       "    .dataframe tbody tr th:only-of-type {\n",
       "        vertical-align: middle;\n",
       "    }\n",
       "\n",
       "    .dataframe tbody tr th {\n",
       "        vertical-align: top;\n",
       "    }\n",
       "\n",
       "    .dataframe thead th {\n",
       "        text-align: right;\n",
       "    }\n",
       "</style>\n",
       "<table border=\"1\" class=\"dataframe\">\n",
       "  <thead>\n",
       "    <tr style=\"text-align: right;\">\n",
       "      <th></th>\n",
       "      <th>Unnamed: 0.2</th>\n",
       "      <th>Unnamed: 0.1</th>\n",
       "      <th>Unnamed: 0</th>\n",
       "      <th>id</th>\n",
       "      <th>title</th>\n",
       "      <th>text</th>\n",
       "      <th>humanLanguage</th>\n",
       "      <th>pageUrl</th>\n",
       "      <th>requirements</th>\n",
       "      <th>tasks</th>\n",
       "      <th>word_count</th>\n",
       "      <th>language</th>\n",
       "      <th>text_result</th>\n",
       "    </tr>\n",
       "  </thead>\n",
       "  <tbody>\n",
       "    <tr>\n",
       "      <th>0</th>\n",
       "      <td>0</td>\n",
       "      <td>0</td>\n",
       "      <td>0</td>\n",
       "      <td>JOB13030080891</td>\n",
       "      <td>Social Media &amp; Web Management Internship</td>\n",
       "      <td>\\nIntroduction\\nThe Social Media &amp; Web Managem...</td>\n",
       "      <td>en</td>\n",
       "      <td>https://www.nps.gov/hafe/getinvolved/supportyo...</td>\n",
       "      <td>If not selected for this internship, please in...</td>\n",
       "      <td>Assist in creating and managing social media (...</td>\n",
       "      <td>501</td>\n",
       "      <td>en</td>\n",
       "      <td>introductionthe social media web management i...</td>\n",
       "    </tr>\n",
       "    <tr>\n",
       "      <th>1</th>\n",
       "      <td>1</td>\n",
       "      <td>1</td>\n",
       "      <td>1</td>\n",
       "      <td>JOB14899553632</td>\n",
       "      <td>Social Media Coordinator</td>\n",
       "      <td>ABOUT US\\nThirty-Three Threads is an industry ...</td>\n",
       "      <td>en</td>\n",
       "      <td>https://www.linkedin.com/jobs/view/social-medi...</td>\n",
       "      <td>Bachelor’s degree in marketing or related fiel...</td>\n",
       "      <td>Responsible for daily content reaching followe...</td>\n",
       "      <td>710</td>\n",
       "      <td>en</td>\n",
       "      <td>usthirty three threads industry leader high p...</td>\n",
       "    </tr>\n",
       "    <tr>\n",
       "      <th>2</th>\n",
       "      <td>2</td>\n",
       "      <td>2</td>\n",
       "      <td>2</td>\n",
       "      <td>JOB25352725960</td>\n",
       "      <td>Web Strategy and Social Media Jobs</td>\n",
       "      <td>\\nThe Web Manager will become part of an exper...</td>\n",
       "      <td>en</td>\n",
       "      <td>https://web.archive.org/web/20110413001938/htt...</td>\n",
       "      <td>NaN</td>\n",
       "      <td>NaN</td>\n",
       "      <td>570</td>\n",
       "      <td>en</td>\n",
       "      <td>web manager experienced interactive team hous...</td>\n",
       "    </tr>\n",
       "    <tr>\n",
       "      <th>3</th>\n",
       "      <td>3</td>\n",
       "      <td>3</td>\n",
       "      <td>3</td>\n",
       "      <td>JOB25520053244</td>\n",
       "      <td>Social Media and Communications Manager (m/f) ...</td>\n",
       "      <td>\\nwith high affinity to life sciences\\nfull ti...</td>\n",
       "      <td>en</td>\n",
       "      <td>http://www.nature.com/naturejobs/science/jobs/...</td>\n",
       "      <td>NaN</td>\n",
       "      <td>Development and design of internal and externa...</td>\n",
       "      <td>714</td>\n",
       "      <td>en</td>\n",
       "      <td>high affinity life sciencesfull 40 hrs playin...</td>\n",
       "    </tr>\n",
       "    <tr>\n",
       "      <th>4</th>\n",
       "      <td>4</td>\n",
       "      <td>4</td>\n",
       "      <td>4</td>\n",
       "      <td>JOB31104822195</td>\n",
       "      <td>Job opening: Social Media Producer</td>\n",
       "      <td>\\nThis is a position on our core social team, ...</td>\n",
       "      <td>en</td>\n",
       "      <td>http://www.washingtonpost.com/wapo-audience-te...</td>\n",
       "      <td>2+ years of journalism experience. Reporting/b...</td>\n",
       "      <td>NaN</td>\n",
       "      <td>407</td>\n",
       "      <td>en</td>\n",
       "      <td>core social team responsible post main brande...</td>\n",
       "    </tr>\n",
       "  </tbody>\n",
       "</table>\n",
       "</div>"
      ],
      "text/plain": [
       "   Unnamed: 0.2  Unnamed: 0.1  Unnamed: 0              id  \\\n",
       "0             0             0           0  JOB13030080891   \n",
       "1             1             1           1  JOB14899553632   \n",
       "2             2             2           2  JOB25352725960   \n",
       "3             3             3           3  JOB25520053244   \n",
       "4             4             4           4  JOB31104822195   \n",
       "\n",
       "                                               title  \\\n",
       "0           Social Media & Web Management Internship   \n",
       "1                           Social Media Coordinator   \n",
       "2                 Web Strategy and Social Media Jobs   \n",
       "3  Social Media and Communications Manager (m/f) ...   \n",
       "4                 Job opening: Social Media Producer   \n",
       "\n",
       "                                                text humanLanguage  \\\n",
       "0  \\nIntroduction\\nThe Social Media & Web Managem...            en   \n",
       "1  ABOUT US\\nThirty-Three Threads is an industry ...            en   \n",
       "2  \\nThe Web Manager will become part of an exper...            en   \n",
       "3  \\nwith high affinity to life sciences\\nfull ti...            en   \n",
       "4  \\nThis is a position on our core social team, ...            en   \n",
       "\n",
       "                                             pageUrl  \\\n",
       "0  https://www.nps.gov/hafe/getinvolved/supportyo...   \n",
       "1  https://www.linkedin.com/jobs/view/social-medi...   \n",
       "2  https://web.archive.org/web/20110413001938/htt...   \n",
       "3  http://www.nature.com/naturejobs/science/jobs/...   \n",
       "4  http://www.washingtonpost.com/wapo-audience-te...   \n",
       "\n",
       "                                        requirements  \\\n",
       "0  If not selected for this internship, please in...   \n",
       "1  Bachelor’s degree in marketing or related fiel...   \n",
       "2                                                NaN   \n",
       "3                                                NaN   \n",
       "4  2+ years of journalism experience. Reporting/b...   \n",
       "\n",
       "                                               tasks  word_count language  \\\n",
       "0  Assist in creating and managing social media (...         501       en   \n",
       "1  Responsible for daily content reaching followe...         710       en   \n",
       "2                                                NaN         570       en   \n",
       "3  Development and design of internal and externa...         714       en   \n",
       "4                                                NaN         407       en   \n",
       "\n",
       "                                         text_result  \n",
       "0   introductionthe social media web management i...  \n",
       "1   usthirty three threads industry leader high p...  \n",
       "2   web manager experienced interactive team hous...  \n",
       "3   high affinity life sciencesfull 40 hrs playin...  \n",
       "4   core social team responsible post main brande...  "
      ]
     },
     "execution_count": 2,
     "metadata": {},
     "output_type": "execute_result"
    }
   ],
   "source": [
    "docs = pd.read_csv('vagas_social_midia_preprocessado3.csv')\n",
    "docs.head()"
   ]
  },
  {
   "cell_type": "markdown",
   "metadata": {
    "id": "SBcNmZJzSTY8"
   },
   "source": [
    "# **Modelagem de Tópicos**\n",
    "\n",
    "Neste exemplo, veremos os principais componentes do BERTopic e as etapas necessárias para criar um modelo de tópico forte."
   ]
  },
  {
   "cell_type": "markdown",
   "metadata": {
    "id": "QI6vwelqnTL-"
   },
   "source": [
    "## Treinamento\n",
    "\n",
    "Começamos instanciando BERTopic. Definimos o idioma como 'inglês', pois nossos documentos estão no idioma inglês. Se você quiser usar um modelo multilíngue, use `language=\"multilingual\"`.\n",
    "\n",
    "Também calcularemos as probabilidades do tópico. No entanto, isso pode tornar o BERTopic significativamente mais lento em grandes quantidades de dados (>100_000 documentos). É aconselhável desativá-lo se quiser acelerar o modelo."
   ]
  },
  {
   "cell_type": "code",
   "execution_count": null,
   "metadata": {},
   "outputs": [],
   "source": [
    "# Ajustando parâmetros do UMAP (https://medium.com/grabngoinfo/topic-modeling-with-deep-learning-using-python-bertopic-cf91f5676504)\n",
    "# Dimension reduction\n",
    "from umap import UMAP\n",
    "umap_model = UMAP(n_neighbors=15, \n",
    "                  n_components=5, \n",
    "                  min_dist=0.0, \n",
    "                  metric='cosine', \n",
    "                  random_state=100)\n",
    "# Initiate BERTopic\n",
    "topic_model = BERTopic(umap_model=umap_model, language=\"english\", calculate_probabilities=True)\n",
    "topics, probs = topic_model.fit_transform(docs.text_result)"
   ]
  },
  {
   "cell_type": "code",
   "execution_count": 3,
   "metadata": {},
   "outputs": [],
   "source": [
    "docs2 = docs.head(2000)"
   ]
  },
  {
   "cell_type": "code",
   "execution_count": null,
   "metadata": {
    "id": "TfhfzqkoSJ1I",
    "scrolled": true
   },
   "outputs": [
    {
     "data": {
      "application/vnd.jupyter.widget-view+json": {
       "model_id": "3e856d0f2b9e466992fc7d617eff4e25",
       "version_major": 2,
       "version_minor": 0
      },
      "text/plain": [
       "Batches:   0%|          | 0/63 [00:00<?, ?it/s]"
      ]
     },
     "metadata": {},
     "output_type": "display_data"
    }
   ],
   "source": [
    "#PADRÃO (usar esse)\n",
    "topic_model = BERTopic(language=\"english\", calculate_probabilities=True, verbose=True) #, nr_topics = 20)\n",
    "topics, probs = topic_model.fit_transform(docs2.text_result)"
   ]
  },
  {
   "cell_type": "code",
   "execution_count": null,
   "metadata": {},
   "outputs": [],
   "source": [
    "# topic_model2 = topic_model.reduce_topics(docs.text_result, nr_topics=10)"
   ]
  },
  {
   "cell_type": "markdown",
   "metadata": {
    "id": "tJs94tXDo4f6"
   },
   "source": [
    "**NOTA**: Use `language=\"multilingual\"` para selecionar um modelo que suporte mais de 50 idiomas."
   ]
  },
  {
   "cell_type": "markdown",
   "metadata": {
    "id": "A5O3KpHTnVpz"
   },
   "source": [
    "## Extraindo Tópicos\n",
    "Depois de ajustar nosso modelo, podemos começar observando os resultados. Normalmente, examinamos primeiro os tópicos mais frequentes, pois eles representam melhor a coleção de documentos."
   ]
  },
  {
   "cell_type": "code",
   "execution_count": 6,
   "metadata": {},
   "outputs": [
    {
     "data": {
      "text/plain": [
       "284"
      ]
     },
     "execution_count": 6,
     "metadata": {},
     "output_type": "execute_result"
    }
   ],
   "source": [
    "len(topic_model.get_topic_info())"
   ]
  },
  {
   "cell_type": "code",
   "execution_count": 7,
   "metadata": {
    "colab": {
     "base_uri": "https://localhost:8080/",
     "height": 195
    },
    "id": "ScBUgXn06IK6",
    "outputId": "ee49a346-8d12-41c4-c7e9-8c1b6782c636"
   },
   "outputs": [
    {
     "data": {
      "text/html": [
       "<div>\n",
       "<style scoped>\n",
       "    .dataframe tbody tr th:only-of-type {\n",
       "        vertical-align: middle;\n",
       "    }\n",
       "\n",
       "    .dataframe tbody tr th {\n",
       "        vertical-align: top;\n",
       "    }\n",
       "\n",
       "    .dataframe thead th {\n",
       "        text-align: right;\n",
       "    }\n",
       "</style>\n",
       "<table border=\"1\" class=\"dataframe\">\n",
       "  <thead>\n",
       "    <tr style=\"text-align: right;\">\n",
       "      <th></th>\n",
       "      <th>Topic</th>\n",
       "      <th>Count</th>\n",
       "      <th>Name</th>\n",
       "      <th>Representation</th>\n",
       "      <th>Representative_Docs</th>\n",
       "    </tr>\n",
       "  </thead>\n",
       "  <tbody>\n",
       "    <tr>\n",
       "      <th>0</th>\n",
       "      <td>-1</td>\n",
       "      <td>1600</td>\n",
       "      <td>-1_productdescription30dayonlinetotaltalentrea...</td>\n",
       "      <td>[productdescription30dayonlinetotaltalentreach...</td>\n",
       "      <td>[productdescription30dayonlinetotaltalentreach...</td>\n",
       "    </tr>\n",
       "    <tr>\n",
       "      <th>1</th>\n",
       "      <td>0</td>\n",
       "      <td>730</td>\n",
       "      <td>0_yearssocialdigitalmarketingexperienceatleast...</td>\n",
       "      <td>[yearssocialdigitalmarketingexperienceatleast3...</td>\n",
       "      <td>[informationpositionpurposethemanagersocialmed...</td>\n",
       "    </tr>\n",
       "    <tr>\n",
       "      <th>2</th>\n",
       "      <td>1</td>\n",
       "      <td>138</td>\n",
       "      <td>1_mondayeconomicdigestsinceindustrystransforma...</td>\n",
       "      <td>[mondayeconomicdigestsinceindustrystransformat...</td>\n",
       "      <td>[mediagrouponeleadersmediamarketleveragingcons...</td>\n",
       "    </tr>\n",
       "    <tr>\n",
       "      <th>3</th>\n",
       "      <td>2</td>\n",
       "      <td>122</td>\n",
       "      <td>2_wwwfairytrailapphelpteamscalestartupsourcing...</td>\n",
       "      <td>[wwwfairytrailapphelpteamscalestartupsourcingc...</td>\n",
       "      <td>[descriptionassocialmediainternaccountabledriv...</td>\n",
       "    </tr>\n",
       "    <tr>\n",
       "      <th>4</th>\n",
       "      <td>3</td>\n",
       "      <td>104</td>\n",
       "      <td>3_4monthcontractoctober2018january2019maternit...</td>\n",
       "      <td>[4monthcontractoctober2018january2019maternity...</td>\n",
       "      <td>[socialmediacoordinatorlocationyorkfunctionmar...</td>\n",
       "    </tr>\n",
       "    <tr>\n",
       "      <th>5</th>\n",
       "      <td>4</td>\n",
       "      <td>58</td>\n",
       "      <td>4_generalsummaryundersupervisiondirectorpublic...</td>\n",
       "      <td>[generalsummaryundersupervisiondirectorpublicr...</td>\n",
       "      <td>[briefdevelopsocialmediastrategyyourstartslook...</td>\n",
       "    </tr>\n",
       "    <tr>\n",
       "      <th>6</th>\n",
       "      <td>5</td>\n",
       "      <td>55</td>\n",
       "      <td>5_wwwleafgroupbrandsyoullreportdirectorbrandco...</td>\n",
       "      <td>[wwwleafgroupbrandsyoullreportdirectorbrandcom...</td>\n",
       "      <td>[society6homehundredsthousandsartistsaroundglo...</td>\n",
       "    </tr>\n",
       "    <tr>\n",
       "      <th>7</th>\n",
       "      <td>6</td>\n",
       "      <td>52</td>\n",
       "      <td>6_applicationsrolealwaysopenenquiriespassionat...</td>\n",
       "      <td>[applicationsrolealwaysopenenquiriespassionate...</td>\n",
       "      <td>[specialistsocialmediateamprincipaldataanalyst...</td>\n",
       "    </tr>\n",
       "    <tr>\n",
       "      <th>8</th>\n",
       "      <td>7</td>\n",
       "      <td>49</td>\n",
       "      <td>7_alpinestarscurrentlyseekingtalentedsocialmed...</td>\n",
       "      <td>[alpinestarscurrentlyseekingtalentedsocialmedi...</td>\n",
       "      <td>[descriptionagencywantbuildvisioninsteadsomeon...</td>\n",
       "    </tr>\n",
       "    <tr>\n",
       "      <th>9</th>\n",
       "      <td>8</td>\n",
       "      <td>48</td>\n",
       "      <td>8_yearsprofessionalexperience_yearsprofessiona...</td>\n",
       "      <td>[yearsprofessionalexperience, yearsprofessiona...</td>\n",
       "      <td>[descriptiontalentedknowledgeablecreativedigit...</td>\n",
       "    </tr>\n",
       "    <tr>\n",
       "      <th>10</th>\n",
       "      <td>9</td>\n",
       "      <td>47</td>\n",
       "      <td>9_advertisedbehalflocationistanbulturkeyapplic...</td>\n",
       "      <td>[advertisedbehalflocationistanbulturkeyapplica...</td>\n",
       "      <td>[salarygradec34454london29725nationalaboutuscq...</td>\n",
       "    </tr>\n",
       "    <tr>\n",
       "      <th>11</th>\n",
       "      <td>10</td>\n",
       "      <td>47</td>\n",
       "      <td>10_overviewarepassionatecreatingtrulyengagesau...</td>\n",
       "      <td>[overviewarepassionatecreatingtrulyengagesaudi...</td>\n",
       "      <td>[summarystorybuildsomethingbiggercomprisedcomp...</td>\n",
       "    </tr>\n",
       "    <tr>\n",
       "      <th>12</th>\n",
       "      <td>11</td>\n",
       "      <td>44</td>\n",
       "      <td>11_10monthsagooneworldslargestinvestorownedene...</td>\n",
       "      <td>[10monthsagooneworldslargestinvestorownedenerg...</td>\n",
       "      <td>[10monthsagooneworldslargestinvestorownedenerg...</td>\n",
       "    </tr>\n",
       "    <tr>\n",
       "      <th>13</th>\n",
       "      <td>12</td>\n",
       "      <td>43</td>\n",
       "      <td>12_locationpostedclosesindustryjobtypethisrole...</td>\n",
       "      <td>[locationpostedclosesindustryjobtypethisrolere...</td>\n",
       "      <td>[volunteersbackgroundtechnologymarketingvolunt...</td>\n",
       "    </tr>\n",
       "    <tr>\n",
       "      <th>14</th>\n",
       "      <td>13</td>\n",
       "      <td>43</td>\n",
       "      <td>13_yearsrelevantworkingexperiencenativeenglish...</td>\n",
       "      <td>[yearsrelevantworkingexperiencenativeenglishsp...</td>\n",
       "      <td>[hkthktsehk6823premiertelecommunicationsservic...</td>\n",
       "    </tr>\n",
       "    <tr>\n",
       "      <th>15</th>\n",
       "      <td>14</td>\n",
       "      <td>43</td>\n",
       "      <td>14_4575nonmembersduration60minutesregisterimme...</td>\n",
       "      <td>[4575nonmembersduration60minutesregisterimmedi...</td>\n",
       "      <td>[detailssocialmediacoordinatorinternationalpro...</td>\n",
       "    </tr>\n",
       "    <tr>\n",
       "      <th>16</th>\n",
       "      <td>15</td>\n",
       "      <td>41</td>\n",
       "      <td>15_yearsrelevantexperiencedemonstratedsuccesss...</td>\n",
       "      <td>[yearsrelevantexperiencedemonstratedsuccesssoc...</td>\n",
       "      <td>[candidatesmustprovidecoverletterresumefractur...</td>\n",
       "    </tr>\n",
       "    <tr>\n",
       "      <th>17</th>\n",
       "      <td>16</td>\n",
       "      <td>40</td>\n",
       "      <td>16_3756views01jul2011thesocialmediarevolutionc...</td>\n",
       "      <td>[3756views01jul2011thesocialmediarevolutioncha...</td>\n",
       "      <td>[introductionthebbcworldserviceembarkingexciti...</td>\n",
       "    </tr>\n",
       "    <tr>\n",
       "      <th>18</th>\n",
       "      <td>17</td>\n",
       "      <td>39</td>\n",
       "      <td>17_facebookmonitorexistingonlineconversationsw...</td>\n",
       "      <td>[facebookmonitorexistingonlineconversationswel...</td>\n",
       "      <td>[importantwantboringsomethingelsefastpacedchal...</td>\n",
       "    </tr>\n",
       "    <tr>\n",
       "      <th>19</th>\n",
       "      <td>18</td>\n",
       "      <td>37</td>\n",
       "      <td>18_prsocialmediainternshiphelplingcompanyhelpl...</td>\n",
       "      <td>[prsocialmediainternshiphelplingcompanyhelplin...</td>\n",
       "      <td>[swiftindiamergeartdesigntechnologyexcitingcom...</td>\n",
       "    </tr>\n",
       "    <tr>\n",
       "      <th>20</th>\n",
       "      <td>19</td>\n",
       "      <td>37</td>\n",
       "      <td>19_challengingdiverseinternshipawaitsintellige...</td>\n",
       "      <td>[challengingdiverseinternshipawaitsintelligent...</td>\n",
       "      <td>[challengingdiverseinternshipawaitsintelligent...</td>\n",
       "    </tr>\n",
       "    <tr>\n",
       "      <th>21</th>\n",
       "      <td>20</td>\n",
       "      <td>37</td>\n",
       "      <td>20_a127nycgovidbaridnumber234232_unpaidinterns...</td>\n",
       "      <td>[a127nycgovidbaridnumber234232, unpaidinternsh...</td>\n",
       "      <td>[freelancejobmanagereditorialstrategysocialmed...</td>\n",
       "    </tr>\n",
       "    <tr>\n",
       "      <th>22</th>\n",
       "      <td>21</td>\n",
       "      <td>35</td>\n",
       "      <td>21_highlyanalyticaldatadriven_strongknowledges...</td>\n",
       "      <td>[highlyanalyticaldatadriven, strongknowledgeso...</td>\n",
       "      <td>[seniorpaidsocialmediamanagerbritishfashionfoo...</td>\n",
       "    </tr>\n",
       "    <tr>\n",
       "      <th>23</th>\n",
       "      <td>22</td>\n",
       "      <td>35</td>\n",
       "      <td>22_generalsummarydutiesassociaterecruitersocia...</td>\n",
       "      <td>[generalsummarydutiesassociaterecruitersocialm...</td>\n",
       "      <td>[socialmediaskillshelporganisationprojectbackg...</td>\n",
       "    </tr>\n",
       "    <tr>\n",
       "      <th>24</th>\n",
       "      <td>23</td>\n",
       "      <td>31</td>\n",
       "      <td>23_socialmediadigitalspecialistbostonunitedsta...</td>\n",
       "      <td>[socialmediadigitalspecialistbostonunitedstate...</td>\n",
       "      <td>[writerstraineesindiawriterswantedwritersvacan...</td>\n",
       "    </tr>\n",
       "    <tr>\n",
       "      <th>25</th>\n",
       "      <td>24</td>\n",
       "      <td>31</td>\n",
       "      <td>24_bestbodybootcamponetorontoleadingfitnesscom...</td>\n",
       "      <td>[bestbodybootcamponetorontoleadingfitnesscompa...</td>\n",
       "      <td>[marketingspecialistpostadsmarketingspecialist...</td>\n",
       "    </tr>\n",
       "    <tr>\n",
       "      <th>26</th>\n",
       "      <td>25</td>\n",
       "      <td>30</td>\n",
       "      <td>25_juniorsocialmediacommunitymanagerremunerati...</td>\n",
       "      <td>[juniorsocialmediacommunitymanagerremuneration...</td>\n",
       "      <td>[introductionthebbccommittedjournalisticexcell...</td>\n",
       "    </tr>\n",
       "    <tr>\n",
       "      <th>27</th>\n",
       "      <td>26</td>\n",
       "      <td>29</td>\n",
       "      <td>26_mommyonlinemarketingprocessorshomegreatoppo...</td>\n",
       "      <td>[mommyonlinemarketingprocessorshomegreatopport...</td>\n",
       "      <td>[socialmediamarketingexecentrepreneurialcreati...</td>\n",
       "    </tr>\n",
       "    <tr>\n",
       "      <th>28</th>\n",
       "      <td>27</td>\n",
       "      <td>28</td>\n",
       "      <td>27_internationalbusinesswithinretailspaceoppor...</td>\n",
       "      <td>[internationalbusinesswithinretailspaceopportu...</td>\n",
       "      <td>[clientboutiquebrandingagencylookingbringsocia...</td>\n",
       "    </tr>\n",
       "    <tr>\n",
       "      <th>29</th>\n",
       "      <td>28</td>\n",
       "      <td>28</td>\n",
       "      <td>28_midlevelsocialmediaexpertourclientleadingbt...</td>\n",
       "      <td>[midlevelsocialmediaexpertourclientleadingbtla...</td>\n",
       "      <td>[fieldstudycomputerengineeringcomputersciencei...</td>\n",
       "    </tr>\n",
       "    <tr>\n",
       "      <th>30</th>\n",
       "      <td>29</td>\n",
       "      <td>28</td>\n",
       "      <td>29_internationalinfluencerrelationshipmarketin...</td>\n",
       "      <td>[internationalinfluencerrelationshipmarketings...</td>\n",
       "      <td>[finchglowtravelsworldclasstravelmanagementcom...</td>\n",
       "    </tr>\n",
       "    <tr>\n",
       "      <th>31</th>\n",
       "      <td>30</td>\n",
       "      <td>28</td>\n",
       "      <td>30_fabulousopportunitysocialmediawhizzdigitalm...</td>\n",
       "      <td>[fabulousopportunitysocialmediawhizzdigitalmar...</td>\n",
       "      <td>[socialmediaspecialist2700030000londondoenjoyc...</td>\n",
       "    </tr>\n",
       "    <tr>\n",
       "      <th>32</th>\n",
       "      <td>31</td>\n",
       "      <td>28</td>\n",
       "      <td>31_candidatespreviouslydisadvantagedbackground...</td>\n",
       "      <td>[candidatespreviouslydisadvantagedbackgroundgi...</td>\n",
       "      <td>[superbopportunityjuniorsocialmediaeventscoord...</td>\n",
       "    </tr>\n",
       "    <tr>\n",
       "      <th>33</th>\n",
       "      <td>32</td>\n",
       "      <td>27</td>\n",
       "      <td>32_hostedadpagehospitalitycompanyseekssocialme...</td>\n",
       "      <td>[hostedadpagehospitalitycompanyseekssocialmedi...</td>\n",
       "      <td>[growbusinesssocialmediaincreasebrandawareness...</td>\n",
       "    </tr>\n",
       "    <tr>\n",
       "      <th>34</th>\n",
       "      <td>33</td>\n",
       "      <td>27</td>\n",
       "      <td>33_youyouvecreatedorganicsocialmediastrategies...</td>\n",
       "      <td>[youyouvecreatedorganicsocialmediastrategiesbu...</td>\n",
       "      <td>[editingpublishingservicescompanyneedsapplican...</td>\n",
       "    </tr>\n",
       "    <tr>\n",
       "      <th>35</th>\n",
       "      <td>34</td>\n",
       "      <td>27</td>\n",
       "      <td>34_descriptionusingexperiencesuccessfulwriterd...</td>\n",
       "      <td>[descriptionusingexperiencesuccessfulwriterdig...</td>\n",
       "      <td>[experiencestudyingdegreediplomaprmarketingfas...</td>\n",
       "    </tr>\n",
       "    <tr>\n",
       "      <th>36</th>\n",
       "      <td>35</td>\n",
       "      <td>26</td>\n",
       "      <td>35_locationpostedclosesindustryjobtypebrandali...</td>\n",
       "      <td>[locationpostedclosesindustryjobtypebrandalism...</td>\n",
       "      <td>[officeadmininformationqualificationsuniversit...</td>\n",
       "    </tr>\n",
       "    <tr>\n",
       "      <th>37</th>\n",
       "      <td>36</td>\n",
       "      <td>25</td>\n",
       "      <td>36_marketingtractorsupplycompanytscolargestret...</td>\n",
       "      <td>[marketingtractorsupplycompanytscolargestretai...</td>\n",
       "      <td>[establishingprofessionaldigitalpresencehelpla...</td>\n",
       "    </tr>\n",
       "    <tr>\n",
       "      <th>38</th>\n",
       "      <td>37</td>\n",
       "      <td>25</td>\n",
       "      <td>37_descriptionninety9centsserviceintegratedadv...</td>\n",
       "      <td>[descriptionninety9centsserviceintegratedadver...</td>\n",
       "      <td>[socialmediacommunicationsassociatetransparenc...</td>\n",
       "    </tr>\n",
       "    <tr>\n",
       "      <th>39</th>\n",
       "      <td>38</td>\n",
       "      <td>24</td>\n",
       "      <td>38_descriptionsocialmediamanagermumbaiworkexpe...</td>\n",
       "      <td>[descriptionsocialmediamanagermumbaiworkexperi...</td>\n",
       "      <td>[handlingfacetssocialmedialikecreationanalysis...</td>\n",
       "    </tr>\n",
       "    <tr>\n",
       "      <th>40</th>\n",
       "      <td>39</td>\n",
       "      <td>24</td>\n",
       "      <td>39_socialmediastrategistplayavistaunitedstates...</td>\n",
       "      <td>[socialmediastrategistplayavistaunitedstatesli...</td>\n",
       "      <td>[socialmediastrategistplayavistaunitedstatesli...</td>\n",
       "    </tr>\n",
       "    <tr>\n",
       "      <th>41</th>\n",
       "      <td>40</td>\n",
       "      <td>23</td>\n",
       "      <td>40_paidinternshipdivisionoverviewsocialteamsre...</td>\n",
       "      <td>[paidinternshipdivisionoverviewsocialteamsresp...</td>\n",
       "      <td>[lookslikemissedoneremoved8172020100400pstnotw...</td>\n",
       "    </tr>\n",
       "    <tr>\n",
       "      <th>42</th>\n",
       "      <td>41</td>\n",
       "      <td>22</td>\n",
       "      <td>41_clientcreativeagencyseekingsocialmediadesig...</td>\n",
       "      <td>[clientcreativeagencyseekingsocialmediadesigne...</td>\n",
       "      <td>[clientcreativeagencyseekingsocialmediadesigne...</td>\n",
       "    </tr>\n",
       "    <tr>\n",
       "      <th>43</th>\n",
       "      <td>42</td>\n",
       "      <td>22</td>\n",
       "      <td>42_highlycreativeresourcefulvisionaryindividua...</td>\n",
       "      <td>[highlycreativeresourcefulvisionaryindividualc...</td>\n",
       "      <td>[locationpostedclosesindustryjobtypewelookingd...</td>\n",
       "    </tr>\n",
       "    <tr>\n",
       "      <th>44</th>\n",
       "      <td>43</td>\n",
       "      <td>21</td>\n",
       "      <td>43_1999pages1234567891011next_32968pages123456...</td>\n",
       "      <td>[1999pages1234567891011next, 32968pages1234567...</td>\n",
       "      <td>[skipwordlistomittednoteexactphrasesbeginnings...</td>\n",
       "    </tr>\n",
       "    <tr>\n",
       "      <th>45</th>\n",
       "      <td>44</td>\n",
       "      <td>21</td>\n",
       "      <td>44_iveconvincedhiresocialmediamanagershowhireo...</td>\n",
       "      <td>[iveconvincedhiresocialmediamanagershowhireone...</td>\n",
       "      <td>[publicrecordssocialmediaplatforms2022statedep...</td>\n",
       "    </tr>\n",
       "    <tr>\n",
       "      <th>46</th>\n",
       "      <td>45</td>\n",
       "      <td>21</td>\n",
       "      <td>45_commissionexperiencedfreshcan8hoursagoentic...</td>\n",
       "      <td>[commissionexperiencedfreshcan8hoursagoenticek...</td>\n",
       "      <td>[jobsearchdbseosocialmediamarketersopeningskar...</td>\n",
       "    </tr>\n",
       "    <tr>\n",
       "      <th>47</th>\n",
       "      <td>46</td>\n",
       "      <td>20</td>\n",
       "      <td>46_yearsworkingsocialmediamarketing2_descripti...</td>\n",
       "      <td>[yearsworkingsocialmediamarketing2, descriptio...</td>\n",
       "      <td>[descriptionaresomeonekeepsfingerpulsethingsso...</td>\n",
       "    </tr>\n",
       "    <tr>\n",
       "      <th>48</th>\n",
       "      <td>47</td>\n",
       "      <td>20</td>\n",
       "      <td>47_juniorintermediatearchitectureinteriorsdraf...</td>\n",
       "      <td>[juniorintermediatearchitectureinteriorsdrafts...</td>\n",
       "      <td>[socialmediadigitalcommunicationscoordinatorhu...</td>\n",
       "    </tr>\n",
       "    <tr>\n",
       "      <th>49</th>\n",
       "      <td>48</td>\n",
       "      <td>20</td>\n",
       "      <td>48_companydescriptioncanreallyreachwholeworldw...</td>\n",
       "      <td>[companydescriptioncanreallyreachwholeworldwor...</td>\n",
       "      <td>[requisitionid5563jobrequisition# 5563socialme...</td>\n",
       "    </tr>\n",
       "    <tr>\n",
       "      <th>50</th>\n",
       "      <td>49</td>\n",
       "      <td>20</td>\n",
       "      <td>49_descriptionwelookingexperiencedcopyeditorpl...</td>\n",
       "      <td>[descriptionwelookingexperiencedcopyeditorplay...</td>\n",
       "      <td>[descriptionwelookingexperiencedcopyeditorplay...</td>\n",
       "    </tr>\n",
       "  </tbody>\n",
       "</table>\n",
       "</div>"
      ],
      "text/plain": [
       "    Topic  Count                                               Name  \\\n",
       "0      -1   1600  -1_productdescription30dayonlinetotaltalentrea...   \n",
       "1       0    730  0_yearssocialdigitalmarketingexperienceatleast...   \n",
       "2       1    138  1_mondayeconomicdigestsinceindustrystransforma...   \n",
       "3       2    122  2_wwwfairytrailapphelpteamscalestartupsourcing...   \n",
       "4       3    104  3_4monthcontractoctober2018january2019maternit...   \n",
       "5       4     58  4_generalsummaryundersupervisiondirectorpublic...   \n",
       "6       5     55  5_wwwleafgroupbrandsyoullreportdirectorbrandco...   \n",
       "7       6     52  6_applicationsrolealwaysopenenquiriespassionat...   \n",
       "8       7     49  7_alpinestarscurrentlyseekingtalentedsocialmed...   \n",
       "9       8     48  8_yearsprofessionalexperience_yearsprofessiona...   \n",
       "10      9     47  9_advertisedbehalflocationistanbulturkeyapplic...   \n",
       "11     10     47  10_overviewarepassionatecreatingtrulyengagesau...   \n",
       "12     11     44  11_10monthsagooneworldslargestinvestorownedene...   \n",
       "13     12     43  12_locationpostedclosesindustryjobtypethisrole...   \n",
       "14     13     43  13_yearsrelevantworkingexperiencenativeenglish...   \n",
       "15     14     43  14_4575nonmembersduration60minutesregisterimme...   \n",
       "16     15     41  15_yearsrelevantexperiencedemonstratedsuccesss...   \n",
       "17     16     40  16_3756views01jul2011thesocialmediarevolutionc...   \n",
       "18     17     39  17_facebookmonitorexistingonlineconversationsw...   \n",
       "19     18     37  18_prsocialmediainternshiphelplingcompanyhelpl...   \n",
       "20     19     37  19_challengingdiverseinternshipawaitsintellige...   \n",
       "21     20     37  20_a127nycgovidbaridnumber234232_unpaidinterns...   \n",
       "22     21     35  21_highlyanalyticaldatadriven_strongknowledges...   \n",
       "23     22     35  22_generalsummarydutiesassociaterecruitersocia...   \n",
       "24     23     31  23_socialmediadigitalspecialistbostonunitedsta...   \n",
       "25     24     31  24_bestbodybootcamponetorontoleadingfitnesscom...   \n",
       "26     25     30  25_juniorsocialmediacommunitymanagerremunerati...   \n",
       "27     26     29  26_mommyonlinemarketingprocessorshomegreatoppo...   \n",
       "28     27     28  27_internationalbusinesswithinretailspaceoppor...   \n",
       "29     28     28  28_midlevelsocialmediaexpertourclientleadingbt...   \n",
       "30     29     28  29_internationalinfluencerrelationshipmarketin...   \n",
       "31     30     28  30_fabulousopportunitysocialmediawhizzdigitalm...   \n",
       "32     31     28  31_candidatespreviouslydisadvantagedbackground...   \n",
       "33     32     27  32_hostedadpagehospitalitycompanyseekssocialme...   \n",
       "34     33     27  33_youyouvecreatedorganicsocialmediastrategies...   \n",
       "35     34     27  34_descriptionusingexperiencesuccessfulwriterd...   \n",
       "36     35     26  35_locationpostedclosesindustryjobtypebrandali...   \n",
       "37     36     25  36_marketingtractorsupplycompanytscolargestret...   \n",
       "38     37     25  37_descriptionninety9centsserviceintegratedadv...   \n",
       "39     38     24  38_descriptionsocialmediamanagermumbaiworkexpe...   \n",
       "40     39     24  39_socialmediastrategistplayavistaunitedstates...   \n",
       "41     40     23  40_paidinternshipdivisionoverviewsocialteamsre...   \n",
       "42     41     22  41_clientcreativeagencyseekingsocialmediadesig...   \n",
       "43     42     22  42_highlycreativeresourcefulvisionaryindividua...   \n",
       "44     43     21  43_1999pages1234567891011next_32968pages123456...   \n",
       "45     44     21  44_iveconvincedhiresocialmediamanagershowhireo...   \n",
       "46     45     21  45_commissionexperiencedfreshcan8hoursagoentic...   \n",
       "47     46     20  46_yearsworkingsocialmediamarketing2_descripti...   \n",
       "48     47     20  47_juniorintermediatearchitectureinteriorsdraf...   \n",
       "49     48     20  48_companydescriptioncanreallyreachwholeworldw...   \n",
       "50     49     20  49_descriptionwelookingexperiencedcopyeditorpl...   \n",
       "\n",
       "                                       Representation  \\\n",
       "0   [productdescription30dayonlinetotaltalentreach...   \n",
       "1   [yearssocialdigitalmarketingexperienceatleast3...   \n",
       "2   [mondayeconomicdigestsinceindustrystransformat...   \n",
       "3   [wwwfairytrailapphelpteamscalestartupsourcingc...   \n",
       "4   [4monthcontractoctober2018january2019maternity...   \n",
       "5   [generalsummaryundersupervisiondirectorpublicr...   \n",
       "6   [wwwleafgroupbrandsyoullreportdirectorbrandcom...   \n",
       "7   [applicationsrolealwaysopenenquiriespassionate...   \n",
       "8   [alpinestarscurrentlyseekingtalentedsocialmedi...   \n",
       "9   [yearsprofessionalexperience, yearsprofessiona...   \n",
       "10  [advertisedbehalflocationistanbulturkeyapplica...   \n",
       "11  [overviewarepassionatecreatingtrulyengagesaudi...   \n",
       "12  [10monthsagooneworldslargestinvestorownedenerg...   \n",
       "13  [locationpostedclosesindustryjobtypethisrolere...   \n",
       "14  [yearsrelevantworkingexperiencenativeenglishsp...   \n",
       "15  [4575nonmembersduration60minutesregisterimmedi...   \n",
       "16  [yearsrelevantexperiencedemonstratedsuccesssoc...   \n",
       "17  [3756views01jul2011thesocialmediarevolutioncha...   \n",
       "18  [facebookmonitorexistingonlineconversationswel...   \n",
       "19  [prsocialmediainternshiphelplingcompanyhelplin...   \n",
       "20  [challengingdiverseinternshipawaitsintelligent...   \n",
       "21  [a127nycgovidbaridnumber234232, unpaidinternsh...   \n",
       "22  [highlyanalyticaldatadriven, strongknowledgeso...   \n",
       "23  [generalsummarydutiesassociaterecruitersocialm...   \n",
       "24  [socialmediadigitalspecialistbostonunitedstate...   \n",
       "25  [bestbodybootcamponetorontoleadingfitnesscompa...   \n",
       "26  [juniorsocialmediacommunitymanagerremuneration...   \n",
       "27  [mommyonlinemarketingprocessorshomegreatopport...   \n",
       "28  [internationalbusinesswithinretailspaceopportu...   \n",
       "29  [midlevelsocialmediaexpertourclientleadingbtla...   \n",
       "30  [internationalinfluencerrelationshipmarketings...   \n",
       "31  [fabulousopportunitysocialmediawhizzdigitalmar...   \n",
       "32  [candidatespreviouslydisadvantagedbackgroundgi...   \n",
       "33  [hostedadpagehospitalitycompanyseekssocialmedi...   \n",
       "34  [youyouvecreatedorganicsocialmediastrategiesbu...   \n",
       "35  [descriptionusingexperiencesuccessfulwriterdig...   \n",
       "36  [locationpostedclosesindustryjobtypebrandalism...   \n",
       "37  [marketingtractorsupplycompanytscolargestretai...   \n",
       "38  [descriptionninety9centsserviceintegratedadver...   \n",
       "39  [descriptionsocialmediamanagermumbaiworkexperi...   \n",
       "40  [socialmediastrategistplayavistaunitedstatesli...   \n",
       "41  [paidinternshipdivisionoverviewsocialteamsresp...   \n",
       "42  [clientcreativeagencyseekingsocialmediadesigne...   \n",
       "43  [highlycreativeresourcefulvisionaryindividualc...   \n",
       "44  [1999pages1234567891011next, 32968pages1234567...   \n",
       "45  [iveconvincedhiresocialmediamanagershowhireone...   \n",
       "46  [commissionexperiencedfreshcan8hoursagoenticek...   \n",
       "47  [yearsworkingsocialmediamarketing2, descriptio...   \n",
       "48  [juniorintermediatearchitectureinteriorsdrafts...   \n",
       "49  [companydescriptioncanreallyreachwholeworldwor...   \n",
       "50  [descriptionwelookingexperiencedcopyeditorplay...   \n",
       "\n",
       "                                  Representative_Docs  \n",
       "0   [productdescription30dayonlinetotaltalentreach...  \n",
       "1   [informationpositionpurposethemanagersocialmed...  \n",
       "2   [mediagrouponeleadersmediamarketleveragingcons...  \n",
       "3   [descriptionassocialmediainternaccountabledriv...  \n",
       "4   [socialmediacoordinatorlocationyorkfunctionmar...  \n",
       "5   [briefdevelopsocialmediastrategyyourstartslook...  \n",
       "6   [society6homehundredsthousandsartistsaroundglo...  \n",
       "7   [specialistsocialmediateamprincipaldataanalyst...  \n",
       "8   [descriptionagencywantbuildvisioninsteadsomeon...  \n",
       "9   [descriptiontalentedknowledgeablecreativedigit...  \n",
       "10  [salarygradec34454london29725nationalaboutuscq...  \n",
       "11  [summarystorybuildsomethingbiggercomprisedcomp...  \n",
       "12  [10monthsagooneworldslargestinvestorownedenerg...  \n",
       "13  [volunteersbackgroundtechnologymarketingvolunt...  \n",
       "14  [hkthktsehk6823premiertelecommunicationsservic...  \n",
       "15  [detailssocialmediacoordinatorinternationalpro...  \n",
       "16  [candidatesmustprovidecoverletterresumefractur...  \n",
       "17  [introductionthebbcworldserviceembarkingexciti...  \n",
       "18  [importantwantboringsomethingelsefastpacedchal...  \n",
       "19  [swiftindiamergeartdesigntechnologyexcitingcom...  \n",
       "20  [challengingdiverseinternshipawaitsintelligent...  \n",
       "21  [freelancejobmanagereditorialstrategysocialmed...  \n",
       "22  [seniorpaidsocialmediamanagerbritishfashionfoo...  \n",
       "23  [socialmediaskillshelporganisationprojectbackg...  \n",
       "24  [writerstraineesindiawriterswantedwritersvacan...  \n",
       "25  [marketingspecialistpostadsmarketingspecialist...  \n",
       "26  [introductionthebbccommittedjournalisticexcell...  \n",
       "27  [socialmediamarketingexecentrepreneurialcreati...  \n",
       "28  [clientboutiquebrandingagencylookingbringsocia...  \n",
       "29  [fieldstudycomputerengineeringcomputersciencei...  \n",
       "30  [finchglowtravelsworldclasstravelmanagementcom...  \n",
       "31  [socialmediaspecialist2700030000londondoenjoyc...  \n",
       "32  [superbopportunityjuniorsocialmediaeventscoord...  \n",
       "33  [growbusinesssocialmediaincreasebrandawareness...  \n",
       "34  [editingpublishingservicescompanyneedsapplican...  \n",
       "35  [experiencestudyingdegreediplomaprmarketingfas...  \n",
       "36  [officeadmininformationqualificationsuniversit...  \n",
       "37  [establishingprofessionaldigitalpresencehelpla...  \n",
       "38  [socialmediacommunicationsassociatetransparenc...  \n",
       "39  [handlingfacetssocialmedialikecreationanalysis...  \n",
       "40  [socialmediastrategistplayavistaunitedstatesli...  \n",
       "41  [lookslikemissedoneremoved8172020100400pstnotw...  \n",
       "42  [clientcreativeagencyseekingsocialmediadesigne...  \n",
       "43  [locationpostedclosesindustryjobtypewelookingd...  \n",
       "44  [skipwordlistomittednoteexactphrasesbeginnings...  \n",
       "45  [publicrecordssocialmediaplatforms2022statedep...  \n",
       "46  [jobsearchdbseosocialmediamarketersopeningskar...  \n",
       "47  [descriptionaresomeonekeepsfingerpulsethingsso...  \n",
       "48  [socialmediadigitalcommunicationscoordinatorhu...  \n",
       "49  [requisitionid5563jobrequisition# 5563socialme...  \n",
       "50  [descriptionwelookingexperiencedcopyeditorplay...  "
      ]
     },
     "execution_count": 7,
     "metadata": {},
     "output_type": "execute_result"
    }
   ],
   "source": [
    "freq = topic_model.get_topic_info(); freq.head(51)"
   ]
  },
  {
   "cell_type": "markdown",
   "metadata": {
    "id": "-BtOgifV7Q-H"
   },
   "source": [
    "-1 refere-se a todos os outliers e normalmente deve ser ignorado. A seguir, vamos dar uma olhada em um tópico frequente que foi gerado:"
   ]
  },
  {
   "cell_type": "code",
   "execution_count": 8,
   "metadata": {
    "colab": {
     "base_uri": "https://localhost:8080/"
    },
    "id": "IVpvT4bA6KiN",
    "outputId": "9cf99b89-30bb-45fe-b98b-063f8f3624d9",
    "scrolled": true
   },
   "outputs": [
    {
     "data": {
      "text/plain": [
       "[('yearssocialdigitalmarketingexperienceatleast3yearsmarketingmanagementexperiencemustablesubmitexamplescampaignsmultifacetedinitiativesbachelordegreepreferablymarketingjournalismadvertisingknowledgeskillsabilitiescompetenciesdepthknowledgeunderstandingsocialmediaplatformsrespectiveparticipantsdeployeddifferentscenariosgoodknowledgeprinciplesseoplanningunderstandsbuildssocialstrategyinnovativeabilityexecutestartcompletionwellweeklydailymaintenanceupdateskeepeffortscurrentdemonstratedabilitycombinestrategicplanningpracticalsolutionsprojectmanagementexcelsestablishingcleardirectionssetsstretchingobjectiveslayswellplannedorganizedmannermaintainstwowaydialoghighlyorganizedabilitycombinestrategicdirectionhandstacticalexecutioncommunicationcommunicatesclearlysuccinctlyvarietycommunicationsettingsstylesmessagesacrossdesiredeffectstrongcommunicationskillsverbalwritteninterpersonalskillsrelateswellkindspeoplesidewaysinsideoutsidebuildsappropriaterapportbuildsconstructiveeffectiverelationshipsusesdiplomacytactabilitybuildcloserelationshipskeystakeholdersacrosswellkeyvendorpartnerthoughtleadershipskillsincludingabilityrecognizetrendsopportunitiesformulatehypothesesrecommendationsrelevantbusinessweequalopportunitydiscriminateemployeeracecolorsexagenationaloriginreligionsexualorientationgenderidentitystatusveteranbasisdisabilityfederalstatelocalprotectedclassequalopportunitydiscriminateemployeeracecolorsexagenationaloriginreligionsexualorientationgenderidentitystatusveteranbasisdisabilityfederalstatelocalprotectedclass',\n",
       "  0.010777233781744697),\n",
       " ('informationpositionpurposethemanagersocialmediachargedmanagingexecutingsocialmediastrategymanagerresponsibledevelopmentstewardshipprogramssocialmediachannelslistenengageappropriatewithinchannelspersontrackmonitorreportbackfeedbackkeystakeholderswithincompanysuccessdeterminedachievinggoalsmeasureddefinedsocialmediametricspersonacrossfunctionalgroupsprcommunicationsdotmerchandisingmarketinglogisticsetcexternalpartnersagenciesetccoordinateeffortsensuresuccessmanagerdemonstratedhistoryworkinghighpressurefastpacedenvironmentdeliveringmultipleprojectswithinbudgetcoupledincredibledrivesuccessmajortasksresponsibiliteskeyaccountabilities40socialmarketingprogrammanagementdesignexecutecommunicationsstrategysocialcampaignsincludingdevelopmenteditorialcalendarspositioningmessagingadvisemakerecommendationstraditionaldigitalsocialmediaintegrationbusinessprioritiesgoalsobjectivesexternalagency20listeningtrendsexploreevaluateemergingsocialmediaopportunitiestoolsbuildstrategiesproposalsimplementingeffectivesocialmediacampaignsdrivecommunicationstrategy20reportingmetricsensureprogramsbudgetpropermeasurementsapplieddetermineeffectivenessmarketingsocialspendresourcesmonitoreffectivebenchmarksmeasuringimpactsocialmediaprogramsanalyzereviewreporteffectivenesscampaignsmaximize20organizationalalignmentrelationshipscrossfunctionallywstakeholdersbuildrelationshipswmediaagenciescreativeteamsmerchandisingmarketingpublicrelationscommunityaffairswellfieldleadershipnaturescopepositionreportssrmanagersocialmedianumberreports1environmentalrequirementsenvironmentlocatedcomfortableindoorareaunpleasantconditionswouldinfrequentobjectionabletraveltypicallyrequiresovernighttravel10minimumqualificationsmusteighteenyearsageoldermustlegallypermittedunitedstateseducationknowledgeskillsabilitiestypicallyacquiredcompletionbachelordegreeprogramequivalentdegreefieldstudyrelatedyearsrelevantexperience4yearsphysicalrequirementsspentsittingcomfortablefrequentopportunitymoverareoccasionsmayneedmoveliftlightarticlesadditionalqualificationsdeeprootedunderstandindustrybusinesscustomerdynamicspreferredqualifications4',\n",
       "  0.009631345153889408),\n",
       " ('categoriescreateunlocktosocialmediamanagerjobandgreatopportunitieslikeitbecomeresourcessupportquestionsfeelcontactpostingslatesttipstrendspromotions',\n",
       "  0.007956260866552756),\n",
       " ('michellestuhlcompanyglobalretainedexecutivefirmspecializingcreativebusinesstalentexecutivepositionsworkingbeautycounterledvisionaryceogreggrenfrewincredibleopportunitydirectorsocialmediastrategybeautycounterdisruptorbeautyskincarecategoriescommittedprovidinghighqualitysaferformulasrevolutionizeindustrybrandthreeyearsoldsignificantinvestorbackingmarketingdepartmentdirectorleadercreativethinkermustpossessdeepunderstandingsocialmediachannelsensurebeautycounterbrandcohesivelypresentedwebchannelsalignedmarketingstrategiesdirectoroverseecommunitymanagercollaboratechiefcreativeofficerjulialeachformerlymediaartslabapplewieden',\n",
       "  0.007429852239654687),\n",
       " ('kennedykatespadesharynbelkinlockevicepresidentcreativedirectorformerlyhourglasscosmeticsjohnpaulmitchellsystemscreatedrivebeautycounterssocialplatformslocatedcompanyheadquarterssantamonicacainterestedappropriatesubmitcurrentresumemichellemichellestuhlsummarythesuccessfulcandidatedevelopimplementcomprehensivesocialmediastrategyincreasewebtrafficpromotebrandawarenesssocialmediastrategistoutstandingmultitaskingskillshandlesocialmediaaccountscohesivemanneridealcandidatecreativewaythinkingpresentingbrandmultiplesocialmediachannelsultimatelygoalensurecompanywebpresencealignedmarketingstrategiesresponsibilitiesadministercompanysocialmediaaccountsensuredatecreatedevelopmentplansonlinebaseduserneedsmarketinggoalsidentifygapsmakerecommendationsdesignsocialmediastrategiesachievemarketingtargetsmanagecreatepublishoriginalhighqualityemploycreativeresearchtechniquesorderunderstandanalyzeonlinedataprovideinsightsignificantonlineconversationspartnerwritersdesignersensureinformativerelevanteyecatchingcollaboratemarketingproductdevelopmentteamscreateexcitinginformativesocialbuzzregardingproductlaunchesmanagecompanycommunicationrespondqueriesreviewsorganizechatsdeveloprealisticbudgetsmediatimetablespreparemonthlyreportsregardingwebtrafficroimonitorseouserengagementrecommendoptimizationcommunicateindustryprofessionalsviasocialmediacreatestrongnetworktraininternalteamsintegratemaintaincohesivesocialmediastrategystaycurrentsocialmediabestpracticesdigitaltechnologiesmonitorlatesttrendssocialmediaincludingadvertisingformatschannelstechnologiesproviderecommendationsfarleveragingtoolsservicesconductcompetitivesiteanalysisbenchmarkingbreadthpresentationmonitoranalyzeonlinemediarelevantdigitalcommunicationchannelscompiledataacrossseveralsocialmediaplatformscreatemonthlyreportstrackprogressexecutionconsistencysocialadvertisingcampaignsrequirementsprovenexperiencesocialmediastrategistsocialmediamanagerhandsexperienceusingsocialmediabrandawarenessdeepunderstandingseowebtrafficmetricspossesskeenabilityidentifytargetaudiencepreferencesbuildmeetfamiliaritywebdesignpublishingoutstandingmultitaskingskillssuperiorwrittenverbalcommunicationskillsdegreemarketingrelevantfieldinterestaptitudedevelopingsocialmediastrategyminimum5yearsexperiencestrategistcreativeagencydigitalagencyenvironmentpossessesunderstandingsocialadvertisingcampaignmanagementoptimizationpracticesacrossfacebooklinkedintwitterpinterestinstagrametcskincareexperienceplus',\n",
       "  0.006504477663824989),\n",
       " ('socialmediamanager30000westmidlandscontracttypepermanentlocationsuttoncoldfieldwestmidlandssalary2700030000annum',\n",
       "  0.006504477663824989),\n",
       " ('muchtypepermanentkmrecruitmentpleasedbehalfprivatetrainingproviderlookingappointtraineequalifiedassessordeliversocialmediadigitalmarketingapprenticeshipssuccessfulassessorhomebasedresponsibletrainingassessmentsupportcaseloadlearnersundertakingapprenticeshipssocialmediadigitalmarketingensuretimelyaccuratecompletionslinewithcompanyprocedurestimescalestraineeopportunityexcellentopportunitysocialdigitalmarketingprofessionalexperiencewithinseogoogleanalyticscreationsocialmediamarketingplatformslookingstepladderthesuccessfulcandidatespecialistfielddigitalmarketinggenuineinteresttrainingdevelopmentothersbenefitstraineestrainingsupportfundingprovidedassessorawardcavataqapermanentdayonedutiesassesssupportlearnersworkingtowardsapprenticeshipframeworkssocialmediadigitalmarketinglevel3delivertrainingsupportlearnersfunctionalskillsmathsenglishictlevel2techcerterrpltsvisitingobservinglearnersplacegatherevidencetowardsapprenticeshipqcfqualificationsmanagingdiaryefficientlyensuretimelyvisitsreviewsconductedorganisemaintaindocumentationlearnersprogresssupportadvisemotivatelearnersovercomebarrierslearningadaptdeliverymeetlearnersneedsessentialcriteriamustholdrelevantoccupationalcompetencesocialmediadigitalmarketingmustexcellentcommunicatorlearnerqualityfocussedorganisationalskillsmustconfidentprofessionalabilityinspiremotivatepeoplequalitydrivenpreparedgoextramilelearnerscleandrivinglicencevehiclemustflexibletravelpleasenotekmrecruitmentreceivehighnumberapplicationsroleadvertisedalthoughwouldlikealwaysabledeliverfeedbackunsuccessfulcandidatescontactedwithin4daysunfortunatelyunsuccessfulinterestkeepeyewebsitefutureopportunities',\n",
       "  0.006504477663824989),\n",
       " ('kmrecruitmentspecialistukwiderecruiterbasedlearningwelfaresectorstitlesocialmediadigitalmarketingtrainerassessortraineequalifiedopportunitylocationwestmidlandsstaffordshiremustflexibletravelsalary2500026000doepackageexcellentholidayentitlementpensionbusinessmileage',\n",
       "  0.006504477663824989),\n",
       " ('categoriescreateunlocktosocialmediamanagerjobandgreatopportunitieslikeitbecomeresourcessupportquestionsfeelcontactus',\n",
       "  0.005496921325015009),\n",
       " ('responsibilitiesglobalresponsibilitycoordinationkeyclientsmanagementdeveloppaidsocialstrategiesbusinesspitchesdevelopmentfollowlongtermsocialstrategyamplificationincludingplatformspillarsideasformatssegmentsbtestsensurelongtermalignmentclientscommunicationstrategyresponsibleintegrationclientscorporatevisionvaluesinitiativessocialstrategycontentcoachingfollowchallengingallocatedresourcesmanagesclientportfolioduediligencedefinekpisdashboardsresponsibleimplementinglastadvertisingstrategiesclientpaidsocialteambudgetmanagementinternalpointcontactcomplexadvertisingrelatedrequestsresponsibleclientagencyplanningdeliverablesdeadlinesauthorpovswhitepapersvarioustopicsparticipateeventsectorconferenceforumtaskforcequalificationsprofileabletrainmanageteambusinessentrepreneurshipmindseteasyspeakercomfortableconvincingclientmeetingsoutboxthinkingrecommendationsproductionorganizedautonomousproblemsolverpresentationdesignskillskeynoteppthardfastworkerstronganalyticskillssocialmediaenthusiastestablishedunderstandingwiderdigitalcommunicationslandscapeleftrightbraineddemonstratecreativityunderstandingdataanalysisexperienceskills5',\n",
       "  0.005434214740384612)]"
      ]
     },
     "execution_count": 8,
     "metadata": {},
     "output_type": "execute_result"
    }
   ],
   "source": [
    "topic_model.get_topic(0)  "
   ]
  },
  {
   "cell_type": "code",
   "execution_count": 9,
   "metadata": {},
   "outputs": [
    {
     "data": {
      "text/plain": [
       "[('mondayeconomicdigestsinceindustrystransformationdigitaleraexpandeddigitalbusinessbreakingregionalboundariesmakingoneleadingplayersdigitalmedialandscapeupholdtitle5thvisitedmobileplatformmediagroupcommittedreinforcingpositioningmegaproviderstrengthenselfownedplatformsprintdigitalmeanwhilestrivesbroadenbusinessscopeexpandaudiencereachactperfectsupportmarketerscontinuetransformationstrongreputablemarketerembracingchallengescreatingbusinessopportunitieseverchangingdigitalmultimediaenvironmentsuitableexperiencesocialmediaplatformsmanagementincludingfbigyoutubelinkedinfreshgraduatesfamiliarsocialtrendsconsiderednaturefullyresponsiblesocialmediaactivitiesfbigyoutubelinkedindevelopmentexecutiondataanalysisstrategygrowthetccreatecorefitchannelnaturehandlemultipleprojectssimultaneouslymanagevariousaccountscampaignstimelyprofessionalmanneranalyzedatainsightsguidestrategyimplementationsolutionstomanagecampaignsdeliverablescoordinateinternalpartiesimplementdigitalcampaignscharactersqualificationsdegreeholder1',\n",
       "  0.022911294457652196),\n",
       " ('yearsexperiencesocialmediamarketingfieldcandidates3yearsexperienceconsideredmanagertitleexperiencebusinessfinanceplatformmanagementadvantagedigitallysavvystronginterestsocialtrendsderivestrongsatisfactioncreatinghighengagementviralfitbrandscheerfulcreativemarketingsensedatadrivenmindstrongcommunicationskillsabilityinfluencecounterpartsstakeholdersvariouslevelsselfmotivatedshowingstrongsenseownershipablepressureweoffercompetitivesalarybenefitspackage5days14daysalbirthdayleavemedicaldentalinsurancegreatopportunitydevelopmentsuccessfulcandidateinterestedpartiesdetailedresumeexpectedsalaryednmghkputappliedsubjectline',\n",
       "  0.022911294457652196),\n",
       " ('mediagrouponeleadersmediamarketleveragingconsolidatedstrengthsweekliesmarketwellestablishedbrandingadvertisingnetworksflagshipsincludingorientalsundayweekendweeklynm',\n",
       "  0.019362290040351376),\n",
       " ('linkedinattendingweeklyeditorialmeetingsworkingalongsideeditorsproducersreporterspromotedevelopsociallyoptimizedlongtermpackagesbreakingbrainstormwaysrepackagerepromoteexistingmaximizetrafficaudienceengagementstayingabreastsocialmediabestpracticestrendsonlineinfusingideasudesiredskillsexperiencerequirementsbachelordegreeequivalentexperience2',\n",
       "  0.0191414131153846),\n",
       " ('workingsitesensurejournalismdistributedpleaseresumecoverletteranswerquestionsgmgparentunivisiondeeplycommittedfosteringtransparentlyinclusiveworkplaceenvironmentpeoplecolorwomenpeopledisabilitiesveteranslgbtqcandidatesstronglyencouragedcompanywidemissionreachdiverseaudiencesdeeplycommittedteamsleadersreflectmissionstaffrolebasedgmgcityofficereportsheadaudiencesocialmediawgaebargainingunitquestionsteamreachgizmodomediabackshortlymeantimefollowgmgcareerstwitterstaydateopportunities',\n",
       "  0.0191414131153846),\n",
       " ('yearsonlinejournalismexperienceexperiencebuildingaudiencesocialnetworksfacebookinstagramtwitterknowledgealternatesocialplatformsincludingpinterestsnapchatexceptionalwritingskillsabilityreactimmediatetrendsdemonstratedjudgmentexperienceusinganalyticsmakedecisionsexperienceproducingeditinggraphicsgifsvideophotosstrongattentiondetailabilityjugglemultipletasksonceacriticaleyeoptimizingfitdifferentplatformscandidatesmustprovideresumecoverletter35samplespublishedwritingconsiderationofferingcompetitivesalarycomprehensivebenefitspackageincludeshealthcaredentalvision401kplaneoemfv',\n",
       "  0.0191414131153846),\n",
       " ('socialmediamanagercontracthireemeryvillelocationeastbaystatusfreelancestart40hrsweekestimateddurationcontracthirestartsjanuary14thasapidealrate4045hourdoe8090khourannuallyconverted1015bonusjobdescriptionhealthfitnessclientlookingsocialmediamanagerteamonsiteemeryvillecontracthire40hrsweeksocialmediamanagermanagingchannelsincludingsocialretailersresponsibleensuringconsistentwithbrandvoicestyletonemanagingcalendarsflowsdevelopinganalyzingkpismarketingmonitoringcompetitionsocialchannelslookingopportunitiespluggedimproveworkingcreativesmadeincludinginfluencerssometimeswritingsocialchannelsrequirements4',\n",
       "  0.0191414131153846),\n",
       " ('festivalsannuallynearly4000artists40countriespassionatemotivateddrivenentrepreneurialspiritresourcefulinnovativeforwardthinkingcommittedorganizedgreatattentiondetailrolefestivalsocialmediamanagerdevelopmanagefullyimplementsocialmediastrategyacentertainmentmusicfestivalsdailypostsinteractionssocialmediasocialmediamanagereveryaspectstrategyorderdrivereachengagementacrossplatformssocialmediamanageralsocloselyfansupportdepartmenthelpexecuteacentertainmentstandardsfansatisfaction2020festivalsbonnaroobigearshighwaterhomecominggoodmoonironblossomforecastlerailbirdmoonriverresponsibilitiescreatesmanagesexecutessocialmediastrategymultiplemusicfestivalbrandsacrossmajorsocialmediaplatformsincludingredditfacebooktwitterinstagramyoutubesnapchattiktokbrowsesmusiccultureblogsforumssocialmediaplatformsrelevantresponsibleeverystepcollectingviralwritingcopycreatingrequestingaccompanyingimageassetsexecutingpostsacrossplatformmustawaretrendingtopicsemergingtrendsmusictechnologyspaceresponsibleoverseeingexecutinginfluencerstrategyindividualfestivalbrandworkscloselydigitalmarketingteamideateexecutedigitalpromotionsmarketingrelatedworkscloselydataanalystunderstandworkingabilityadjuststrategygivenmomentdutiesassignedqualificationsexpertknowledgetiktokfacebooktwitterinstagramyoutubetumblrsnapchatflickrexpertexperiencesocialmediacopywritingintermediateexperienceadobephotoshopbasicknowledgegoogleanalyticssocialmediamonitoringschedulingtoolsabilitynontraditionalhoursnightsweekendsholidaysapplicantsumustpossessauthorizationrequiresponsorshipvisaequalopportunityacentertainmentlivenationstronglysupportsequalopportunityapplicantsregardlessracecolorreligionsexgenderidentitypregnancynationaloriginancestrycitizenshipagemaritalstatusphysicaldisabilitymentaldisabilitymedicalconditionsexualorientationgeneticcharacteristicprotectedstatefederallawhiringpracticestheprecedingdescriptiondesignedindicategeneralnaturelevelperformedemployeeswithinclassificationdesignedcontaininterpretedcomprehensiveinventorydutiesresponsibilitiesqualificationsemployeesassignedacentertainmentlivenationrecruitmentpoliciesdesignedplacehighlyqualifiedpersonstimelyefficientmanneracentertainmentlivenationmaypursueavenuesincludingpromotionwithinemployeereferralsoutsideadvertisingagenciesinternetfairscollegefirms',\n",
       "  0.0191414131153846),\n",
       " ('yearsexperiencemustworkedb2cbrandsexperiencesettinganalyzingkpismuststrongwritingskillsexecutingalignedbrandvoicemissionneedabletakeownershipthingssocialgreatphotographyeyemajorplusfeelqualifiedresumesamplesapplicableadditionalopportunitieswwwcreativecirclecomcreativecircleequalopportunityqualifiedapplicantsreceiveconsiderationwithoutregardracecolorreligionsexagesexualorientationgenderidentitynationalorigindisabilityprotectedveteranstatuscharacteristicprotectedlawcreativecircleconsiderqualifiedapplicantscriminalhistoriesmannerconsistentrequirementsapplicablelawneedprocesscontactrecruiterpersoninterviewingmemberhumanresourcesteammakearrangements',\n",
       "  0.0191414131153846),\n",
       " ('wpromoteherewpromoteonenationsleadingdigitalmarketingfirmsinvitethinklikechallengerpushclientstake800lbgorillasindustriescrew300',\n",
       "  0.018062586732718898)]"
      ]
     },
     "execution_count": 9,
     "metadata": {},
     "output_type": "execute_result"
    }
   ],
   "source": [
    "topic_model.get_topic(1)  "
   ]
  },
  {
   "cell_type": "code",
   "execution_count": 10,
   "metadata": {},
   "outputs": [
    {
     "data": {
      "text/plain": [
       "[('wwwfairytrailapphelpteamscalestartupsourcingcollaboratingpartnerscreatingbuildingcommunityresponsibilitiesassistdesignexecutionsocialmediacampaignsfocusfacebookinstagrammanageeditorialcalendarspromotecompanyproductsvarioussocialmediaplatformscreatedistributeinstagramstoriesyoutubevideosblogpoststracksocialmediaengagementidentifyhighperformingideascampaignsscalabilitypreferredcandidatespassiontraveldatingspaceexperiencecreatingbuildingaudienceexperienceblogspodcastspublicationsinterestexperiencesalesbusinessdevelopmentthisvolunteerrole815hoursweekstartmayevolveemployeeroledependingwelltogetherpassionatepeopleapplegooglezyngatripadvisorlookforwardhearingresumecoverletterexplainingreasonswouldlikeinternfairytrailalsolinkssocialmediaapplicationswithoutconsideredfairytrailapplyingbonuspointstypesinternshipexperiencerelevant1yearpreferredworklocationonelocationfullyremoteskillssocialmediafacebookmarketinginstagrammarketingcreationbloggingwebpublicationssocialmediamarketingsocialnetworkinghootsuiteimoviemarketingcommunicationstwittermarketingtumblrdigitalmarketingalwayspotentiallyfraudulentpostingsonlinereportpotentialfraudunsurelegitimacypostingchegginternshipsneveracceptfundscompanypurchasematerialsnecessaryavoidreportsituationsemployersrequirepaymentwithoutcompensationprocessavoidcorrespondinganyonereachesviatextoutsidechegginternshipsplatformrecognizewarygooglehangoutskypeinterviewspubliclynumbersusedverifylegitimacyinterviewer',\n",
       "  0.050027676245936),\n",
       " ('descriptionassocialmediainternaccountabledrivingawarenessadoptionfairytraildatingapptravelerspeoplechoosingtravelexperiencesdatingappservefairytrailtravelappmakesdatingsaferfunusersbookadventuresomeonelikeapplearn',\n",
       "  0.050027676245936),\n",
       " ('hunkerlookingsocialmediaspecialistsupporteditorialdistributionacrosssocialplatformsyoulldirectlysocialmediamanagergainexperiencepostingmanagingcampaignsanalyzingperformancegrowingfollowershunkerhelpsfirsttimersimprovehomeswithinspiringhometourspracticaldesignadvicerealpeoplebelievegooddesigneverydaylifeanddontexpertmakehappenreach12millionreaderseverymonthfulfillingmissionleafgroupdiversifiedinternetcompanybuildsplatformsenablecommunitiescreatorsreachdedicatedaudiencesevergrowinglifestylecategoriesyoullreportsocialmediamanagerhunkeratypicaldaysocialmediaspecialistincludesassistschedulingpostingsocialchannelsincludingfacebookinstagrampinterestlearnbestpracticeseachassistsocialinfluencerbrandingcampaignssupportbrandedsalescampaignssponsoredpostsassistgraphiccreationideationkeepeyetrendsparticipatebrainstormingsessionsperformmarketingdutiesneededpassionhomedesignpluswhatexperiencemanagingsocialpresencecaptionshashtagsetcinstagramtwitterpinterestplatformsexcellentgrammarcopywritingskillsacreativespiritattentiondetaileyevideographyphotographyinterestdiyfoodhomespaceabilitywellteamwhocreateexperiencescelebratebestartdesigntechnologywantsmartcuriouspeoplecommittedputtingpeoplefirstfuncommitmenthighqualityservicemakethingsdesireconstantgrowthfunhardworkingcollaborativeenvironmentdiverseadventurousopenminded',\n",
       "  0.045966381473747556),\n",
       " ('wwwleafgroupbrandscoolofficeenvironmentculturesaythirstythursdayslunchfridaysfunactivitiesgatherforemployeediscountssaatchiartsociety6agencydisclosureleafgrouptalentacquisitiondepartmentcurrentcompanyemployeereceivesunsolicitedresumethirdpartyagencyleafgroupsignedagencyagreementactiveleafgroupdeemedliablepayplacementfeeunsolicitedresumeconsideredgiftconsideredrecruitmentefforts',\n",
       "  0.045966381473747556),\n",
       " ('workforcenowadpmascsrdefaultmdfrecruitmentrecruitmenthtmlcidbbb7835e383344fd9ad9e37beab84893ccid19000101000001jobid448388langensourcecc4',\n",
       "  0.036261182566835366),\n",
       " ('horibagroupworldwidecompaniesprovidesextensivearrayinstrumentssystemsapplicationsrangingautomotiverprocessenvironmentalmonitoringvitromedicaldiagnosticssemiconductormanufacturingmetrologybroadrangescientificrqcmeasurementsprovenqualitytrustworthyperformanceestablishedwidespreadconfidencehoribabrandinspiredmottojoyfunfocussocialresponsibilitiesbuildingstateartproductsscientificadvancementespeciallyprotectinghealthsafetyenvironmenthoribarianshoribaemployeesworldlookforwardworkingadditionalcreativeentrepreneurialselfstartershoribaautomotivebusinesssegmentwithinhoribagroupdevelopedgloballeadershipfieldsbatteryfuelcellelectrolyzertestdatamanagementdrivelinetestsystemsenginetestsystemsbraketestsystemswindtunnelbalancesemissionstestsystemstestfacilityautomationadditionproductbasedapplicationsofferscomprehensivesuitevehicleengineeringvalidationcertificationserviceshoribaautomotiveableoffercustomersturnkeycapabilityindustriesusingelectricmotorsinternalcombustionenginesturbinesautomotiveheavydutyroadconsumergoodsmarinedefenseaerospacerailsectorshoribaautomotivegroupsocialmediaspecialistbasedannarbormiofficeworkingresponsibleimplementingglobalhoribaautomotivesocialmediastrategykeyresponsibilitiescollaborateacrossfunctionsdelivereffectivesocialmediastrategysuggestcreativewaysgrowpromotehoribabrandmanagehoribasocialmediaplatformassociatedchannelscollaborateacrossfunctionscreatesocialmediaplatformworkmarketingteamcreateexecutefullyintegratedmarketingcampaignstrategiesacrossmediumsproactivelysourceresearchdevelopwriteaccurateengagingwrittencommunicationsresonatemediacustomerscolleaguesincreasewebtrafficcustomerengagementstrongcallactionsalignedbroadermarketingstrategiesmeasureassistmarketingteamspecialprojectsrequestedassistmarketingdepartmentfunctionsneededbasisrequiredqualificationsbachelorsdegreemarketingcommunications35yearswithinhousemarketingteamagencyexperiencedigitalmediamethodsexpertisetrackrecordsocialmediaplatformsabilitytraincoworkerssocialmediabeneficialwayabilityassimilaterecommendpracticalresponseabilityunderstandtechnicalsubjectswriteengagingcommunicationsknowledgeautomotiveengineeringindustrymediamustselfstarterstronginterpersonalskillsabilitylevelsstaffmanagementeffectiveprojectmanagementprioritizationmultitaskingorganizationalmanagementskillswritingsamplesportfoliocampaignmanagementexecutionexamplesexceptionalwritingeditingskillsabilityadobecreativesuitecreatemanipulatedigitalassetsimagesvideosgraphicsetcplusknowledgepaidsocialmediacampaignsplusindividualdisabilityneedhiringprocesskrisoplandhoribacall7342136555assistancehoribaprovideuponrequestsupportdisabilitiesableparticipatehiringprocesshoribacommittedmakingworkplaceaccessibledisabilitieseeoaffirmativeactionveteranstatusdisabilitiesvialink',\n",
       "  0.036261182566835366),\n",
       " ('tourismcorporationvtcseekingsocialmediapublicrelationscoordinatorcommunicationsdepartmentvtcsmarketingdivisioncollaborativeteamenvironmentdisseminatekeystakeholdersexecutestrategicsocialmediaplanassistdevelopmentmessaginginsideoutsideidealcandidatefamiliarrelevantsocialnetworksmeasurementtoolslocalnationalonlinecommunitiespossessabilityhelpmanagevtcsextensivedigitalfootprintresponsibilitiesservecommunitymanageroverseeingcoordinatingsocialpropertiesincludingchannelmoderationbrandconsumerengagementstrategiccampaignamplificationassistdevelopmentengagingsocialchannelassistcuratingdevelopingweeklypaidsocialmonitorcommentsacrosssocialchannelsrespondtimelymanneramplifybrandedconsumerinitiativescreativesocialmediacampaignsassistdraftingmaintainingsocialeditorialcalendaralignbrandguidelinescreativeplatformscontributeregularlyreportspresentationscreateopportunitiesdrivetrafficorgscoutsocialmediainfluencerscoordinatecontractsitinerariessenddailyclipskeystakeholdersincludingindustrytrendsproactiveplacementssecuredprteamgeneraltraveltourismstoriesbuildupdatemedialistsincludinginfluencersbloggersadditiontraditionalmediahelpeducateindustrystrategyanalysissocialmediamarketingplatformpresentsocialmediastrategyquarterlyvtcorientationswriteeditprmaterialsneededincludingtalkingpointsaccoladesmediaprofilesheetsetcexperienceeducation13yearspriorexperiencemarketingcommunicationssocialmediacommunitymanagementpublicrelationsrequiredbachelorsdegreeequivalentexperiencepreferreddemonstratedexperienceestablishingconsumerfocusedsocialchannelsbackgroundgeneralinteresttraveltourismessentialknowledgevirginiastourismdestinationsproductspreferredrequiredskillsexpertiseestablishedemergingsocialmediaplatformsincludingfacebooktwitterinstagramlinkedinpinterestyoutubereddittiktoketcexperienceusingsocialschedulingvisualplanningplatformshootsuiteiconosquareplanolylaterhubspotsemrushetcexperienceusingmediadatabasemanagementtoolscisiontrendkiteexperiencecuratingdetailedeasilydigestibleaestheticallypleasingreportsexcellentverbalwrittencommunicationskillsincludingeditingproofreadingskillsproficiencyadobeapplicationsphotoshopseogoogleanalyticsproficiencyvideoeditingplusstrongcollaboratorworkingwellteamenvironmentalsoablefunctionindividualcontributorselfdirectionaccountabilitystrongmanagementskillsdeadlineorientedefficientabilitythinkcreativelystrategicallyallcandidatesmustwebsite',\n",
       "  0.03029467745033311),\n",
       " ('wwwvatcorgvaliddriverslicenserequires25statetravelsalaryminimum40000deadlineoctober252019vtcequalopportunityapplicantsconsideredwithoutregardracesexcolornationaloriginreligionageveteranstatuspoliticalaffiliationgeneticsotherwisequalifieddisabilitiesvtcsintentpersonnelpoliciespracticesconformapplicablefederalstatelocallawsregulationsregardingnondiscriminationaffirmativeactionapplicantsrequiringrequiringassistancemaycontactvtchumanresources18045455634vtchrvedporgtdd18008281120',\n",
       "  0.03029467745033311),\n",
       " ('excitingopportunityarisenambitioussmechallengerbrandmakingwavesbluechipdominatedmarketclientsunwaveringcommitmenthealthsustainabilitymeansnothingnaturallysourcedingredientszeroadditivesorderprovidehealthyalternativeblowscompetitorswaterambitiongrowthleadlooksocialmediaspecialistenhancebrandmarketpresencerolesocialmediaspecialistinvolvecreatingdevelopingclientsocialmediastrategyresearchingcontactingorganisinginterviewingkeyinfluencersfooddrinkhealthfitnessindustriesusingsocialmediaexpertisegrowclientexponentiallycreatingexcitingutilisingpassionhealthfooddrinkengageconsumerstrackingkeymetricsusingtoolsgoogleanalyticstosuccessfulsocialmediaspecialistselfproclaimedsocialmediaexpertnumbersbackupanambitiousmarketingprofessionaleagerbuildstrongfmcgbrandcreativeeagercreateinnovativesocialmediacampaignsapeoplepersoncomfortablefrontbehindcamerasocialfriendlyoutgoingcomfortableadobephotoshopvideoeditingsoftwarepassionatehealthfooddrinksfmcgeducateddegreelevelequivalentthistrulyopportunitygraduatepassionthingshealthsocialmediautilisecreativitygrowingbrandhugeambitiondesirecreatechangesoundslikerightopportunitytouch02070423800limetalentrecruitmentagencyspecialisingconsumergoodsindustrybroaderselectioncurrentvacanciesgowwwlimetalentgroupcall02070423800makinglimetalentconfirmreadagreeprivacypolicy',\n",
       "  0.023184558891074333),\n",
       " ('originalcampuseduauwelookingpassionatecommunicatorcreatorteaminternshiphelpbrandtellstorysocialmediaroleoriginalcampusworkingcloselyleadingcreativeagencymoworks',\n",
       "  0.023184558891074333)]"
      ]
     },
     "execution_count": 10,
     "metadata": {},
     "output_type": "execute_result"
    }
   ],
   "source": [
    "topic_model.get_topic(2)  "
   ]
  },
  {
   "cell_type": "code",
   "execution_count": 44,
   "metadata": {},
   "outputs": [
    {
     "data": {
      "text/plain": [
       "[('cancer', 0.028574644696459376),\n",
       " ('bioinformatics', 0.01929803188898917),\n",
       " ('fantastic', 0.01721452162087124),\n",
       " ('diagnostics', 0.01488833067099965),\n",
       " ('bioinformatician', 0.014436048849813135),\n",
       " ('skills', 0.013917494812297761),\n",
       " ('data', 0.013751106538984651),\n",
       " ('sequencing', 0.013330572997718582),\n",
       " ('new', 0.012979354310863061),\n",
       " ('recruitment', 0.012800792786949703)]"
      ]
     },
     "execution_count": 44,
     "metadata": {},
     "output_type": "execute_result"
    }
   ],
   "source": [
    "topic_model.get_topic(3)  "
   ]
  },
  {
   "cell_type": "code",
   "execution_count": 45,
   "metadata": {},
   "outputs": [
    {
     "data": {
      "text/plain": [
       "[('bioinformatics', 0.025593564345212334),\n",
       " ('software', 0.020485750677654426),\n",
       " ('web', 0.017529355462579145),\n",
       " ('development', 0.017192984588849592),\n",
       " ('cloud', 0.013222633249032527),\n",
       " ('data', 0.012678165695904747),\n",
       " ('applications', 0.012328040367287437),\n",
       " ('role', 0.011320305067599503),\n",
       " ('support', 0.011230546273547212),\n",
       " ('experience', 0.010850161490306732)]"
      ]
     },
     "execution_count": 45,
     "metadata": {},
     "output_type": "execute_result"
    }
   ],
   "source": [
    "topic_model.get_topic(4)  "
   ]
  },
  {
   "cell_type": "code",
   "execution_count": 46,
   "metadata": {},
   "outputs": [
    {
     "data": {
      "text/plain": [
       "[('therapeutic', 0.04407940780404685),\n",
       " ('computational', 0.0431915080793649),\n",
       " ('biology', 0.04117071576399913),\n",
       " ('various', 0.04066787634142299),\n",
       " ('principal', 0.036901220861037164),\n",
       " ('strategy', 0.031312659168197955),\n",
       " ('scientist', 0.026190402276492046),\n",
       " ('scientific', 0.024300992812708425),\n",
       " ('target', 0.023965786512740804),\n",
       " ('questions', 0.023747878631549788)]"
      ]
     },
     "execution_count": 46,
     "metadata": {},
     "output_type": "execute_result"
    }
   ],
   "source": [
    "topic_model.get_topic(5)  "
   ]
  },
  {
   "cell_type": "code",
   "execution_count": 47,
   "metadata": {},
   "outputs": [
    {
     "data": {
      "text/plain": [
       "[('celgene', 0.027468412142428632),\n",
       " ('analysis', 0.019362856618481646),\n",
       " ('computational', 0.018861706969409597),\n",
       " ('data', 0.018729618389502933),\n",
       " ('clinical', 0.018263599381305673),\n",
       " ('profiling', 0.017643472058313285),\n",
       " ('datasets', 0.016758799532920594),\n",
       " ('molecular', 0.01674378051328073),\n",
       " ('research', 0.015994477595647177),\n",
       " ('scientific', 0.014496058877652596)]"
      ]
     },
     "execution_count": 47,
     "metadata": {},
     "output_type": "execute_result"
    }
   ],
   "source": [
    "topic_model.get_topic(6)  "
   ]
  },
  {
   "cell_type": "code",
   "execution_count": 48,
   "metadata": {},
   "outputs": [
    {
     "data": {
      "text/plain": [
       "[('data', 0.018529129193571588),\n",
       " ('experience', 0.016704846272709472),\n",
       " ('software', 0.01437335252607052),\n",
       " ('development', 0.0136103986431642),\n",
       " ('duties', 0.013255633653589007),\n",
       " ('analysis', 0.012336375859853322),\n",
       " ('status', 0.011662973423150766),\n",
       " ('assigned', 0.010897293548540488),\n",
       " ('management', 0.010724111400367694),\n",
       " ('tools', 0.010545572196130316)]"
      ]
     },
     "execution_count": 48,
     "metadata": {},
     "output_type": "execute_result"
    }
   ],
   "source": [
    "topic_model.get_topic(7)  "
   ]
  },
  {
   "cell_type": "code",
   "execution_count": 49,
   "metadata": {},
   "outputs": [
    {
     "data": {
      "text/plain": [
       "[('microbiome', 0.02666323104130782),\n",
       " ('microbial', 0.018439689674625837),\n",
       " ('research', 0.01598661225624936),\n",
       " ('metagenomics', 0.012173259105978733),\n",
       " ('institute', 0.012095227502677528),\n",
       " ('microbiology', 0.011501136759021981),\n",
       " ('group', 0.010793380421619264),\n",
       " ('bioinformatics', 0.010668744636704572),\n",
       " ('infection', 0.010655175693801635),\n",
       " ('candidate', 0.010627869396363798)]"
      ]
     },
     "execution_count": 49,
     "metadata": {},
     "output_type": "execute_result"
    }
   ],
   "source": [
    "topic_model.get_topic(8)  "
   ]
  },
  {
   "cell_type": "code",
   "execution_count": 50,
   "metadata": {},
   "outputs": [
    {
     "data": {
      "text/plain": [
       "[('teaching', 0.030479287192050866),\n",
       " ('university', 0.03000595129969079),\n",
       " ('faculty', 0.022456363182020777),\n",
       " ('department', 0.018541112204315573),\n",
       " ('edu', 0.017491346142908933),\n",
       " ('position', 0.016769099358778055),\n",
       " ('biology', 0.016759820832537613),\n",
       " ('statistics', 0.016171061784296732),\n",
       " ('computational', 0.015537830783774098),\n",
       " ('diversity', 0.015534002253963843)]"
      ]
     },
     "execution_count": 50,
     "metadata": {},
     "output_type": "execute_result"
    }
   ],
   "source": [
    "topic_model.get_topic(9)  "
   ]
  },
  {
   "cell_type": "code",
   "execution_count": 51,
   "metadata": {},
   "outputs": [
    {
     "data": {
      "text/plain": [
       "[('england', 0.02456503186765565),\n",
       " ('project', 0.023631315498802086),\n",
       " ('nhs', 0.022665481652689255),\n",
       " ('bioinformatics', 0.02071680904759179),\n",
       " ('operational', 0.019752167319691732),\n",
       " ('genomics', 0.019271476168928388),\n",
       " ('operations', 0.018958965175528173),\n",
       " ('clinical', 0.018721399196215984),\n",
       " ('genomic', 0.01785130095544828),\n",
       " ('genome', 0.01604848320490878)]"
      ]
     },
     "execution_count": 51,
     "metadata": {},
     "output_type": "execute_result"
    }
   ],
   "source": [
    "topic_model.get_topic(10)  "
   ]
  },
  {
   "cell_type": "code",
   "execution_count": 52,
   "metadata": {},
   "outputs": [
    {
     "data": {
      "text/plain": [
       "[('brain', 0.028749000234169486),\n",
       " ('disease', 0.02516551123735966),\n",
       " ('alzheimers', 0.01740177285042315),\n",
       " ('diseases', 0.01395695041313256),\n",
       " ('research', 0.013456158584563586),\n",
       " ('postdoc', 0.012118491471756223),\n",
       " ('novel', 0.01166049802186613),\n",
       " ('rna', 0.011556059943563516),\n",
       " ('neurodegenerative', 0.010764542580555397),\n",
       " ('parkinson', 0.010731226851140004)]"
      ]
     },
     "execution_count": 52,
     "metadata": {},
     "output_type": "execute_result"
    }
   ],
   "source": [
    "topic_model.get_topic(11)  "
   ]
  },
  {
   "cell_type": "code",
   "execution_count": 53,
   "metadata": {},
   "outputs": [
    {
     "data": {
      "text/plain": [
       "[('jrf', 0.025966924464230278),\n",
       " ('cassava', 0.02591816587438745),\n",
       " ('post', 0.02315218019251137),\n",
       " ('bioinformatics', 0.022492012388837915),\n",
       " ('positions', 0.02068350135068519),\n",
       " ('india', 0.019265634970217677),\n",
       " ('breeding', 0.019265634970217677),\n",
       " ('jobs', 0.018633851220981525),\n",
       " ('agriculture', 0.018420605664972774),\n",
       " ('pant', 0.0183105195502587)]"
      ]
     },
     "execution_count": 53,
     "metadata": {},
     "output_type": "execute_result"
    }
   ],
   "source": [
    "topic_model.get_topic(12)  "
   ]
  },
  {
   "cell_type": "code",
   "execution_count": 54,
   "metadata": {},
   "outputs": [
    {
     "data": {
      "text/plain": [
       "[('developer', 0.0635953337605951),\n",
       " ('software', 0.055939242682330144),\n",
       " ('stack', 0.041511268136029685),\n",
       " ('full', 0.03725294249229557),\n",
       " ('cambridge', 0.03550593258460663),\n",
       " ('jobs', 0.03402769919824551),\n",
       " ('engineer', 0.03306751150704533),\n",
       " ('python', 0.03187158273394717),\n",
       " ('devops', 0.030551820296742003),\n",
       " ('biotech', 0.027083238263603676)]"
      ]
     },
     "execution_count": 54,
     "metadata": {},
     "output_type": "execute_result"
    }
   ],
   "source": [
    "topic_model.get_topic(13)  "
   ]
  },
  {
   "cell_type": "code",
   "execution_count": 55,
   "metadata": {
    "scrolled": true
   },
   "outputs": [
    {
     "data": {
      "text/plain": [
       "[('proceed', 0.22274856236117938),\n",
       " ('done', 0.1973205169225093),\n",
       " ('asked', 0.19659504461288535),\n",
       " ('already', 0.1931696565401153),\n",
       " ('fill', 0.18346981066590407),\n",
       " ('academicjobsonline', 0.17922135863667377),\n",
       " ('universitywelcome', 0.16781619440314716),\n",
       " ('free', 0.1597304094086949),\n",
       " ('form', 0.15731350536266678),\n",
       " ('selected', 0.1542101536525792)]"
      ]
     },
     "execution_count": 55,
     "metadata": {},
     "output_type": "execute_result"
    }
   ],
   "source": [
    "topic_model.get_topic(14)  "
   ]
  },
  {
   "cell_type": "code",
   "execution_count": 56,
   "metadata": {},
   "outputs": [
    {
     "data": {
      "text/plain": [
       "[('mentorship', 0.038469855289506756),\n",
       " ('celgene', 0.03168687998744715),\n",
       " ('discover', 0.03118412498931743),\n",
       " ('probabilistic', 0.02980482329519681),\n",
       " ('integrate', 0.029408597910856475),\n",
       " ('patient', 0.029264285538129944),\n",
       " ('profiling', 0.028405950739002966),\n",
       " ('molecular', 0.02694015508039613),\n",
       " ('cancer', 0.024532367061550424),\n",
       " ('readily', 0.024126985131342964)]"
      ]
     },
     "execution_count": 56,
     "metadata": {},
     "output_type": "execute_result"
    }
   ],
   "source": [
    "topic_model.get_topic(15)  "
   ]
  },
  {
   "cell_type": "code",
   "execution_count": 57,
   "metadata": {},
   "outputs": [
    {
     "data": {
      "text/plain": [
       "[('cross', 0.026431394210918398),\n",
       " ('work', 0.023957585700513442),\n",
       " ('manchester', 0.023343432425486598),\n",
       " ('preferredstatistical', 0.02242758660160288),\n",
       " ('tasksstrong', 0.02242758660160288),\n",
       " ('detailsability', 0.02242758660160288),\n",
       " ('deadlinesproject', 0.02242758660160288),\n",
       " ('scriptingexperience', 0.02242758660160288),\n",
       " ('uktel', 0.02214388103674483),\n",
       " ('fieldsexcellent', 0.02214388103674483)]"
      ]
     },
     "execution_count": 57,
     "metadata": {},
     "output_type": "execute_result"
    }
   ],
   "source": [
    "topic_model.get_topic(16)  "
   ]
  },
  {
   "cell_type": "code",
   "execution_count": 58,
   "metadata": {},
   "outputs": [
    {
     "data": {
      "text/plain": [
       "[('program', 0.03408736247669109),\n",
       " ('biology', 0.030812026504264164),\n",
       " ('individuals', 0.026709284205406435),\n",
       " ('school', 0.023143140037017153),\n",
       " ('research', 0.022013365165051566),\n",
       " ('students', 0.02129753521678758),\n",
       " ('applicants', 0.02104879879055096),\n",
       " ('systems', 0.019371422980822502),\n",
       " ('medical', 0.018474428292156238),\n",
       " ('college', 0.0182593230461428)]"
      ]
     },
     "execution_count": 58,
     "metadata": {},
     "output_type": "execute_result"
    }
   ],
   "source": [
    "topic_model.get_topic(17)  "
   ]
  },
  {
   "cell_type": "code",
   "execution_count": 59,
   "metadata": {},
   "outputs": [
    {
     "data": {
      "text/plain": [
       "[('software', 0.03448644248627121),\n",
       " ('test', 0.03043602025907233),\n",
       " ('pipelines', 0.029577448841690755),\n",
       " ('jira', 0.029121299537298955),\n",
       " ('wgs', 0.028853586280977554),\n",
       " ('experience', 0.027538997015304295),\n",
       " ('java', 0.027255626871119557),\n",
       " ('tester', 0.02426346745115189),\n",
       " ('confluence', 0.02418741722620245),\n",
       " ('bitbucket', 0.023585385082971942)]"
      ]
     },
     "execution_count": 59,
     "metadata": {},
     "output_type": "execute_result"
    }
   ],
   "source": [
    "topic_model.get_topic(18)  "
   ]
  },
  {
   "cell_type": "code",
   "execution_count": 60,
   "metadata": {},
   "outputs": [
    {
     "data": {
      "text/plain": [
       "[('project', 0.07017790251803009),\n",
       " ('developers', 0.057802961672200795),\n",
       " ('software', 0.05386923621454269),\n",
       " ('customer', 0.05081748471678882),\n",
       " ('manager', 0.04521740645701126),\n",
       " ('projects', 0.0414648583957211),\n",
       " ('teams', 0.03747299068199203),\n",
       " ('clients', 0.036928123609092124),\n",
       " ('schedule', 0.03580905042279604),\n",
       " ('interesting', 0.03407911291474186)]"
      ]
     },
     "execution_count": 60,
     "metadata": {},
     "output_type": "execute_result"
    }
   ],
   "source": [
    "topic_model.get_topic(19)  "
   ]
  },
  {
   "cell_type": "code",
   "execution_count": 16,
   "metadata": {
    "scrolled": true
   },
   "outputs": [
    {
     "name": "stdout",
     "output_type": "stream",
     "text": [
      "3 s information postdoctoral training program benefits found postdoc handbook http www utsouthwestern edu postdocs interested individuals statement interests list three references jin chen ph ut southwe \n",
      "\n",
      "7 ccomplishments include contact information three references applications sent directly jgillis cshl edu cold spring harbor laboratory equal opportunity employer favorite \n",
      "\n",
      "19 s psychiatric disease institute genomic medicine uc san diego led jonathan sebat http sebatlab ucsd edu beyster center leader fields human genome research psychiatric genetics postdoctoral fellow carr \n",
      "\n",
      "22 ier understanding gene regulation cshl symposia quantitative biology 2019visit bcm website  www bcm edu people search furqan fazal 72901 information lab job dutiesunder general direction principal inv \n",
      "\n",
      "29 statement summarizing research interests experience ms vesselina panteva panteva pennmedicine upenn edu university pennsylvania equal opportunity affirmative action employer \n",
      "\n",
      "30 y housing attractive benefits letter interest names email addresses three references  acg apps1 aus edu empapp apply php p gen 18 01review applications begin october 25 2018 continue positions filled  \n",
      "\n",
      "45 ts applicable geisinger holy spirit apply online www geisinger org careers resume bjhicks geisinger edu pi107968369favorite \n",
      "\n",
      "48 s psychiatric disease institute genomic medicine uc san diego led jonathan sebat http sebatlab ucsd edu beyster center leader fields human genome research psychiatric genetics postdoctoral fellow carr \n",
      "\n",
      "50 ilable resources highly beneficial interested candidates cover letter dr reitz cr2101 cumc columbia edu offer competitive salaries benefits refer human resources website  humanresources columbia edu i \n",
      "\n",
      "59 mation english ability physically navigate lab setting contact info cover letter dr wang chwang llu edu interested candidate also three letters recommendation directly sent dr wang positionassistant p \n",
      "\n",
      "62 ccomplishments include contact information three references applications sent directly jgillis cshl edu considered candidates must also apply position via cshl website http cshl peopleadmin com postin \n",
      "\n",
      "65  publications found http tianlab org interested individuals contact dr bin tian email btian rutgers edu including summary previous research contact information 2 3 referees offer competitive salary em \n",
      "\n",
      "68 s psychiatric disease institute genomic medicine uc san diego led jonathan sebat http sebatlab ucsd edu beyster center leader fields human genome research psychiatric genetics postdoctoral fellow carr \n",
      "\n",
      "69 ial functions position addressed discussed interview process applyplease dr qian peng qpeng scripps edu detailed c v short description doctoral training prior postdoctoral training applicable brief st \n",
      "\n",
      "74  automatic email sent via nsf reporting system information program available visiting http www cshl edu education nsf reu bioinformatics computational neuroscience html contacting pi dr anne churchlan \n",
      "\n",
      "98  major publications arrange three five letters recommendation online via ap recruit  aprecruit ucsf edu apply jpf02234 ucsf seeks candidates whose experience teaching research community service prepar \n",
      "\n",
      "108 dates submit names two references cover letter toedwin k silverman ph ed silverman channing harvard edu favoritebioinformatics data scientist \n",
      "\n",
      "119 s psychiatric disease institute genomic medicine uc san diego led jonathan sebat http sebatlab ucsd edu beyster center leader fields human genome research psychiatric genetics postdoctoral fellow carr \n",
      "\n",
      "123 ier understanding gene regulation cshl symposia quantitative biology 2019visit bcm website  www bcm edu people search furqan fazal 72901 information lab job dutiesunder general direction principal inv \n",
      "\n",
      "125 ts specific questions may addressed yan asmann phd search committee chair via schilbe jennifer mayo edu division biomedical statistics informatics part department health sciences research mayo clinic  \n",
      "\n",
      "128 isus high performance computing resources applicants must submit applications online  jobs indstate edu along application candidates required submit letter interest curriculum vita statement research  \n",
      "\n",
      "131 ndidates applying position assistant professor level may qualify nomination http www utsouthwestern edu education programs nondegree programs programs endowed scholars index html candidates associate  \n",
      "\n",
      "140 ilable resources highly beneficial interested candidates cover letter dr reitz cr2101 cumc columbia edu offer competitive salaries benefits refer human resources website  humanresources columbia edu i \n",
      "\n",
      "146 chemistry biology nutrition food science 49 faculty members department visit website http www polyu edu hk abct information department research assistant professor chemical biology molecular biology b \n",
      "\n",
      "152 ty inclusion also included application materials apply uc irvine ap recruit located  recruit ap uci edu apply jpf05171inquiries regarding position directed dr peter kaiser search committee chair depar \n",
      "\n",
      "153 benayoun laboratory http gero usc edu labs benayounlab usc leonard davis school gerontology focuses study aging influences gene regula \n",
      "\n",
      "171 vitae preferably single pdf file application materials sent email lab p zhengdong zhang einstein yu edu einstein college medicine equal opportunity affirmative action employer qualified applicants rec \n",
      "\n",
      "174 ears collaborative experience beyond postdoc substitute years experience apply visit  jobs virginia edu search posting # 0622698 visit jobs virginia edu applicants central quickfind 83906 complete sta \n",
      "\n",
      "179 ears collaborative experience beyond postdoc substitute years experience apply visit  jobs virginia edu search posting # 0622698 visit jobs virginia edu applicants central quickfind 83906 complete sta \n",
      "\n",
      "195  following kirsten obernier associate science director professor nevan krogan kirsten obernier ucsf edu current cvcover lettertwo reference contactswe looking forward hearing positionbioinformatics po \n",
      "\n",
      "196 information three references brief description research experience via e mail dr lei yang lyang7 iu edu dr jun wan junwan iu edu favorite \n",
      "\n",
      "202 ory developing novel statistical bioinformatic methodologyto apply submit following gpeltz stanford edu 1 emphasizes bioinformatic biostatistical experience accomplishments2 list two individuals serve \n",
      "\n",
      "204 uity inclusion also included application materials apply uc irvines recruit located  recruit ap uci edu apply jpf05171inquiries regarding position directed dr peter kaiser search committee chair depar \n",
      "\n",
      "211 righam community full time employee new genomics bioinformatics hub http bioinformatics bwh harvard edu candidate work director develop bioinformatics pipelines ngs data bulk tissue single cell rnaseq \n",
      "\n",
      "217 erests plans curriculum vitae contact information three references dr siyuan zheng zhenglab uthscsa edu application reviewconsideration applications begin immediately continue positions filled salary  \n",
      "\n",
      "223 ests also welcome biochemistry cell biology etcapplications sent bernardo lemos blemos hsph harvard edu cover letter describing interests expertise research vision 1 2 pages c v containing contact inf \n",
      "\n",
      "227 terests future goals curriculum vitae names addresses three references dr dezheng huo dhuo uchicago edu application review begin immediately continue position filled university chicago affirmative act \n",
      "\n",
      "230 information three references brief description research experience via e mail dr lei yang lyang7 iu edu dr jun wan junwan iu edu favorite \n",
      "\n",
      "231 y michigan kellogg eye center rm 7300 1000 wall street ann arbor mi 48105 email ophthyrecruit umich edu organizationann arbor remarkable cultural living environment university michigan medical school  \n",
      "\n",
      "234 p multidisciplinary research projects training programs health life sciences applyvisit  soic iupui edu openings full application instructions review applications begin immediately however position re \n",
      "\n",
      "238 ncer immunotherapy interested candidates names three referees dr yi xing yi xing pennmedicine upenn edu details lab visit  xinglab org \n",
      "\n",
      "239 ical industry partners addition also access leading edge facilities lkcmedicine www lkcmedicine ntu edu sg ntu qualifications requirements 1 ph bioinformatics computational biology biomedical engineer \n",
      "\n",
      "242 bioinformatics cellular genomicsthe facilityst vincents institute svi www svi edu au internationally recognised independent research organization based vincents hospital campus e \n",
      "\n",
      "243  diversity research teaching especially encouraged applications must made electronically  jobs uncc edu position #001064 must include cover letter contact information least 3 references statement rese \n",
      "\n",
      "244 ctively part team ability meet deadlines efficiently multitask must check web site http bcb harvard edu knowledge systems desirable skills following would significant plusses experienced knowledge jav \n",
      "\n",
      "245 hievements publications application deadline june 29 2021documents sent following address hr nencki edu pl note bioinformatics bkkabout foundation polish science largest non governmental organisation  \n",
      "\n",
      "251 s psychiatric disease institute genomic medicine uc san diego led jonathan sebat http sebatlab ucsd edu beyster center leader fields human genome research psychiatric genetics postdoctoral fellow carr \n",
      "\n",
      "269 oncise description previous research accomplishments future plans 3 page limit  jobs utsouthwestern edu search job#593346 arrange referees reference letters biophysicssearch utsouthwestern edu screeni \n",
      "\n",
      "270  jiao tong university bio x institutes group leader prof mingqing xu webpage follows http life sjtu edu cn english index php component comprofiler userprofile xumingqing itemid 222we employ multiple c \n",
      "\n",
      "278 southern university science technology known sustech sustchttp www sustc edu cn en founded 2011 public funding shenzhen dynamic city viewed vanguard chinas development scien \n",
      "\n",
      "289  bioinformatics via inquiryaward instrument standard grantinvestigators gail rosen gailr ece drexel edu principal investigatorjacob russell co principal investigatorpenny hammrich co principal investi \n",
      "\n",
      "299 s psychiatric disease institute genomic medicine uc san diego led jonathan sebat http sebatlab ucsd edu beyster center leader fields human genome research psychiatric genetics postdoctoral fellow carr \n",
      "\n",
      "305 bioinformatics cellular genomicsthe facilityst vincents institute svi www svi edu au internationally recognised independent research organization based vincents hospital campus e \n",
      "\n",
      "307  infrastructure unique venues multidisciplinary research department computer science  www cs purdue edu phase significant growth offers stimulating academic environment active research programs areas  \n",
      "\n",
      "310 southern university science technology known sustech sustchttp www sustc edu cn en founded 2011 public funding shenzhen dynamic city viewed vanguard chinas development scien \n",
      "\n",
      "326  letter statement research interests list least 3 references dr hongjie li via email hongjie li bcm edu minimum qualificationseducation required md ph basic science health science related field experi \n",
      "\n",
      "329 ty inclusion also included application materials apply uc irvine ap recruit located  recruit ap uci edu apply jpf05171inquiries regarding position directed dr peter kaiser search committee chair depar \n",
      "\n",
      "355 position description center infection immunity cii columbia edu mailman school public health columbia university one world advanced academic centers research in \n",
      "\n",
      "359 r markdown latex jupyter notebooks etcstart dateas soon possiblehow apply academicpositions harvard edu postings 8523contact \n",
      "\n",
      "360 ls solved computationally start dateas soon possiblehow applyplease apply uic job posting  jobs uic edu job board job details jobid 103922 job bioinformatics specialistcontactmark maienschein cline di \n",
      "\n",
      "369 sion research teaching contact information five evaluators agreed write letters reference  jobs uic edu job board job details jobid 104814 \n",
      "\n",
      "373 stics department biological sciences beginning fall 2020 department biological sciences  www towson edu fcsm departments biology supports research spanning multiple disciplines emphasis collaborative  \n",
      "\n",
      "393 department email address web address individual email addresses cannot used section example oit uci edu instead mary uci edu provide general department zotcode done department general department zot c \n",
      "\n",
      "395 ry postings booths sponsorship packages listed keynotesivet baharuniversity pittsburghwww ccbb pitt edu faculty bahar title protein dynamics relevance sequence evolution drug discovery click presentat \n",
      "\n",
      "399 scientists world  bioconductor org packages pathview  bioconductor org packages gage  pathview uncc edu apply big data advanced analytics solve important complex problems biomedicine example recently  \n",
      "\n",
      "400 ch groups affiliated prince wales hospital randwick campus information school visit  powcs med unsw edu authe appointment salary range 125k 164k plus 17 superannuation leave loading salary commensurat \n",
      "\n",
      "410 rado provides generous leave health plans retirement contributions add bottom line benefits  www cu edu employee services benefits total compensation calculator  www cu edu employee services total com \n",
      "\n",
      "421 plication joan schenkel 10900 euclid ave brb 933 cleveland oh 44106 4988 attach one pdf jms114 case edu march 1 2013 resume transcript required complete application selection criteria applications rev \n",
      "\n",
      "425 tive research clinical applications open jobsclinical informatics specialist  careers ucdmc ucdavis edu psp extapp1 employee hrms c role applicant uc hr job post gbl page uc hr job post action u job r \n",
      "\n",
      "426 how applyinterested applicants together contact information three references steve mount smount umd edu contactstephen mount \n",
      "\n",
      "441 s review applications begin immediately continue position filled information review http biopic pku edu cninterested applicants letter application curriculum vitae names contact information least thre \n",
      "\n",
      "458 portunities existing new faculty members information current department programs http www marquette edu mscs marquette eoe values diversity catholic jesuit university routinely listed among countrys t \n",
      "\n",
      "467 e professionals ultimate goal improving health status community andre rogatko phd  www cedars sinai edu research faculty directory bios andre rogatko phd aspx director mourad tighiouart phd  www cedar \n",
      "\n",
      "476 so strong team spiritstart dateas soon possiblehow applysend application dr mohamad saad msaad hbku edu qa application packet include following 1 cover letter states motivation applying thisposition 2 \n",
      "\n",
      "483 position description center infection immunity cii columbia edu mailman school public health columbia university one world advanced academic centers research in \n",
      "\n",
      "485 la institute allergy immunology lji ay lab http www lji org faculty research labs ay  profiles ucsd edu ferhat ay ideal candidate strong background computational biology analysis next generation seque \n",
      "\n",
      "486 s email cover letter contact information 3 references directly dr david liebner david liebner osumc edu indicate postdoc application title email qualified candidates apply online http wexnermedical os \n",
      "\n",
      "491 e professionals ultimate goal improving health status community andre rogatko phd  www cedars sinai edu research faculty directory bios andre rogatko phd aspx director mourad tighiouart phd  www cedar \n",
      "\n",
      "502 ormatics director play central role indeveloping resources working adelman lab  adelman hms harvard edu andother hms groups relevant expertise bioinformatics director responsible establishing data man \n",
      "\n",
      "509 graduate courses mentorship undergraduate graduate students applications must made online  jobs slu edu include cover letter statement research interests statement teaching interests experiences conta \n",
      "\n",
      "513  possiblehow applyplease reprint representative publications inquiresto prof shuzhao li sli49 emory edu contactprof shuzhao li \n",
      "\n",
      "515 several successful postdoctoral associates department biostatistics bioinformatics www biostat duke edu duke university regularly ranked among top research institutions worldwide located durham north  \n",
      "\n",
      "516 ology may also inquires bioinformatics okstate educertificate program faqs http gradcollege okstate edu graduate certificate faqs \n",
      "\n",
      "517  research facilities students belonging represented minorities application forms available www famu edu index cfm reu introduction candidates shortlisted based skype interview panel selected candidate \n",
      "\n",
      "519 ding research environments scientific focus lyda hill department bioinformatics  www utsouthwestern edu departments bioinformatics create novel computational methods integrative analysis modeling high \n",
      "\n",
      "525  seeking successful postdoctoral associate department biostatistics bioinformatics www biostat duke edu duke university regularly ranked among top research institutions worldwide located durham north  \n",
      "\n",
      "527 bioinformatics post doctoral position available collaborative bioinformatics research lab sites uab edu bioi hlab goal collaborative bioinformatics research lab university alabama birmingham school me \n",
      "\n",
      "530 a thomas posted thursday october 15 2020the biodesign center personal diagnostics cpd biodesign asu edu pers stics biodesign institute arizona state university knowledge enterprise seeking experienced \n",
      "\n",
      "535 ding research environments scientific focus lyda hill department bioinformatics  www utsouthwestern edu departments bioinformatics create novel computational methods integrative analysis modeling high \n",
      "\n",
      "546  seeking successful postdoctoral associate department biostatistics bioinformatics www biostat duke edu duke university regularly ranked among top research institutions worldwide located durham north  \n",
      "\n",
      "554 er 1 2018 continue positions filled inquiries application materials may directed professor umassmed edu medical school located 10 minute drive worcester polytechnic institute wpi two universities nume \n",
      "\n",
      "555 ime frame graduation inquiries may directed chairman gaudenz danuser gaudenz danuser utsouthwestern edu utsw equal opportunity employer committed increasing diversity faculty welcomes nominations appl \n",
      "\n",
      "556 rld apply cover letter summary past work names email addresses three references dr li liu liliu asu edu put postdoctoral research associate subject line position remain open filled arizona state unive \n",
      "\n",
      "561 biostatistics bioinformatics andduke neurobiologythe laboratories dr richard mooney  www neuro duke edu mooney lab dr john pearson http pearsonlab github io duke university seeking two 2 postdoctoral  \n",
      "\n",
      "562 oinformatics engineering hands experience molecular biology research program information http  ncsu edu jmalonso alonso stepanova home htmlproject leader jose alonso jmalonso ncsu edu 919 515 5729gene \n",
      "\n",
      "567 lications continue positions filled inquiries application materials may directed professor umassmed edu besides medical school system includes amherst dartmouth lowell boston campuses extensive inter  \n",
      "\n",
      "569 uke university seeking postdoctoral associate department biostatistics bioinformatics  biostat duke edu school medicine duke university regularly ranked among top research institutions worldwide duke  \n",
      "\n",
      "570  seeking successful postdoctoral associate department biostatistics bioinformatics www biostat duke edu duke university regularly ranked among top research institutions worldwide located durham north  \n",
      "\n",
      "573 er 1 2018 continue positions filled inquiries application materials may directed professor umassmed edu medical school located 10 minute drive worcester polytechnic institute wpi two universities nume \n",
      "\n",
      "577 er 1 2018 continue positions filled inquiries application materials may directed professor umassmed edu medical school located 10 minute drive worcester polytechnic institute wpi two universities nume \n",
      "\n",
      "582 uke university seeking postdoctoral associate department biostatistics bioinformatics  biostat duke edu school medicine duke university regularly ranked among top research institutions worldwide duke  \n",
      "\n",
      "583 formatics post doctoral position available collaborative bioinformatics research lab http sites uab edu bioinformaticsresearchlab goal collaborative bioinformatics research lab university alabama birm \n",
      "\n",
      "584 rogram bti summer internships website application page bti reu internship apply internship http bti edu education internships applyplease view reu bti intern poster http bti edu wp content uploads 201 \n",
      "\n",
      "585 nerated nextgen data collaboratively fit members computational biology cluster hire http www auburn edu academic cosam departments biology job bio cluster cluster position supplements cluster hire fun \n",
      "\n",
      "586 sonline org inquiries application materials may addressed manuel garber via heidi beberman umassmed edu review applications continue position filled equal opportunity affirmative action employer unive \n",
      "\n",
      "599 toral positions available dr zhongming zhao bioinformatics systems medicine laboratory bsml www uth edu bioinfo center precision health school biomedical informatics university texas health science ho \n",
      "\n",
      "600 er 1 2018 continue positions filled inquiries application materials may directed professor umassmed edu medical school located 10 minute drive worcester polytechnic institute wpi two universities nume \n",
      "\n",
      "603  seeking successful postdoctoral associate department biostatistics bioinformatics www biostat duke edu duke university regularly ranked among top research institutions worldwide located durham north  \n",
      "\n",
      "604 uke university seeking postdoctoral associate department biostatistics bioinformatics  biostat duke edu school medicine duke university regularly ranked among top research institutions worldwide duke  \n",
      "\n",
      "605 ding research environments scientific focus lyda hill department bioinformatics  www utsouthwestern edu departments bioinformatics create novel computational methods integrative analysis modeling high \n",
      "\n",
      "607 several successful postdoctoral associates department biostatistics bioinformatics www biostat duke edu duke university regularly ranked among top research institutions worldwide located durham north  \n",
      "\n",
      "608  seeking successful postdoctoral associate department biostatistics bioinformatics www biostat duke edu duke university regularly ranked among top research institutions worldwide located durham north  \n",
      "\n",
      "618  seeking successful postdoctoral associate department biostatistics bioinformatics www biostat duke edu duke university regularly ranked among top research institutions worldwide located durham north  \n",
      "\n",
      "619 lications continue positions filled inquiries application materials may directed professor umassmed edu besides medical school system includes amherst dartmouth lowell boston campuses extensive inter  \n",
      "\n",
      "624  champlain burlington one best cities live u competitive salary stipend provided apply dawei li uvm edu highlight related research experience interest email positions available till filled job updates \n",
      "\n",
      "625 uke university seeking postdoctoral associate department biostatistics bioinformatics  biostat duke edu school medicine duke university regularly ranked among top research institutions worldwide duke  \n",
      "\n",
      "628 submit reference letters  academicjobsonline org ajo jobs 9837 inquiries may directed kim hall duke edu review applications begin november 15 2017 duke university located durham north carolina nc usad \n",
      "\n",
      "629 quirements benefits visit duke university office postdoctoral service website http www postdoc duke edu duke hr website www hr duke edu details interested position apply online duke hr website using f \n",
      "\n",
      "630 ime frame graduation inquiries may directed chairman gaudenz danuser gaudenz danuser utsouthwestern edu utsw equal opportunity employer committed increasing diversity faculty welcomes nominations appl \n",
      "\n",
      "631  seeking successful postdoctoral associate department biostatistics bioinformatics www biostat duke edu duke university regularly ranked among top research institutions worldwide located durham north  \n",
      "\n",
      "633  university seeking research associate senior department biostatistics bioinformatics  biostat duke edu school medicine duke university regularly ranked among top research institutions worldwide duke  \n",
      "\n",
      "635 ding research environments scientific focus lyda hill department bioinformatics  www utsouthwestern edu departments bioinformatics create novel computational methods integrative analysis modeling high \n",
      "\n",
      "647  seeking successful postdoctoral associate department biostatistics bioinformatics www biostat duke edu duke university regularly ranked among top research institutions worldwide located durham north  \n",
      "\n",
      "649 ime frame graduation inquiries may directed chairman gaudenz danuser gaudenz danuser utsouthwestern edu utsw equal opportunity employer committed increasing diversity faculty welcomes nominations appl \n",
      "\n",
      "653  seeking successful postdoctoral associate department biostatistics bioinformatics www biostat duke edu duke university regularly ranked among top research institutions worldwide located durham north  \n",
      "\n",
      "654 nce search committee college sciences central university jhungli taiwan 320 roc email hclee phy ncu edu tw quote subject ncu bioscience recruitment postdoctoral fellowsnon tenure track one year two ye \n",
      "\n",
      "655 stitutemass eye ear243 charles stboston 02114eric pierce meei harvard eduayellet segre meei harvard edu massachusetts eye ear affirmative action equal opportunity employer \n",
      "\n",
      "656  gradcollege okstate edu content bioinformaticsthe mission osu official campus wide bioinformatics certification program  \n",
      "\n",
      "657 lications continue positions filled inquiries application materials may directed professor umassmed edu besides medical school system includes amherst dartmouth lowell boston campuses extensive inter  \n",
      "\n",
      "661 lications continue positions filled inquiries application materials may directed professor umassmed edu besides medical school system includes amherst dartmouth lowell boston campuses extensive inter  \n",
      "\n",
      "670  seeking successful postdoctoral associate department biostatistics bioinformatics www biostat duke edu duke university regularly ranked among top research institutions worldwide located durham north  \n",
      "\n",
      "672  seeking successful postdoctoral associate department biostatistics bioinformatics www biostat duke edu duke university regularly ranked among top research institutions worldwide located durham north  \n",
      "\n",
      "673  seeking successful postdoctoral associate department biostatistics bioinformatics www biostat duke edu duke university regularly ranked among top research institutions worldwide located durham north  \n",
      "\n",
      "678 y team bioinformaticians web developers working treegenes forest genetics database dendrome ucdavis edu specifically responsible interacting larger group developers involved iplant cyberinfrastructure \n",
      "\n",
      "680 lications continue positions filled inquiries application materials may directed professor umassmed edu besides medical school system includes amherst dartmouth lowell boston campuses extensive inter  \n",
      "\n",
      "682 um vita contact information three professional references materials jill wegrzyn jill wegrzyn uconn edu appropriate candidate hired \n",
      "\n",
      "684 toral positions available dr zhongming zhao bioinformatics systems medicine laboratory bsml www uth edu bioinfo center precision health school biomedical informatics university texas health science ho \n",
      "\n",
      "688 several successful postdoctoral associates department biostatistics bioinformatics www biostat duke edu duke university regularly ranked among top research institutions worldwide located durham north  \n",
      "\n",
      "691 stry molecular biology microbiology cancer neuropharmacology nanomedicine pharmaceutics  www butler edu cophs pharmaceutical sciences faculty unique opportunities interactions basic scientists clinica \n",
      "\n",
      "696 medical life sciences full consideration applicants must apply position number f116az http jobs gmu edu complete submit online application upload cover letter philosophy teaching statement research st \n",
      "\n",
      "717 ctionsapplicants must submit qualifications via ucla career opportunities website  hr mycareer ucla edu reference position # 28874 aa eeothe complete listing qualifications available ucla official job \n",
      "\n",
      "741  university science technology researchers work knowledge mining lab prof vladimir bajic  www kaust edu sa en study faculty vladimir bajic group works heavily analysis biomedical data strong collabora \n",
      "\n",
      "744 ponse communications plans policies information report accessed online http securityreport uchicago edu paper copies report available upon request university chicago police department 850 e 61st stree \n",
      "\n",
      "754 ounce acceptedexpiring date feb 28 2018person contact professor lee wei yange mail lwyang life nthu edu twplease resume e mail address \n",
      "\n",
      "784 ounce acceptedexpiring date feb 28 2018person contact professor lee wei yange mail lwyang life nthu edu twplease resume e mail address \n",
      "\n",
      "794 oximately 26 students pursuing thesis non thesis degrees information department visit http www gcsu edu biology primary purpose primary teaching responsibilities include teaching undergraduate graduat \n",
      "\n",
      "812 rojects mentioned areas appropriate mentorship details lab related publications found  med virginia edu faculty faculty listing ar7jq  scholar google com citations user 6hjjizmaaaaj hl enrequired qual \n",
      "\n",
      "816 rience bioinformatics related fieldyou must meet minimum technology requirements reviewed  www umuc edu visitors careers facultyrecruit upload adjunct faculty minimum technology requirements pdfexperi \n",
      "\n",
      "832 citizen green card holder comply u export policies applications must made electronically  jobs uncc edu postings 19642 position #001067 include vitae least 3 references letter interest additional info \n",
      "\n",
      "846 ral city relatively low cost living outstanding cultural educational environment email sunl uthscsa edu postdoctoral appointments designated security sensitive positions ut health san antonio equal em \n",
      "\n",
      "858 ounce acceptedexpiring date feb 28 2018person contact professor lee wei yange mail lwyang life nthu edu twplease resume e mail address \n",
      "\n",
      "867 uity inclusion also included application materials apply uc irvines recruit located  recruit ap uci edu apply jpf05171inquiries regarding position directed dr peter kaiser search committee chair depar \n",
      "\n",
      "901 ons assistance accessibility materials related search encouraged contact central hr facultyjobs uga edu contact department search committee requests minimum qualifications applicants must hold ph md d \n",
      "\n",
      "908  research publications uploaded electronically refer following website instructions  recruit ap uci edu apply jpf04949applications received january 1 2019 receive fullest consideration university cali \n",
      "\n",
      "940 rience bioinformatics related fieldyou must meet minimum technology requirements reviewed  www umuc edu visitors careers facultyrecruit upload adjunct faculty minimum technology requirements pdfexperi \n",
      "\n",
      "942 ergraduate graduate students would asset additional information fels found website  medicine temple edu departments centers research centers fels institute cancer research molecular biology additional \n",
      "\n",
      "943 ral city relatively low cost living outstanding cultural educational environment email sunl uthscsa edu postdoctoral appointments designated security sensitive positions ut health san antonio equal em \n",
      "\n",
      "945 py transcripts names contact information three references learn school visit website http cse csusb edu review applications begin february 5th 2017 continue position filled interested opportunity invi \n",
      "\n",
      "953 dback program chair possible curricular improvements biology program umucplease visit http www umuc edu academic programs course information cfm area biol learn program including description outcomes  \n",
      "\n",
      "962 quity inclusion also included application materials apply uc irvine recruit located  recruit ap uci edu apply jpf05171inquiries regarding position directed dr peter kaiser search committee chair depar \n",
      "\n",
      "964 mun 2018 9 1317 trends biochem sci 2018 43 576 592 details contact prof yi stephen yi austin utexas edu visit lab webpage athttp sites utexas edu yilab requirements applicants recent ph degree equival \n",
      "\n",
      "994 dback program chair possible curricular improvements biology program umucplease visit http www umuc edu academic programs course information cfm area biol learn program including description outcomes  \n",
      "\n",
      "1038 ostdoctoral fellows also part new nsf simons center multiscale cell fate research http cellfate uci edu position renewable three years based upon availability funding performance postdoctoral fellow a \n",
      "\n",
      "1099  limited personnel policies policies found university administrative guide http adminguide stanford edu job information technology serviceslocation school medicineschedule full timeclassification leve \n",
      "\n",
      "1114 strengthen academic research missions building new genomics bioinformatics cluster gbc http www ucf edu research genomics staffing completed fall 2017 part gbc currently seeking hire four tenure earni \n",
      "\n",
      "1149 odation application process contact disability services office 206 543 6450 206 543 6452 tty dso uw edu apply jobemail jobs like this \n",
      "\n",
      "1155 tive medicine duties department pharmacology strong funded research training programs http mcph uic edu home consistently ranked among top 10 nationwide department bioengineering core group faculty me \n",
      "\n",
      "1156 rests via universitys job vacancies website ref 517370 information role obtained jcsmr director anu edu authe australian university provides attractive benefits excellent support maintain healthy work \n",
      "\n",
      "1188  c submission guidelines currently work georgetown university exit website login gms gms georgetown edu using net id password select career worklet gms home dashboard view jobs georgetown note order c \n",
      "\n",
      "1192 lussubmission guidelines currently work georgetown university exit website login gms gms georgetown edu using net id password select career worklet gms home dashboard view jobs georgetown note order c \n",
      "\n",
      "1193  special instructions full consideration applicants must apply position number f114az http jobs gmu edu complete submit online application upload cover letter list three references contact information \n",
      "\n",
      "1202  special instructions full consideration applicants must apply position number f116az http jobs gmu edu march 3 2017 complete submit online application upload cover letter philosophy teaching statemen \n",
      "\n",
      "1222 ccomplishments include contact information three references applications sent directly jgillis cshl edu cold spring harbor laboratory equal opportunity employer click read position apply online nature \n",
      "\n",
      "1263 s related analysis biological data current teachers edward room number 331 oczeretko e oczeretko pb edu plnote module also available summer \n",
      "\n",
      "1264 ndidates applying position assistant professor level may qualify nomination http www utsouthwestern edu education programs nondegree programs programs endowed scholars index html candidates associate  \n",
      "\n",
      "1306 y strong team spirit start dateas soon possiblehow applysend application dr mohamad saad msaad hbku edu qa application packet include following 1 cover letter states motivation applying thisposition 2 \n",
      "\n",
      "1318 g materials may email inquiries bioinformatics search subject line shayla jordan sjordan1 stonehill edu email position department specific inquiries administrative assistant romelle berry rberry stone \n",
      "\n",
      "1344 tact michael ochs academic users version bayesian decomposition obtained athttp bioinformatics fccc edu software opensource pattrun pattrun shtmlfollowing completion mta download pattrun macos x dual  \n",
      "\n",
      "1355 rate experience full time employee incumbent receive duke universitys benefits package http hr duke edu benefits main html position available immediately remain open filled position currently funded n \n",
      "\n",
      "1358 nce search committee college sciences central university jhungli taiwan 320 roc email hclee phy ncu edu tw quote subject ncu bioscience recruitment postdoctoral fellowsnon tenure track one year two ye \n",
      "\n",
      "1386  letter statement research interests list least 3 references dr hongjie li via email hongjie li bcm edu education required md ph basic science health science related field experience required none req \n",
      "\n",
      "1407 borative scholarship basic applied life sciences across vcu part vcu life sciences lifesciences vcu edu center committed interdisciplinary research training connects researchers across entire universi \n",
      "\n",
      "1454 hower lab department biostatistics harvard h chan school public health http huttenhower sph harvard edu seeking research associate lead groups bioinformatics center microbiome analyses type 1 diabetes \n",
      "\n",
      "1460 hower lab department biostatistics harvard h chan school public health http huttenhower sph harvard edu seeking research associate lead groups bioinformatics center microbiome analyses type 1 diabetes \n",
      "\n",
      "1465 s irc130854 specific enquiries issues application may directed uts recruitment team recruitment uts edu au +61 0 2 9514 1080 closing date thursday 23rd may 11 59pm aest 2019at uts concepts equity soci \n",
      "\n",
      "1534 bioinformatics including physician scientists additional information department pathology visit uab edu medicine pathologyto learn university alabama birmingham visit uab edu homeuab equal opportunity \n",
      "\n",
      "1535 cineschedule full timegrade gjob code 4751company infostanford university website http www stanford edu company profilein 1876 former california governor leland stanford purchased 650 acres rancho san \n",
      "\n",
      "1543 hower lab department biostatistics harvard h chan school public health http huttenhower sph harvard edu seeking research associate lead groups bioinformatics center microbiome analyses type 1 diabetes \n",
      "\n",
      "1607 s letter interest outlining research accomplishments applications sent directly oadebalisabanciuniv edu br br strong required qualifications br strong ul li ph degree computational life sciences 3+ ye \n",
      "\n",
      "1612 lp students understand important expanding field plan attending interested resume nalkharouf towson edu subject line include words summer workshop applicants accepted positions filled \n",
      "\n",
      "1622  analysis resources ngs data would like training session contact dr noushin ghaffari nghaffari tamu edu recommended resources analyzing data iplant collaborative nsf founded project support computatio \n",
      "\n",
      "1632 ications considered rolling basis relevant publications list three referee dr singh isingh tamu dot edu also include cover letter research interests motivation experience briefly describe past going w \n",
      "\n",
      "1637 n individuals disabilities protected veterans encouraged apply apply position online  www med upenn edu apps faculty ad index php g330 d5215favorite \n",
      "\n",
      "1643 ment scientific projects common interest department experimental health sciences upf dcexs  www upf edu web biomed internationally renowned biomedical research center barcelona spain dcexs located bar \n",
      "\n",
      "1647 ata driven research programs icahn institute data science genomic technology datascience icahn mssm edu biomedical research becomes increasingly data intensive science success require goal directed te \n",
      "\n",
      "1648 evious research scientific interests fit positionhow submit application materials amnewman stanford edu farnaz22 stanford edu visit  newmanlab stanford edu informationreview applications begin rolling \n",
      "\n",
      "1651 position description department biological statistics computational biology university  bscb edu invites applications tenure track position assistant associate professor level area computationa \n",
      "\n",
      "1652 position description department biological statistics computational biology university  bscb edu invites applications tenure track position assistant associate professor level area computationa \n",
      "\n",
      "1657 on aware incomplete applications cannot saved applications accepted  facultyrecruiting northwestern edu apply nzgx northwestern university equal opportunity affirmative action employer protected class \n",
      "\n",
      "1660 roceduresall interested candidates encouraged email current cover letter dr habil zare zare uthscsa edu potential graduate students also apply corresponding programs http gsbs uthscsa edu prospective  \n",
      "\n",
      "1662 itted teaching undergraduate graduate levels applyapplications must submitted online  www princeton edu acad positions position 12981 include cover letter curriculum vitae two page research descriptio \n",
      "\n",
      "1663 statement research interests names addresses three individuals serve references ihuman shanghaitech edu cnmailing address room 201 building 6 haike road 99 zhangjiang hi tech pudong shanghai 200031 ch \n",
      "\n",
      "1665 eferences requested selected applicants questions position directed geneva frank geneva frank tufts edu staff assistant chair faculty review applications begins november 1 2019 continues position fill \n",
      "\n",
      "1672 roviding evidence strong sustainable funded research program interested applicants apply  jobs uchc edu search numbers 2020 331uconn health affirmative action employer addition eeo f v pwd pv employer \n",
      "\n",
      "1676 nce interested cover letter contact information three references dr tomas helikar thelikar2 unl dot edu university nebraska active science foundation advance equity program committed pluralistic campu \n",
      "\n",
      "1677 n individuals disabilities protected veterans encouraged apply apply position online  www med upenn edu apps faculty ad index php g330 d5215favorite \n",
      "\n",
      "1678 erably hold funding department ofpharmacology strong funded research training programshttp mcph uic edu home consistently ranked among top 10nationwide department bioengineering core group facultymemb \n",
      "\n",
      "1679 um vitae proposed research plan contact information three references facultysearch ccib mgh harvard edu december 3 2018 ccib affiliation faculty drawn together common interest study biology methods en \n",
      "\n",
      "1680 onal collaborative projects application inquiries submitted e mail vilas menon vm2545 cumc columbia edu along include cover letter describing previous research research interests future goals provide  \n",
      "\n",
      "1685 s telephone numbers e mail addresses three references e mail erica zuniga rheumatology northwestern edu northwestern university equal opportunity affirmative action employer protected classes includin \n",
      "\n",
      "1686 ied candidates email brief description scientific accomplishments names three references lezon pitt edu favorite \n",
      "\n",
      "1688 snational university singapore 14 science drive 4singapore 117543fax 65 6779 5671 email dbsnori nus edu sgclosing date application 15 january 2022 search continue suitable candidate foundpositionassis \n",
      "\n",
      "1693 ces viterbi school engineering keck school medicine information qcb section found http dornsife usc edu qcb qcb section located university park campus los angeles california anticipated start date aug \n",
      "\n",
      "1694 ibility work anywhere faculty three continents close communication big data biggest check radc rush edu utilize multi omic data acquired set hundreds individuals including histone acetylation dna meth \n",
      "\n",
      "1695 roceduresall interested candidates encouraged email current cover letter dr habil zare zare uthscsa edu potential graduate students also apply corresponding programs http gsbs uthscsa edu prospective  \n",
      "\n",
      "1697 ories teaching spaces student collaboration areas information schmid college found http www chapman edu scst index aspx schmid college houses biological sciences computational data sciences cads progr \n",
      "\n",
      "1699  application including documents e mail acceding 5 mb total file size karsten zengler kzengler ucsd edu postdoc position vector borne disease subject line favoritepostdoctoral research fellow computat \n",
      "\n",
      "1703 computational biology department http www cbd cmu edu school computer science carnegie mellon university seeks new tenure track faculty share vision c \n",
      "\n",
      "1715 ous works future research interests arrange list two three references sent jian zhou utsouthwestern edu positionpostdoctoral fellow computational biology genomics population geneticssend email confirm \n",
      "\n",
      "1719  application including documents e mail acceding 5 mb total file size karsten zengler kzengler ucsd edu postdoc position vector borne disease subject line favoritepostdoctoral research fellow computat \n",
      "\n",
      "1723 herty director clinical research massachusetts general hospital cancer center kflaherty mgh harvard edu dr dejan juric director termeer center targeted therapies juric dejan mgh harvard edu equal oppo \n",
      "\n",
      "1724 npostdoctoral positions computational biology available laboratory dr jason locasale jlocasale duke edu  www ncbi nlm gov pubmed term locasale+j group young energetic highly collaborative scientists c \n",
      "\n",
      "1728 rence responsibility candidate letters sent materials submitted email fellownominations compbio cmu edu applicants specify particular faculty member members wish work applications submitted march 15 2 \n",
      "\n",
      "1729 ack positions computational biologydescriptionthe computational biology department http www cbd cmu edu school computer science scs carnegie mellon university seeking hire new tenure track faculty sha \n",
      "\n",
      "1735 tfamiliarity data security requirements hipaato apply apply details go job ohsu jobs site  ais ohsu edu oa html ircvisitor jsp search job posting id irc50158 include cover letter resume application \n",
      "\n",
      "1749 is available laboratory dr lilia iakoucheva university california san diego http iakouchevalab ucsd edu research htmlcomputational biology neuropsychiatric disordersa postdoctoral position open applic \n",
      "\n",
      "1754 y 14853position description department biological statistics computational biology university  bscb edu invites applications tenure track position assistant associate professor level area computationa \n",
      "\n",
      "1757 ange three reference letters submitted inquiries may sent andrew clark search committee chair ac347 edu initial screening applications begin september 10 2020 continue position filled opportunity new  \n",
      "\n",
      "1758 ange three reference letters submitted inquiries may sent andrew clark search committee chair ac347 edu initial screening applications begin september 10 2020 continue position filled opportunity new  \n",
      "\n",
      "1759  biology university invites applications lecturer position information department appears http stat edu applicants demonstrated interest excellence teaching statistics introductory advanced undergradu \n",
      "\n",
      "1760  biology university invites applications lecturer position information department appears http stat edu applicants demonstrated interest excellence teaching statistics introductory advanced undergradu \n",
      "\n",
      "1766 klocation university 14853position description department computational biology university  compbio edu invites applications two tenure track positions assistant associate professor level area computa \n",
      "\n",
      "1767 ange three reference letters submitted inquiries may sent andrew clark search committee chair ac347 edu initial screening applications begin september 10 2020 continue position filled opportunity new  \n",
      "\n",
      "1769 klocation university 14853position description department computational biology university  compbio edu invites applications two tenure track positions assistant associate professor level area computa \n",
      "\n",
      "1771 e wellness workshops childcare adoption assistance parental leave flexible work options details  hr edu sites default files documents family resources faculty pdf \n",
      "\n",
      "1772  biology university invites applications lecturer position information department appears http stat edu applicants demonstrated interest excellence teaching statistics introductory advanced undergradu \n",
      "\n",
      "1773 ange three reference letters submitted inquiries may sent andrew clark search committee chair ac347 edu initial screening applications begin september 10 2020 continue position filled opportunity new  \n",
      "\n",
      "1776 university 403b retirement plan information regarding university la verne visit website www laverne edu university la verne 125 year old independent comprehensive doctoral granting institution souther \n",
      "\n",
      "1777 e wellness workshops childcare adoption assistance parental leave flexible work options details  hr edu sites default files documents family resources faculty pdf \n",
      "\n",
      "1778 e wellness workshops childcare adoption assistance parental leave flexible work options details  hr edu sites default files documents family resources faculty pdf \n",
      "\n",
      "1780  biology university invites applications lecturer position information department appears http stat edu applicants demonstrated interest excellence teaching statistics introductory advanced undergradu \n",
      "\n",
      "1781 ange three reference letters submitted inquiries may sent andrew clark search committee chair ac347 edu initial screening applications begin september 10 2020 continue position filled opportunity new  \n",
      "\n",
      "1843  two significant publications three confidential letters recommendation pathology childrens harvard edu attention pathology research search committee department pathology children hospital boston 300  \n",
      "\n",
      "1857 rams unmccc including molecular discovery high throughput target screening center nmmlsc health unm edu one nations 6 chemical biology consortium centers excellence nci next program new mexico center  \n",
      "\n",
      "1870 ard medical school affiliated hospitals laboratory professor xiaole shirley liu http liulab harvard edu farber cancer institute harvard h chan school public health invites applicants computational bio \n",
      "\n",
      "1892  collaboration ccb achieving goal advancing precision medicine health information http ccb berkeley edu http eecs berkeley edu seek candidates demonstrated excellence originality productivity research \n",
      "\n",
      "1908 n individuals disabilities protected veterans encouraged apply apply position online  www med upenn edu apps faculty ad index php g330 d5215share job network \n",
      "\n",
      "1933 monstrated commitment philosophy inclusion embedded aspects campus life described http www ucdenver edu departments odi documents cu denver anschutz diversity strategic priority pdf cu denver offers c \n",
      "\n",
      "1952  analysis big data include pmids 29760084 29439026 29517978 28951829 information idom www med upenn edu idom qualifications minimum master degree 3 years 5 years experience equivalent combination educ \n",
      "\n",
      "1963 0 time depending years postdoc experience position provides full benefits apply  aprecruit berkeley edu apply jpf01425interested individuals submit application documents pdfs includes updated curricul \n",
      "\n",
      "1967  action employer salary commensurate experience apply position email dr samuel yang syang5 stanford edu click read position apply online naturejobs com \n",
      "\n",
      "1975 l translational sciences core elective courses listed courses page bicb student handbook http r umn edu academics research bicb graduate program student handbook courses advisers together dgs student  \n",
      "\n",
      "1980  action employer salary commensurate experience apply position email dr samuel yang syang5 stanford edu click read position apply online naturejobs com \n",
      "\n",
      "1996 opics publications found tianlab org interested individuals contact dr bin tian email btian rutgers edu including summary previous research contact information 2 3 referees offer competitive salary em \n",
      "\n",
      "2003 minedhow applyinterested candidates copy research statement kimberly glass channing dot harvard dot edu contactkimberly glass \n",
      "\n",
      "2013 g edge program rna computational biology start dateto determinedhow applyapply online www med upenn edu apps faculty ad index php g330 d5215we seek candidates embrace reflect diversity broadest sense  \n",
      "\n",
      "2014 orhoods diverse culinary entertainment opportunities accessible outdoor recreation www coolpgh pitt edu qualificationsphd applied quantitative discipline computational biology bioinformatics biostatis \n",
      "\n"
     ]
    }
   ],
   "source": [
    "#30 antes e depois\n",
    "# 'edu','zhiping weng', 'within', 'ta', stopwords 'new york', 'ithaca', 'cornell', 'albert', 'umass', 'nih','niab', 'afbi', st', jude', 'leibniz', 'hki', 'leibniz', 'dfci', 'dana', 'faber' institutos 'emilie' nomes proprios 'ensure' (garantir) verbos\n",
    "\n",
    "window = 100\n",
    "\n",
    "caracter = 'edu '\n",
    "for index, row in docs.iterrows():\n",
    "    a = row.text_result\n",
    "    n = -1\n",
    "    if(caracter in a):\n",
    "        n = a.find(caracter)\n",
    "        start_index = max(0, n - window)\n",
    "        end_index = min(len(a), n + window)\n",
    "        s = a[start_index:end_index]\n",
    "        print(index, s, '\\n')"
   ]
  },
  {
   "cell_type": "code",
   "execution_count": 61,
   "metadata": {},
   "outputs": [
    {
     "data": {
      "text/plain": [
       "[('learning', 0.02297805556721839),\n",
       " ('data', 0.021946743803225907),\n",
       " ('machine', 0.0215539790939356),\n",
       " ('drug', 0.018187919613349993),\n",
       " ('ai', 0.01618052364979948),\n",
       " ('discovery', 0.015326142181843702),\n",
       " ('approaches', 0.012421046677245138),\n",
       " ('omics', 0.012245516912319346),\n",
       " ('kaust', 0.012220043144284834),\n",
       " ('scientist', 0.011724349469992802)]"
      ]
     },
     "execution_count": 61,
     "metadata": {},
     "output_type": "execute_result"
    }
   ],
   "source": [
    "topic_model.get_topic(20)  "
   ]
  },
  {
   "cell_type": "markdown",
   "metadata": {
    "id": "ixc-X2JzodrZ"
   },
   "source": [
    "**NOTA**: BERTopic é estocástico, o que significa que os tópicos podem diferir entre as execuções. Isso se deve principalmente à natureza estocástica do UMAP."
   ]
  },
  {
   "cell_type": "code",
   "execution_count": null,
   "metadata": {
    "id": "FX_Ngb3PpRFG"
   },
   "outputs": [],
   "source": [
    "### Attributes"
   ]
  },
  {
   "cell_type": "markdown",
   "metadata": {
    "id": "j91cP3xBpWDM"
   },
   "source": [
    "## Atributos\n",
    "\n",
    "Existem vários atributos que você pode acessar depois de treinar seu modelo BERTopic:\n",
    "\n",
    "\n",
    "| Attribute | Description |\n",
    "|------------------------|---------------------------------------------------------------------------------------------|\n",
    "| topics_               | The topics that are generated for each document after training or updating the topic model. |\n",
    "| probabilities_ | The probabilities that are generated for each document if HDBSCAN is used. |\n",
    "| topic_sizes_           | The size of each topic                                                                      |\n",
    "| topic_mapper_          | A class for tracking topics and their mappings anytime they are merged/reduced.             |\n",
    "| topic_representations_ | The top *n* terms per topic and their respective c-TF-IDF values.                             |\n",
    "| c_tf_idf_              | The topic-term matrix as calculated through c-TF-IDF.                                       |\n",
    "| topic_labels_          | The default labels for each topic.                                                          |\n",
    "| custom_labels_         | Custom labels for each topic as generated through `.set_topic_labels`.                                                               |\n",
    "| topic_embeddings_      | The embeddings for each topic if `embedding_model` was used.                                                              |\n",
    "| representative_docs_   | The representative documents for each topic if HDBSCAN is used.                                                |\n",
    "\n",
    "Por exemplo, para acessar os tópicos previstos para os 10 primeiros documentos, simplesmente executamos o seguinte:"
   ]
  },
  {
   "cell_type": "code",
   "execution_count": null,
   "metadata": {
    "id": "uCMHaWVMpbo3"
   },
   "outputs": [],
   "source": [
    "topic_model.topics_[:10]"
   ]
  },
  {
   "cell_type": "markdown",
   "metadata": {
    "id": "UbT2Bd9gqaJ3"
   },
   "source": [
    "# **Visualização**\n",
    "Existem várias opções de visualização disponíveis no BERTopic, nomeadamente a visualização de tópicos, probabilidades e tópicos ao longo do tempo. A modelagem de tópicos é, até certo ponto, bastante subjetiva. As visualizações ajudam a entender os tópicos que foram criados."
   ]
  },
  {
   "cell_type": "code",
   "execution_count": null,
   "metadata": {},
   "outputs": [],
   "source": []
  },
  {
   "cell_type": "markdown",
   "metadata": {
    "id": "M8c8LenB8Zyl"
   },
   "source": [
    "## Visualizar Tópicos\n",
    "Depois de treinar nosso modelo `BERTopic`, podemos percorrer iterativamente talvez uma centena de tópicos para obter uma boa\n",
    "compreensão dos tópicos que foram extraídos. No entanto, isso leva algum tempo e carece de uma representação global.\n",
    "Em vez disso, podemos visualizar os tópicos que foram gerados de maneira muito semelhante a\n",
    "[LDAvis](https://github.com/cpsievert/LDAvis):"
   ]
  },
  {
   "cell_type": "code",
   "execution_count": null,
   "metadata": {
    "colab": {
     "base_uri": "https://localhost:8080/",
     "height": 667
    },
    "id": "S9qDqEHddgKq",
    "outputId": "3fddd5f1-194e-4708-a7dc-f0c5602c140a"
   },
   "outputs": [],
   "source": [
    "topic_model.visualize_topics()"
   ]
  },
  {
   "cell_type": "markdown",
   "metadata": {
    "id": "ITB7bf6q8nWQ"
   },
   "source": [
    "## Visualize as probabilidades do tópico\n",
    "\n",
    "A variável `probabilities` que é retornada de `transform()` ou `fit_transform()` pode\n",
    "ser usado para entender o quão confiante o BERTopic está de que certos tópicos podem ser encontrados em um documento. Em outras palavras é aistribuição de probabilidade de um determinado documento conter diferentes tópicos.\n",
    "\n",
    "Para visualizar as distribuições, simplesmente chamamos:"
   ]
  },
  {
   "cell_type": "code",
   "execution_count": null,
   "metadata": {
    "colab": {
     "base_uri": "https://localhost:8080/",
     "height": 542
    },
    "id": "ypfI1-KHdmcX",
    "outputId": "4fd56127-4143-4cf7-d227-ef43725f1ad7"
   },
   "outputs": [],
   "source": [
    "topic_model.visualize_distribution(probs[1], min_probability=0.015)"
   ]
  },
  {
   "cell_type": "markdown",
   "metadata": {
    "id": "QHRTeSpl5JYB"
   },
   "source": [
    "## Visualizar hierarquia de tópicos\n",
    "\n",
    "Os tópicos que foram criados podem ser reduzidos hierarquicamente. Para entender a estrutura hierárquica potencial dos tópicos, podemos usar scipy.cluster.hierarchy para criar clusters e visualizar como eles se relacionam entre si. Isso pode ajudar a selecionar um nr_topics apropriado ao reduzir o número de tópicos que você criou."
   ]
  },
  {
   "cell_type": "code",
   "execution_count": null,
   "metadata": {
    "colab": {
     "base_uri": "https://localhost:8080/",
     "height": 617
    },
    "id": "ltmLFRR56a4X",
    "outputId": "0458e59c-30ce-4700-8dbf-0932afc63f1d"
   },
   "outputs": [],
   "source": [
    "topic_model.visualize_hierarchy(top_n_topics=51)"
   ]
  },
  {
   "cell_type": "markdown",
   "metadata": {
    "id": "4spXl2_C6flq"
   },
   "source": [
    "## Visualizar termos\n",
    "\n",
    "Podemos visualizar os termos selecionados para alguns tópicos criando gráficos de barras a partir das pontuações c-TF-IDF para cada representação de tópico. Insights podem ser obtidos a partir das pontuações relativas de c-TF-IDF entre e dentro dos tópicos. Além disso, você pode facilmente comparar representações de tópicos entre si."
   ]
  },
  {
   "cell_type": "code",
   "execution_count": null,
   "metadata": {
    "colab": {
     "base_uri": "https://localhost:8080/",
     "height": 617
    },
    "id": "zpm9LsKW6mi5",
    "outputId": "1197affc-dde2-44c1-9ba7-c9fb36a1143c"
   },
   "outputs": [],
   "source": [
    "topic_model.visualize_barchart(top_n_topics=56, n_words=10, height=300)"
   ]
  },
  {
   "cell_type": "markdown",
   "metadata": {
    "id": "QCPdi6_z6sbT"
   },
   "source": [
    "## Visualize a similaridade do tópico\n",
    "Tendo gerado incorporações de tópicos, por meio de c-TF-IDF e incorporações, podemos criar uma matriz de similaridade simplesmente aplicando similaridades de cosseno por meio dessas incorporações de tópicos. O resultado será uma matriz que indica a semelhança entre determinados tópicos."
   ]
  },
  {
   "cell_type": "code",
   "execution_count": null,
   "metadata": {
    "colab": {
     "base_uri": "https://localhost:8080/",
     "height": 1000
    },
    "id": "edzNhZuZ6wTr",
    "outputId": "e01231db-fe82-49d3-a96f-8135522d9b9b"
   },
   "outputs": [],
   "source": [
    "topic_model.visualize_heatmap(top_n_topics=50, width=1000, height=1000)"
   ]
  },
  {
   "cell_type": "markdown",
   "metadata": {},
   "source": [
    "## Encontre tópicos semelhantes ao termo especificado"
   ]
  },
  {
   "cell_type": "code",
   "execution_count": null,
   "metadata": {
    "scrolled": true
   },
   "outputs": [],
   "source": [
    "# Retorna os 3 principais tópicos que são semanticamente mais semelhantes \n",
    "# a um termo de consulta de entrada \n",
    "\n",
    "# 3 tópicos mais semelhantes à palavra especificada\n",
    "similar_topics, similarity = \\\n",
    "topic_model.find_topics(\"skills\", top_n = 3) \n",
    "\n",
    "\n",
    "print(\"Informações sobre tópicos mais semelhantes: \\n{}\".format(topic_model.get_topic(similar_topics[0])))\n",
    "print(\"Pontuação de similaridade: {}\".format(similarity[0]))\n",
    "\n",
    "print(\"\\n Most Similar Topic Info: \\n{}\".format(topic_model.get_topic(similar_topics[1])))\n",
    "print(\"Similarity Score: {}\".format(similarity[1]))\n",
    "\n",
    "print(\"\\n Most Similar Topic Info: \\n{}\".format(topic_model.get_topic(similar_topics[2])))\n",
    "print(\"Similarity Score: {}\".format(similarity[2]))"
   ]
  },
  {
   "cell_type": "markdown",
   "metadata": {
    "id": "_ak_CLR164mx"
   },
   "source": [
    "## Visualize o declínio da pontuação do período\n",
    "Os tópicos são representados por um número de palavras começando com a palavra mais representativa. Cada palavra é representada por uma pontuação c-TF-IDF. Quanto maior a pontuação, mais representativa é a palavra para o tópico. Como as palavras do tópico são classificadas por sua pontuação c-TF-IDF, as pontuações diminuem lentamente a cada palavra adicionada. Em algum ponto, adicionar palavras à representação do tópico aumenta apenas marginalmente a pontuação total do c-TF-IDF e não seria benéfico para sua representação.\n",
    "\n",
    "Para visualizar esse efeito, podemos plotar as pontuações do c-TF-IDF para cada tópico pela classificação do termo de cada palavra. Em outras palavras, a posição das palavras (classificação do termo), onde as palavras com a maior pontuação c-TF-IDF terão uma classificação de 1, será colocada no eixo x. Considerando que o eixo y será preenchido pelas pontuações c-TF-IDF. O resultado é uma visualização que mostra o declínio da pontuação c-TF-IDF ao adicionar palavras à representação do tópico. Ele permite que você, usando o método do cotovelo, selecione o melhor número de palavras em um tópico."
   ]
  },
  {
   "cell_type": "code",
   "execution_count": null,
   "metadata": {
    "colab": {
     "base_uri": "https://localhost:8080/",
     "height": 517
    },
    "id": "7gT3Korh6-MX",
    "outputId": "5810f810-4633-425e-a7d2-3a1e9570639a"
   },
   "outputs": [],
   "source": [
    "topic_model.visualize_term_rank()"
   ]
  },
  {
   "cell_type": "markdown",
   "metadata": {
    "id": "D48ienfZrfP0"
   },
   "source": [
    "# **Representação do Tópico**\n",
    "Depois de criar o modelo de tópico, você pode não ficar satisfeito com alguns dos parâmetros escolhidos. Felizmente, o BERTopic permite que você atualize os tópicos depois de criados.\n",
    "\n",
    "Isso permite ajustar o modelo de acordo com suas especificações e desejos."
   ]
  },
  {
   "cell_type": "markdown",
   "metadata": {
    "id": "c4m3UMsw-Zxk"
   },
   "source": [
    "## Atualizar Tópicos\n",
    "Depois de treinar um modelo e visualizar os tópicos e as palavras que os representam,\n",
    "você pode não estar satisfeito com a representação. Talvez você tenha esquecido de remover\n",
    "stopwords ou você quer experimentar um `n_gram_range` diferente. Podemos usar a função `update_topics` para atualizar\n",
    "a representação do tópico com novos parâmetros para `c-TF-IDF`:"
   ]
  },
  {
   "cell_type": "code",
   "execution_count": null,
   "metadata": {
    "id": "KWm7B-FJ-iYW"
   },
   "outputs": [],
   "source": [
    "topic_model.update_topics(docs.text_result, n_gram_range=(1, 3))"
   ]
  },
  {
   "cell_type": "code",
   "execution_count": null,
   "metadata": {
    "colab": {
     "base_uri": "https://localhost:8080/"
    },
    "id": "wf31gQavdtfG",
    "outputId": "b2cf3d47-f665-44fe-bbe0-c927e4d73363"
   },
   "outputs": [],
   "source": [
    "topic_model.get_topic(0)   # We select topic that we viewed before"
   ]
  },
  {
   "cell_type": "markdown",
   "metadata": {
    "id": "9antKpdC91A-"
   },
   "source": [
    "## Redução de Tópico\n",
    "Também podemos reduzir o número de tópicos depois de treinar um modelo BERTopic. A vantagem de fazê-lo,\n",
    "é que você pode decidir o número de tópicos depois de saber quantos são realmente criados. Isso é difícil\n",
    "preveja antes de treinar seu modelo quantos tópicos estão em seus documentos e quantos serão extraídos.\n",
    "Em vez disso, podemos decidir depois quantos tópicos parecem realistas:"
   ]
  },
  {
   "cell_type": "code",
   "execution_count": null,
   "metadata": {
    "colab": {
     "base_uri": "https://localhost:8080/"
    },
    "id": "5m4Nd7Us-Peg",
    "outputId": "2d442d39-5bc5-4e7f-c155-6e6c664f6714"
   },
   "outputs": [],
   "source": [
    "topic_model.reduce_topics(docs.text_result, nr_topics=10)"
   ]
  },
  {
   "cell_type": "code",
   "execution_count": null,
   "metadata": {
    "colab": {
     "base_uri": "https://localhost:8080/"
    },
    "id": "jVAYd7pXJ1_T",
    "outputId": "433d5607-cf1d-421d-9bee-070363f13abb"
   },
   "outputs": [],
   "source": [
    "# Access the newly updated topics with:\n",
    "print(topic_model.topics_)"
   ]
  },
  {
   "cell_type": "markdown",
   "metadata": {
    "id": "ipzieuf2J4rr"
   },
   "source": []
  },
  {
   "cell_type": "code",
   "execution_count": null,
   "metadata": {},
   "outputs": [],
   "source": [
    "len(topic_model.get_topic_info())"
   ]
  },
  {
   "cell_type": "code",
   "execution_count": null,
   "metadata": {},
   "outputs": [],
   "source": [
    "topic_model.visualize_barchart(top_n_topics=56, n_words=10, height=300)"
   ]
  },
  {
   "cell_type": "markdown",
   "metadata": {
    "id": "LXYJ745O-03Z"
   },
   "source": [
    "# **Pesquisar Tópicos**\n",
    "Depois de treinar nosso modelo, podemos usar `find_topics` para pesquisar tópicos semelhantes\n",
    "para um search_term de entrada. Aqui, procuraremos tópicos que se relacionem intimamente com o\n",
    "termo de pesquisa \"omic\". Em seguida, extraímos o tópico mais semelhante e verificamos os resultados:"
   ]
  },
  {
   "cell_type": "code",
   "execution_count": null,
   "metadata": {
    "colab": {
     "base_uri": "https://localhost:8080/"
    },
    "id": "lAdiVYej-2i-",
    "outputId": "c107bd7d-1025-4d4d-b179-d007c7d16cd2"
   },
   "outputs": [],
   "source": [
    "similar_topics, similarity = topic_model.find_topics(\"omic\", top_n=5); similar_topics"
   ]
  },
  {
   "cell_type": "code",
   "execution_count": null,
   "metadata": {
    "colab": {
     "base_uri": "https://localhost:8080/"
    },
    "id": "Q9paNa09d3Xy",
    "outputId": "545bbd07-8850-46d4-fdb7-28cb3d158b15"
   },
   "outputs": [],
   "source": [
    "topic_model.get_topic(0)"
   ]
  },
  {
   "cell_type": "markdown",
   "metadata": {
    "id": "wekNoQNuUVoU"
   },
   "source": [
    "# **Serialização do modelo**\n",
    "O modelo e suas configurações internas podem ser facilmente salvos. Observe que os documentos e incorporações não serão salvos. No entanto, UMAP e HDBSCAN serão salvos."
   ]
  },
  {
   "cell_type": "code",
   "execution_count": null,
   "metadata": {
    "id": "nWUF1uxiSb_a"
   },
   "outputs": [],
   "source": [
    "# Save model\n",
    "topic_model.save(\"my_model\")\t"
   ]
  },
  {
   "cell_type": "code",
   "execution_count": null,
   "metadata": {
    "id": "y_eHBI1jSb6i"
   },
   "outputs": [],
   "source": [
    "# Load model\n",
    "my_model = BERTopic.load(\"my_model\")\t"
   ]
  },
  {
   "cell_type": "markdown",
   "metadata": {
    "id": "2eyImbal7lb8"
   },
   "source": [
    "# **Incorporando modelos**\n",
    "O parâmetro `embedding_model` recebe uma string apontando para um modelo de transformadores de sentença, um SentenceTransformer ou um modelo Flair DocumentEmbedding."
   ]
  },
  {
   "cell_type": "markdown",
   "metadata": {
    "id": "8ZKyW7NZpnEk"
   },
   "source": [
    "## Transformadores de Sentença\n",
    "Você pode selecionar qualquer modelo de transformadores de sentença aqui e passá-lo por BERTopic com embedding_model:"
   ]
  },
  {
   "cell_type": "code",
   "execution_count": null,
   "metadata": {
    "id": "k7sPgNfzprbP"
   },
   "outputs": [],
   "source": [
    "topic_model = BERTopic(embedding_model=\"xlm-r-bert-base-nli-stsb-mean-tokens\")"
   ]
  },
  {
   "cell_type": "markdown",
   "metadata": {
    "id": "8vv7i1JTp62V"
   },
   "source": [
    "Ou selecione um modelo SentenceTransformer com seus próprios parâmetros:"
   ]
  },
  {
   "cell_type": "code",
   "execution_count": null,
   "metadata": {
    "id": "Eh5qp58Hp7Ua"
   },
   "outputs": [],
   "source": [
    "from sentence_transformers import SentenceTransformer\n",
    "\n",
    "sentence_model = SentenceTransformer(\"distilbert-base-nli-mean-tokens\", device=\"cpu\")\n",
    "topic_model = BERTopic(embedding_model=sentence_model, verbose=True)"
   ]
  },
  {
   "cell_type": "markdown",
   "metadata": {
    "id": "SoMc1W-x7-b5"
   },
   "source": [
    "Click [here](https://www.sbert.net/docs/pretrained_models.html) for a list of supported sentence transformers models.  \n"
   ]
  },
  {
   "cell_type": "markdown",
   "metadata": {},
   "source": [
    "# Teste"
   ]
  },
  {
   "cell_type": "code",
   "execution_count": null,
   "metadata": {},
   "outputs": [],
   "source": [
    "from sentence_transformers import SentenceTransformer\n",
    "from bertopic import BERTopic\n",
    "from umap import UMAP"
   ]
  },
  {
   "cell_type": "code",
   "execution_count": null,
   "metadata": {},
   "outputs": [],
   "source": [
    "sentence_model = SentenceTransformer(\"all-MiniLM-L6-v2\")"
   ]
  },
  {
   "cell_type": "code",
   "execution_count": null,
   "metadata": {},
   "outputs": [],
   "source": [
    "len(docs)"
   ]
  },
  {
   "cell_type": "code",
   "execution_count": null,
   "metadata": {},
   "outputs": [],
   "source": [
    "docs = docs['title_result']"
   ]
  },
  {
   "cell_type": "code",
   "execution_count": null,
   "metadata": {},
   "outputs": [],
   "source": [
    "# https://maartengr.github.io/BERTopic/getting_started/visualization/visualization.html#visualize-documents\n",
    "embeddings = sentence_model.encode(docs, show_progress_bar=False)"
   ]
  },
  {
   "cell_type": "code",
   "execution_count": null,
   "metadata": {},
   "outputs": [],
   "source": [
    "# Train BERTopic\n",
    "topic_model = BERTopic().fit(docs, embeddings)\n",
    "\n",
    "# Run the visualization with the original embeddings\n",
    "topic_model.visualize_documents(docs, embeddings=embeddings)\n",
    "\n",
    "# Reduce dimensionality of embeddings, this step is optional but much faster to perform iteratively:\n",
    "reduced_embeddings = UMAP(n_neighbors=10, n_components=2, min_dist=0.0, metric='cosine').fit_transform(embeddings)\n",
    "topic_model.visualize_documents(docs, reduced_embeddings=reduced_embeddings)"
   ]
  }
 ],
 "metadata": {
  "accelerator": "GPU",
  "colab": {
   "provenance": [],
   "toc_visible": true
  },
  "gpuClass": "standard",
  "kernelspec": {
   "display_name": "Python 3 (ipykernel)",
   "language": "python",
   "name": "python3"
  },
  "language_info": {
   "codemirror_mode": {
    "name": "ipython",
    "version": 3
   },
   "file_extension": ".py",
   "mimetype": "text/x-python",
   "name": "python",
   "nbconvert_exporter": "python",
   "pygments_lexer": "ipython3",
   "version": "3.9.13"
  }
 },
 "nbformat": 4,
 "nbformat_minor": 1
}
