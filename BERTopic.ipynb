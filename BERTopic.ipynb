{
 "cells": [
  {
   "cell_type": "markdown",
   "metadata": {},
   "source": [
    "Fonte principal: https://github.com/MaartenGr/BERTopic\n",
    "\n",
    "https://maartengr.github.io/BERTopic/algorithm/algorithm.html\n",
    "\n",
    "\n",
    "    \n",
    "https://hdbscan.readthedocs.io/en/latest/soft_clustering.html\n",
    "    \n",
    "https://hdbscan.readthedocs.io/en/latest/soft_clustering_explanation.html\n",
    "    \n",
    "   \n",
    "   ***O que é o BERTopic?***\n",
    "   https://towardsdatascience.com/let-us-extract-some-topics-from-text-data-part-iv-bertopic-46ddf3c91622 (lido*)\n",
    "   \n",
    "   Problemas fóruns: https://github.com/MaartenGr/BERTopic/issues/763\n",
    "   \n",
    "Artigo base para escrita: https://www.mdpi.com/2071-1050/15/5/4166"
   ]
  },
  {
   "cell_type": "markdown",
   "metadata": {
    "id": "AXHLDxJdRzBi"
   },
   "source": [
    "# **Tutorial** - Topic Modeling with BERTopic\n",
    "\n",
    "## BERTopic\n",
    "BERTopic é uma técnica de modelagem de tópicos que utiliza transformadores 🤗 e um TF-IDF baseado em classe personalizado para criar clusters densos, permitindo tópicos facilmente interpretáveis, mantendo palavras importantes nas descrições do tópico. \n",
    "\n",
    "<br>\n",
    "\n",
    "<img src=\"https://raw.githubusercontent.com/MaartenGr/BERTopic/master/images/logo.png\" width=\"10%\">\n",
    "\n",
    "<img src=\"https://github.com/MaartenGr/BERTopic/blob/master/docs/img/algorithm.png?raw=true\" width=\"50%\">\n",
    "\n",
    "<img src=\"https://maartengr.github.io/BERTopic/algorithm/default.svg\" width=\"20%\">"
   ]
  },
  {
   "cell_type": "markdown",
   "metadata": {
    "id": "lj2MUI9Mkdxu"
   },
   "source": [
    "# **Instalando o BERTopic**\n",
    "\n",
    "Começamos instalando o BERTopic do PyPi:"
   ]
  },
  {
   "cell_type": "code",
   "execution_count": null,
   "metadata": {
    "id": "SNa-KtKDRnus"
   },
   "outputs": [],
   "source": [
    "# %%capture\n",
    "# !pip install bertopic"
   ]
  },
  {
   "cell_type": "markdown",
   "metadata": {
    "id": "0ehO3emgk96g"
   },
   "source": [
    "## Importando dependências"
   ]
  },
  {
   "cell_type": "code",
   "execution_count": 1,
   "metadata": {
    "scrolled": true
   },
   "outputs": [
    {
     "name": "stderr",
     "output_type": "stream",
     "text": [
      "/home/adrielson/anaconda3/lib/python3.9/site-packages/umap/distances.py:1063: NumbaDeprecationWarning: \u001b[1mThe 'nopython' keyword argument was not supplied to the 'numba.jit' decorator. The implicit default value for this argument is currently False, but it will be changed to True in Numba 0.59.0. See https://numba.readthedocs.io/en/stable/reference/deprecation.html#deprecation-of-object-mode-fall-back-behaviour-when-using-jit for details.\u001b[0m\n",
      "  @numba.jit()\n",
      "/home/adrielson/anaconda3/lib/python3.9/site-packages/umap/distances.py:1071: NumbaDeprecationWarning: \u001b[1mThe 'nopython' keyword argument was not supplied to the 'numba.jit' decorator. The implicit default value for this argument is currently False, but it will be changed to True in Numba 0.59.0. See https://numba.readthedocs.io/en/stable/reference/deprecation.html#deprecation-of-object-mode-fall-back-behaviour-when-using-jit for details.\u001b[0m\n",
      "  @numba.jit()\n",
      "/home/adrielson/anaconda3/lib/python3.9/site-packages/umap/distances.py:1086: NumbaDeprecationWarning: \u001b[1mThe 'nopython' keyword argument was not supplied to the 'numba.jit' decorator. The implicit default value for this argument is currently False, but it will be changed to True in Numba 0.59.0. See https://numba.readthedocs.io/en/stable/reference/deprecation.html#deprecation-of-object-mode-fall-back-behaviour-when-using-jit for details.\u001b[0m\n",
      "  @numba.jit()\n",
      "/home/adrielson/anaconda3/lib/python3.9/site-packages/umap/umap_.py:660: NumbaDeprecationWarning: \u001b[1mThe 'nopython' keyword argument was not supplied to the 'numba.jit' decorator. The implicit default value for this argument is currently False, but it will be changed to True in Numba 0.59.0. See https://numba.readthedocs.io/en/stable/reference/deprecation.html#deprecation-of-object-mode-fall-back-behaviour-when-using-jit for details.\u001b[0m\n",
      "  @numba.jit()\n"
     ]
    }
   ],
   "source": [
    "import pandas as pd\n",
    "from bertopic import BERTopic"
   ]
  },
  {
   "cell_type": "markdown",
   "metadata": {
    "id": "Y3VGFZ1USMTu"
   },
   "source": [
    "# Importando conjunto de dados\n",
    "\n",
    "Para este projeto, usaremos um conjunto de dados de vagas de emprego na área da bioinformática."
   ]
  },
  {
   "cell_type": "code",
   "execution_count": 2,
   "metadata": {
    "id": "JJij3WP6SEQD",
    "scrolled": true
   },
   "outputs": [
    {
     "data": {
      "text/html": [
       "<div>\n",
       "<style scoped>\n",
       "    .dataframe tbody tr th:only-of-type {\n",
       "        vertical-align: middle;\n",
       "    }\n",
       "\n",
       "    .dataframe tbody tr th {\n",
       "        vertical-align: top;\n",
       "    }\n",
       "\n",
       "    .dataframe thead th {\n",
       "        text-align: right;\n",
       "    }\n",
       "</style>\n",
       "<table border=\"1\" class=\"dataframe\">\n",
       "  <thead>\n",
       "    <tr style=\"text-align: right;\">\n",
       "      <th></th>\n",
       "      <th>Unnamed: 0.2</th>\n",
       "      <th>Unnamed: 0.1</th>\n",
       "      <th>Unnamed: 0</th>\n",
       "      <th>id</th>\n",
       "      <th>title</th>\n",
       "      <th>text</th>\n",
       "      <th>humanLanguage</th>\n",
       "      <th>pageUrl</th>\n",
       "      <th>requirements</th>\n",
       "      <th>tasks</th>\n",
       "      <th>word_count</th>\n",
       "      <th>language</th>\n",
       "      <th>text_result</th>\n",
       "    </tr>\n",
       "  </thead>\n",
       "  <tbody>\n",
       "    <tr>\n",
       "      <th>0</th>\n",
       "      <td>0</td>\n",
       "      <td>0</td>\n",
       "      <td>0</td>\n",
       "      <td>JOB13030080891</td>\n",
       "      <td>Social Media &amp; Web Management Internship</td>\n",
       "      <td>\\nIntroduction\\nThe Social Media &amp; Web Managem...</td>\n",
       "      <td>en</td>\n",
       "      <td>https://www.nps.gov/hafe/getinvolved/supportyo...</td>\n",
       "      <td>If not selected for this internship, please in...</td>\n",
       "      <td>Assist in creating and managing social media (...</td>\n",
       "      <td>501</td>\n",
       "      <td>en</td>\n",
       "      <td>introductionthe social media web management i...</td>\n",
       "    </tr>\n",
       "    <tr>\n",
       "      <th>1</th>\n",
       "      <td>1</td>\n",
       "      <td>1</td>\n",
       "      <td>1</td>\n",
       "      <td>JOB14899553632</td>\n",
       "      <td>Social Media Coordinator</td>\n",
       "      <td>ABOUT US\\nThirty-Three Threads is an industry ...</td>\n",
       "      <td>en</td>\n",
       "      <td>https://www.linkedin.com/jobs/view/social-medi...</td>\n",
       "      <td>Bachelor’s degree in marketing or related fiel...</td>\n",
       "      <td>Responsible for daily content reaching followe...</td>\n",
       "      <td>710</td>\n",
       "      <td>en</td>\n",
       "      <td>usthirty three threads industry leader high p...</td>\n",
       "    </tr>\n",
       "    <tr>\n",
       "      <th>2</th>\n",
       "      <td>2</td>\n",
       "      <td>2</td>\n",
       "      <td>2</td>\n",
       "      <td>JOB25352725960</td>\n",
       "      <td>Web Strategy and Social Media Jobs</td>\n",
       "      <td>\\nThe Web Manager will become part of an exper...</td>\n",
       "      <td>en</td>\n",
       "      <td>https://web.archive.org/web/20110413001938/htt...</td>\n",
       "      <td>NaN</td>\n",
       "      <td>NaN</td>\n",
       "      <td>570</td>\n",
       "      <td>en</td>\n",
       "      <td>web manager experienced interactive team hous...</td>\n",
       "    </tr>\n",
       "    <tr>\n",
       "      <th>3</th>\n",
       "      <td>3</td>\n",
       "      <td>3</td>\n",
       "      <td>3</td>\n",
       "      <td>JOB25520053244</td>\n",
       "      <td>Social Media and Communications Manager (m/f) ...</td>\n",
       "      <td>\\nwith high affinity to life sciences\\nfull ti...</td>\n",
       "      <td>en</td>\n",
       "      <td>http://www.nature.com/naturejobs/science/jobs/...</td>\n",
       "      <td>NaN</td>\n",
       "      <td>Development and design of internal and externa...</td>\n",
       "      <td>714</td>\n",
       "      <td>en</td>\n",
       "      <td>high affinity life sciencesfull 40 hrs playin...</td>\n",
       "    </tr>\n",
       "    <tr>\n",
       "      <th>4</th>\n",
       "      <td>4</td>\n",
       "      <td>4</td>\n",
       "      <td>4</td>\n",
       "      <td>JOB31104822195</td>\n",
       "      <td>Job opening: Social Media Producer</td>\n",
       "      <td>\\nThis is a position on our core social team, ...</td>\n",
       "      <td>en</td>\n",
       "      <td>http://www.washingtonpost.com/wapo-audience-te...</td>\n",
       "      <td>2+ years of journalism experience. Reporting/b...</td>\n",
       "      <td>NaN</td>\n",
       "      <td>407</td>\n",
       "      <td>en</td>\n",
       "      <td>core social team responsible post main brande...</td>\n",
       "    </tr>\n",
       "  </tbody>\n",
       "</table>\n",
       "</div>"
      ],
      "text/plain": [
       "   Unnamed: 0.2  Unnamed: 0.1  Unnamed: 0              id  \\\n",
       "0             0             0           0  JOB13030080891   \n",
       "1             1             1           1  JOB14899553632   \n",
       "2             2             2           2  JOB25352725960   \n",
       "3             3             3           3  JOB25520053244   \n",
       "4             4             4           4  JOB31104822195   \n",
       "\n",
       "                                               title  \\\n",
       "0           Social Media & Web Management Internship   \n",
       "1                           Social Media Coordinator   \n",
       "2                 Web Strategy and Social Media Jobs   \n",
       "3  Social Media and Communications Manager (m/f) ...   \n",
       "4                 Job opening: Social Media Producer   \n",
       "\n",
       "                                                text humanLanguage  \\\n",
       "0  \\nIntroduction\\nThe Social Media & Web Managem...            en   \n",
       "1  ABOUT US\\nThirty-Three Threads is an industry ...            en   \n",
       "2  \\nThe Web Manager will become part of an exper...            en   \n",
       "3  \\nwith high affinity to life sciences\\nfull ti...            en   \n",
       "4  \\nThis is a position on our core social team, ...            en   \n",
       "\n",
       "                                             pageUrl  \\\n",
       "0  https://www.nps.gov/hafe/getinvolved/supportyo...   \n",
       "1  https://www.linkedin.com/jobs/view/social-medi...   \n",
       "2  https://web.archive.org/web/20110413001938/htt...   \n",
       "3  http://www.nature.com/naturejobs/science/jobs/...   \n",
       "4  http://www.washingtonpost.com/wapo-audience-te...   \n",
       "\n",
       "                                        requirements  \\\n",
       "0  If not selected for this internship, please in...   \n",
       "1  Bachelor’s degree in marketing or related fiel...   \n",
       "2                                                NaN   \n",
       "3                                                NaN   \n",
       "4  2+ years of journalism experience. Reporting/b...   \n",
       "\n",
       "                                               tasks  word_count language  \\\n",
       "0  Assist in creating and managing social media (...         501       en   \n",
       "1  Responsible for daily content reaching followe...         710       en   \n",
       "2                                                NaN         570       en   \n",
       "3  Development and design of internal and externa...         714       en   \n",
       "4                                                NaN         407       en   \n",
       "\n",
       "                                         text_result  \n",
       "0   introductionthe social media web management i...  \n",
       "1   usthirty three threads industry leader high p...  \n",
       "2   web manager experienced interactive team hous...  \n",
       "3   high affinity life sciencesfull 40 hrs playin...  \n",
       "4   core social team responsible post main brande...  "
      ]
     },
     "execution_count": 2,
     "metadata": {},
     "output_type": "execute_result"
    }
   ],
   "source": [
    "docs = pd.read_csv('vagas_social_midia_preprocessado3.csv')\n",
    "docs.head()"
   ]
  },
  {
   "cell_type": "code",
   "execution_count": 3,
   "metadata": {},
   "outputs": [
    {
     "data": {
      "text/plain": [
       "7273"
      ]
     },
     "execution_count": 3,
     "metadata": {},
     "output_type": "execute_result"
    }
   ],
   "source": [
    "len(docs)"
   ]
  },
  {
   "cell_type": "markdown",
   "metadata": {
    "id": "SBcNmZJzSTY8"
   },
   "source": [
    "# **Modelagem de Tópicos**\n",
    "\n",
    "Neste exemplo, veremos os principais componentes do BERTopic e as etapas necessárias para criar um modelo de tópico forte."
   ]
  },
  {
   "cell_type": "markdown",
   "metadata": {
    "id": "QI6vwelqnTL-"
   },
   "source": [
    "## Treinamento\n",
    "\n",
    "Começamos instanciando BERTopic. Definimos o idioma como 'inglês', pois nossos documentos estão no idioma inglês. Se você quiser usar um modelo multilíngue, use `language=\"multilingual\"`.\n",
    "\n",
    "Também calcularemos as probabilidades do tópico. No entanto, isso pode tornar o BERTopic significativamente mais lento em grandes quantidades de dados (>100_000 documentos). É aconselhável desativá-lo se quiser acelerar o modelo."
   ]
  },
  {
   "cell_type": "markdown",
   "metadata": {},
   "source": [
    "# Ajustando parâmetros do UMAP (https://medium.com/grabngoinfo/topic-modeling-with-deep-learning-using-python-bertopic-cf91f5676504)\n",
    "# Dimension reduction\n",
    "from umap import UMAP\n",
    "umap_model = UMAP(n_neighbors=15, \n",
    "                  n_components=5, \n",
    "                  min_dist=0.0, \n",
    "                  metric='cosine', \n",
    "                  random_state=100)\n",
    "# Initiate BERTopic\n",
    "topic_model = BERTopic(umap_model=umap_model, language=\"english\", calculate_probabilities=True)\n",
    "topics, probs = topic_model.fit_transform(docs.text_result)"
   ]
  },
  {
   "cell_type": "code",
   "execution_count": 4,
   "metadata": {
    "id": "TfhfzqkoSJ1I",
    "scrolled": true
   },
   "outputs": [
    {
     "data": {
      "application/vnd.jupyter.widget-view+json": {
       "model_id": "3f787cfcbd654e908aa8aef4f864a110",
       "version_major": 2,
       "version_minor": 0
      },
      "text/plain": [
       "Batches:   0%|          | 0/228 [00:00<?, ?it/s]"
      ]
     },
     "metadata": {},
     "output_type": "display_data"
    },
    {
     "name": "stderr",
     "output_type": "stream",
     "text": [
      "2023-07-13 17:07:20,177 - BERTopic - Transformed documents to Embeddings\n",
      "2023-07-13 17:08:21,192 - BERTopic - Reduced dimensionality\n",
      "2023-07-13 17:08:29,189 - BERTopic - Clustered reduced embeddings\n"
     ]
    }
   ],
   "source": [
    "#PADRÃO (usar esse)\n",
    "topic_model = BERTopic(language=\"english\", calculate_probabilities=True, verbose=True) #, nr_topics = 20)\n",
    "topics, probs = topic_model.fit_transform(docs.text_result)"
   ]
  },
  {
   "cell_type": "code",
   "execution_count": null,
   "metadata": {},
   "outputs": [],
   "source": [
    "# topic_model2 = topic_model.reduce_topics(docs.text_result, nr_topics=10)"
   ]
  },
  {
   "cell_type": "markdown",
   "metadata": {
    "id": "tJs94tXDo4f6"
   },
   "source": [
    "**NOTA**: Use `language=\"multilingual\"` para selecionar um modelo que suporte mais de 50 idiomas."
   ]
  },
  {
   "cell_type": "markdown",
   "metadata": {
    "id": "A5O3KpHTnVpz"
   },
   "source": [
    "## Extraindo Tópicos\n",
    "Depois de ajustar nosso modelo, podemos começar observando os resultados. Normalmente, examinamos primeiro os tópicos mais frequentes, pois eles representam melhor a coleção de documentos."
   ]
  },
  {
   "cell_type": "code",
   "execution_count": 5,
   "metadata": {},
   "outputs": [
    {
     "data": {
      "text/plain": [
       "133"
      ]
     },
     "execution_count": 5,
     "metadata": {},
     "output_type": "execute_result"
    }
   ],
   "source": [
    "len(topic_model.get_topic_info())"
   ]
  },
  {
   "cell_type": "code",
   "execution_count": 6,
   "metadata": {
    "colab": {
     "base_uri": "https://localhost:8080/",
     "height": 195
    },
    "id": "ScBUgXn06IK6",
    "outputId": "ee49a346-8d12-41c4-c7e9-8c1b6782c636"
   },
   "outputs": [
    {
     "data": {
      "text/html": [
       "<div>\n",
       "<style scoped>\n",
       "    .dataframe tbody tr th:only-of-type {\n",
       "        vertical-align: middle;\n",
       "    }\n",
       "\n",
       "    .dataframe tbody tr th {\n",
       "        vertical-align: top;\n",
       "    }\n",
       "\n",
       "    .dataframe thead th {\n",
       "        text-align: right;\n",
       "    }\n",
       "</style>\n",
       "<table border=\"1\" class=\"dataframe\">\n",
       "  <thead>\n",
       "    <tr style=\"text-align: right;\">\n",
       "      <th></th>\n",
       "      <th>Topic</th>\n",
       "      <th>Count</th>\n",
       "      <th>Name</th>\n",
       "      <th>Representation</th>\n",
       "      <th>Representative_Docs</th>\n",
       "    </tr>\n",
       "  </thead>\n",
       "  <tbody>\n",
       "    <tr>\n",
       "      <th>0</th>\n",
       "      <td>-1</td>\n",
       "      <td>2933</td>\n",
       "      <td>-1_social_media_marketing_experience</td>\n",
       "      <td>[social, media, marketing, experience, team, d...</td>\n",
       "      <td>[ description partner closely creative directo...</td>\n",
       "    </tr>\n",
       "    <tr>\n",
       "      <th>1</th>\n",
       "      <td>0</td>\n",
       "      <td>239</td>\n",
       "      <td>0_internship_intern_internships_india</td>\n",
       "      <td>[internship, intern, internships, india, legit...</td>\n",
       "      <td>[ descriptionoverview summary social media int...</td>\n",
       "    </tr>\n",
       "    <tr>\n",
       "      <th>2</th>\n",
       "      <td>1</td>\n",
       "      <td>179</td>\n",
       "      <td>1_london_role_uk_manager</td>\n",
       "      <td>[london, role, uk, manager, executive, across,...</td>\n",
       "      <td>[ client independent car dealership chelmsford...</td>\n",
       "    </tr>\n",
       "    <tr>\n",
       "      <th>3</th>\n",
       "      <td>2</td>\n",
       "      <td>122</td>\n",
       "      <td>2_circle_qualified_law_protected</td>\n",
       "      <td>[circle, qualified, law, protected, applicants...</td>\n",
       "      <td>[ social media managerlocation miamistatus fre...</td>\n",
       "    </tr>\n",
       "    <tr>\n",
       "      <th>4</th>\n",
       "      <td>3</td>\n",
       "      <td>118</td>\n",
       "      <td>3_republic_islands_pierre_ivoire</td>\n",
       "      <td>[republic, islands, pierre, ivoire, wallis, ki...</td>\n",
       "      <td>[ countriesunited statesunited kingdomaustrali...</td>\n",
       "    </tr>\n",
       "    <tr>\n",
       "      <th>5</th>\n",
       "      <td>4</td>\n",
       "      <td>116</td>\n",
       "      <td>4_design_skills_seo_web</td>\n",
       "      <td>[design, skills, seo, web, marketing, knowledg...</td>\n",
       "      <td>[ qualificationsproven experience social media...</td>\n",
       "    </tr>\n",
       "    <tr>\n",
       "      <th>6</th>\n",
       "      <td>5</td>\n",
       "      <td>112</td>\n",
       "      <td>5_health_cancer_care_healthcare</td>\n",
       "      <td>[health, cancer, care, healthcare, merck, hmdc...</td>\n",
       "      <td>[ requisition id ext000386the difference poten...</td>\n",
       "    </tr>\n",
       "    <tr>\n",
       "      <th>7</th>\n",
       "      <td>6</td>\n",
       "      <td>105</td>\n",
       "      <td>6_pr_role_agency_manchester</td>\n",
       "      <td>[pr, role, agency, manchester, looking, charit...</td>\n",
       "      <td>[ social media manager looking broaden experie...</td>\n",
       "    </tr>\n",
       "    <tr>\n",
       "      <th>8</th>\n",
       "      <td>7</td>\n",
       "      <td>102</td>\n",
       "      <td>7_sports_sport_football_league</td>\n",
       "      <td>[sports, sport, football, league, baseball, fa...</td>\n",
       "      <td>[ sports sunday night football social media co...</td>\n",
       "    </tr>\n",
       "    <tr>\n",
       "      <th>9</th>\n",
       "      <td>8</td>\n",
       "      <td>87</td>\n",
       "      <td>8_highlighted_picked_upgrade_moving</td>\n",
       "      <td>[highlighted, picked, upgrade, moving, recruit...</td>\n",
       "      <td>[ see big development opportunities picked tea...</td>\n",
       "    </tr>\n",
       "    <tr>\n",
       "      <th>10</th>\n",
       "      <td>9</td>\n",
       "      <td>85</td>\n",
       "      <td>9_disabilities_followingthe_request_box</td>\n",
       "      <td>[disabilities, followingthe, request, box, ema...</td>\n",
       "      <td>[ committed equal offering opportunities inclu...</td>\n",
       "    </tr>\n",
       "    <tr>\n",
       "      <th>11</th>\n",
       "      <td>10</td>\n",
       "      <td>80</td>\n",
       "      <td>10_africa_cape_town_bbc</td>\n",
       "      <td>[africa, cape, town, bbc, platforms, unsuccess...</td>\n",
       "      <td>[ introductionthe bbc world service embarking ...</td>\n",
       "    </tr>\n",
       "    <tr>\n",
       "      <th>12</th>\n",
       "      <td>11</td>\n",
       "      <td>77</td>\n",
       "      <td>11_volunteer_volunteering_requiredsuitable_for...</td>\n",
       "      <td>[volunteer, volunteering, requiredsuitable, fo...</td>\n",
       "      <td>[ requiredsuitable fortype workit web developm...</td>\n",
       "    </tr>\n",
       "    <tr>\n",
       "      <th>13</th>\n",
       "      <td>12</td>\n",
       "      <td>73</td>\n",
       "      <td>12_university_college_students_alumni</td>\n",
       "      <td>[university, college, students, alumni, studen...</td>\n",
       "      <td>[ descriptionposition number 00104983primary f...</td>\n",
       "    </tr>\n",
       "    <tr>\n",
       "      <th>14</th>\n",
       "      <td>13</td>\n",
       "      <td>70</td>\n",
       "      <td>13_disabilities_request_box_emails</td>\n",
       "      <td>[disabilities, request, box, emails, brief, lo...</td>\n",
       "      <td>[ committed equal offering opportunities inclu...</td>\n",
       "    </tr>\n",
       "    <tr>\n",
       "      <th>15</th>\n",
       "      <td>14</td>\n",
       "      <td>67</td>\n",
       "      <td>14_intern_internship_lockwoods_interns</td>\n",
       "      <td>[intern, internship, lockwoods, interns, marke...</td>\n",
       "      <td>[ descriptionlockwoods looking brilliant marke...</td>\n",
       "    </tr>\n",
       "    <tr>\n",
       "      <th>16</th>\n",
       "      <td>15</td>\n",
       "      <td>65</td>\n",
       "      <td>15_customer_campaigns_marketing_customers</td>\n",
       "      <td>[customer, campaigns, marketing, customers, so...</td>\n",
       "      <td>[ social media strategistremuneration negotiab...</td>\n",
       "    </tr>\n",
       "    <tr>\n",
       "      <th>17</th>\n",
       "      <td>16</td>\n",
       "      <td>62</td>\n",
       "      <td>16_social_increase_text_media</td>\n",
       "      <td>[social, increase, text, media, encourages, co...</td>\n",
       "      <td>[ looking driven social media specialist inter...</td>\n",
       "    </tr>\n",
       "    <tr>\n",
       "      <th>18</th>\n",
       "      <td>17</td>\n",
       "      <td>62</td>\n",
       "      <td>17_move_channel_planning_typically</td>\n",
       "      <td>[move, channel, planning, typically, campaigns...</td>\n",
       "      <td>[ informationposition purposemanage execute so...</td>\n",
       "    </tr>\n",
       "    <tr>\n",
       "      <th>19</th>\n",
       "      <td>18</td>\n",
       "      <td>62</td>\n",
       "      <td>18_manager_community_media_social</td>\n",
       "      <td>[manager, community, media, social, implemente...</td>\n",
       "      <td>[ social media managerjob descriptionour clien...</td>\n",
       "    </tr>\n",
       "    <tr>\n",
       "      <th>20</th>\n",
       "      <td>19</td>\n",
       "      <td>55</td>\n",
       "      <td>19_leadsno_unlockto_categoriescreate_scams</td>\n",
       "      <td>[leadsno, unlockto, categoriescreate, scams, s...</td>\n",
       "      <td>[ social media managerfull social media manage...</td>\n",
       "    </tr>\n",
       "    <tr>\n",
       "      <th>21</th>\n",
       "      <td>20</td>\n",
       "      <td>55</td>\n",
       "      <td>20_brand_engagement_strategy_influencer</td>\n",
       "      <td>[brand, engagement, strategy, influencer, soci...</td>\n",
       "      <td>[ social media manager oversee development exe...</td>\n",
       "    </tr>\n",
       "    <tr>\n",
       "      <th>22</th>\n",
       "      <td>21</td>\n",
       "      <td>53</td>\n",
       "      <td>21_client_agency_marketing_clients</td>\n",
       "      <td>[client, agency, marketing, clients, role, cam...</td>\n",
       "      <td>[ client looking social media marketing coordi...</td>\n",
       "    </tr>\n",
       "    <tr>\n",
       "      <th>23</th>\n",
       "      <td>22</td>\n",
       "      <td>52</td>\n",
       "      <td>22_chegg_legitimacy_avoid_internships</td>\n",
       "      <td>[chegg, legitimacy, avoid, internships, employ...</td>\n",
       "      <td>[ descriptionpitching brands behalf creation e...</td>\n",
       "    </tr>\n",
       "    <tr>\n",
       "      <th>24</th>\n",
       "      <td>23</td>\n",
       "      <td>50</td>\n",
       "      <td>23_ikea_furnishing_home_people</td>\n",
       "      <td>[ikea, furnishing, home, people, everyday, lif...</td>\n",
       "      <td>[ company descriptionthe ikea vision create ev...</td>\n",
       "    </tr>\n",
       "    <tr>\n",
       "      <th>25</th>\n",
       "      <td>24</td>\n",
       "      <td>47</td>\n",
       "      <td>24_cats_volunteers_protection_volunteer</td>\n",
       "      <td>[cats, volunteers, protection, volunteer, face...</td>\n",
       "      <td>[ bit rolesocial media cats go social media vo...</td>\n",
       "    </tr>\n",
       "    <tr>\n",
       "      <th>26</th>\n",
       "      <td>25</td>\n",
       "      <td>45</td>\n",
       "      <td>25_sinclair_broadcasting_broadcast_stations</td>\n",
       "      <td>[sinclair, broadcasting, broadcast, stations, ...</td>\n",
       "      <td>[ jobprofilemake mark broadcasting digital med...</td>\n",
       "    </tr>\n",
       "    <tr>\n",
       "      <th>27</th>\n",
       "      <td>26</td>\n",
       "      <td>40</td>\n",
       "      <td>26_australian_clients_fun_copywriting</td>\n",
       "      <td>[australian, clients, fun, copywriting, brands...</td>\n",
       "      <td>[ locationpostedclosesindustryjob typel social...</td>\n",
       "    </tr>\n",
       "    <tr>\n",
       "      <th>28</th>\n",
       "      <td>27</td>\n",
       "      <td>39</td>\n",
       "      <td>27_un_women_womens_equality</td>\n",
       "      <td>[un, women, womens, equality, gender, empowerm...</td>\n",
       "      <td>[ advertised behalf location istanbul turkeyap...</td>\n",
       "    </tr>\n",
       "    <tr>\n",
       "      <th>29</th>\n",
       "      <td>28</td>\n",
       "      <td>39</td>\n",
       "      <td>28_climate_cifor_nrdc_azula</td>\n",
       "      <td>[climate, cifor, nrdc, azula, engagement, envi...</td>\n",
       "      <td>[ purpose research expand monitor presence soc...</td>\n",
       "    </tr>\n",
       "    <tr>\n",
       "      <th>30</th>\n",
       "      <td>29</td>\n",
       "      <td>38</td>\n",
       "      <td>29_course_students_learn_training</td>\n",
       "      <td>[course, students, learn, training, learning, ...</td>\n",
       "      <td>[ still openings remaining ages 18 upin introd...</td>\n",
       "    </tr>\n",
       "    <tr>\n",
       "      <th>31</th>\n",
       "      <td>30</td>\n",
       "      <td>35</td>\n",
       "      <td>30_bbc_ih_evi_asia</td>\n",
       "      <td>[bbc, ih, evi, asia, thai, digital, china, sch...</td>\n",
       "      <td>[ evi services formed 1999 leading one stop e ...</td>\n",
       "    </tr>\n",
       "    <tr>\n",
       "      <th>32</th>\n",
       "      <td>31</td>\n",
       "      <td>35</td>\n",
       "      <td>31_dubai_uae_organisation_aed</td>\n",
       "      <td>[dubai, uae, organisation, aed, detailssocial,...</td>\n",
       "      <td>[ sales telemarketing descriptionsocial media ...</td>\n",
       "    </tr>\n",
       "    <tr>\n",
       "      <th>33</th>\n",
       "      <td>32</td>\n",
       "      <td>34</td>\n",
       "      <td>32_music_artists_radio_artist</td>\n",
       "      <td>[music, artists, radio, artist, bbc, product, ...</td>\n",
       "      <td>[ yamaha music europe gmbh one world leading m...</td>\n",
       "    </tr>\n",
       "    <tr>\n",
       "      <th>34</th>\n",
       "      <td>33</td>\n",
       "      <td>34</td>\n",
       "      <td>33_communications_district_cjas_public</td>\n",
       "      <td>[communications, district, cjas, public, justi...</td>\n",
       "      <td>[ consider title digital social media communic...</td>\n",
       "    </tr>\n",
       "    <tr>\n",
       "      <th>35</th>\n",
       "      <td>34</td>\n",
       "      <td>34</td>\n",
       "      <td>34_journalism_editor_audience_newsroom</td>\n",
       "      <td>[journalism, editor, audience, newsroom, stori...</td>\n",
       "      <td>[ save jobsocial media producerdescription soc...</td>\n",
       "    </tr>\n",
       "    <tr>\n",
       "      <th>36</th>\n",
       "      <td>35</td>\n",
       "      <td>33</td>\n",
       "      <td>35_vacancies_daman_freshersworld_freshers</td>\n",
       "      <td>[vacancies, daman, freshersworld, freshers, ex...</td>\n",
       "      <td>[ award winning integrated marketing agency of...</td>\n",
       "    </tr>\n",
       "    <tr>\n",
       "      <th>37</th>\n",
       "      <td>36</td>\n",
       "      <td>33</td>\n",
       "      <td>36_sydney_internship_name_fashion</td>\n",
       "      <td>[sydney, internship, name, fashion, week, days...</td>\n",
       "      <td>[ australian based fashion label selling globa...</td>\n",
       "    </tr>\n",
       "    <tr>\n",
       "      <th>38</th>\n",
       "      <td>37</td>\n",
       "      <td>33</td>\n",
       "      <td>37_newsnation_advertisers_republish_disclaim</td>\n",
       "      <td>[newsnation, advertisers, republish, disclaim,...</td>\n",
       "      <td>[ fun company people truly believe newsnation ...</td>\n",
       "    </tr>\n",
       "    <tr>\n",
       "      <th>39</th>\n",
       "      <td>38</td>\n",
       "      <td>32</td>\n",
       "      <td>38_automotive_nascar_horiba_cox</td>\n",
       "      <td>[automotive, nascar, horiba, cox, client, deal...</td>\n",
       "      <td>[ descriptiondealer cox automotive brand curre...</td>\n",
       "    </tr>\n",
       "    <tr>\n",
       "      <th>40</th>\n",
       "      <td>39</td>\n",
       "      <td>31</td>\n",
       "      <td>39_audience_engagement_horseshoe_platforms</td>\n",
       "      <td>[audience, engagement, horseshoe, platforms, s...</td>\n",
       "      <td>[ save jobsocial media specialistdescription p...</td>\n",
       "    </tr>\n",
       "    <tr>\n",
       "      <th>41</th>\n",
       "      <td>40</td>\n",
       "      <td>31</td>\n",
       "      <td>40_telecommute_customer_customers_service</td>\n",
       "      <td>[telecommute, customer, customers, service, ik...</td>\n",
       "      <td>[ arecan see role driving seat customer meetin...</td>\n",
       "    </tr>\n",
       "    <tr>\n",
       "      <th>42</th>\n",
       "      <td>41</td>\n",
       "      <td>31</td>\n",
       "      <td>41_undp_privacy_receive_might</td>\n",
       "      <td>[undp, privacy, receive, might, resume1, outst...</td>\n",
       "      <td>[ social media intern united states americacan...</td>\n",
       "    </tr>\n",
       "    <tr>\n",
       "      <th>43</th>\n",
       "      <td>42</td>\n",
       "      <td>30</td>\n",
       "      <td>42_global_communications_astrazeneca_vmagroup</td>\n",
       "      <td>[global, communications, astrazeneca, vmagroup...</td>\n",
       "      <td>[ social media strategist global digital strat...</td>\n",
       "    </tr>\n",
       "    <tr>\n",
       "      <th>44</th>\n",
       "      <td>43</td>\n",
       "      <td>30</td>\n",
       "      <td>43_captions_prioritize_otherwritten_vigilance</td>\n",
       "      <td>[captions, prioritize, otherwritten, vigilance...</td>\n",
       "      <td>[ primary social media expert ideal candidate ...</td>\n",
       "    </tr>\n",
       "    <tr>\n",
       "      <th>45</th>\n",
       "      <td>44</td>\n",
       "      <td>30</td>\n",
       "      <td>44_marketing_design_lrn_skills</td>\n",
       "      <td>[marketing, design, lrn, skills, seo, media, s...</td>\n",
       "      <td>[ marsh seeking talented digital storyteller w...</td>\n",
       "    </tr>\n",
       "    <tr>\n",
       "      <th>46</th>\n",
       "      <td>45</td>\n",
       "      <td>29</td>\n",
       "      <td>45_faculty_college_adjunct_course</td>\n",
       "      <td>[faculty, college, adjunct, course, teaching, ...</td>\n",
       "      <td>[ descriptionadjunct faculty interactive socia...</td>\n",
       "    </tr>\n",
       "    <tr>\n",
       "      <th>47</th>\n",
       "      <td>46</td>\n",
       "      <td>28</td>\n",
       "      <td>46_cancel_jobsinsports_uninterrupted_autorenewed</td>\n",
       "      <td>[cancel, jobsinsports, uninterrupted, autorene...</td>\n",
       "      <td>[ director social media responsible establishi...</td>\n",
       "    </tr>\n",
       "    <tr>\n",
       "      <th>48</th>\n",
       "      <td>47</td>\n",
       "      <td>28</td>\n",
       "      <td>47_learners_apprenticeship_training_assessor</td>\n",
       "      <td>[learners, apprenticeship, training, assessor,...</td>\n",
       "      <td>[ km recruitment specialist uk wide recruiter ...</td>\n",
       "    </tr>\n",
       "    <tr>\n",
       "      <th>49</th>\n",
       "      <td>48</td>\n",
       "      <td>28</td>\n",
       "      <td>48_greatest_descriptions_strategists_openings</td>\n",
       "      <td>[greatest, descriptions, strategists, openings...</td>\n",
       "      <td>[ latest social media opportunities temporary ...</td>\n",
       "    </tr>\n",
       "    <tr>\n",
       "      <th>50</th>\n",
       "      <td>49</td>\n",
       "      <td>28</td>\n",
       "      <td>49_pr_uk_agency_programme</td>\n",
       "      <td>[pr, uk, agency, programme, role, 000, manager...</td>\n",
       "      <td>[ project social media coordinator digital eco...</td>\n",
       "    </tr>\n",
       "  </tbody>\n",
       "</table>\n",
       "</div>"
      ],
      "text/plain": [
       "    Topic  Count                                               Name  \\\n",
       "0      -1   2933               -1_social_media_marketing_experience   \n",
       "1       0    239              0_internship_intern_internships_india   \n",
       "2       1    179                           1_london_role_uk_manager   \n",
       "3       2    122                   2_circle_qualified_law_protected   \n",
       "4       3    118                   3_republic_islands_pierre_ivoire   \n",
       "5       4    116                            4_design_skills_seo_web   \n",
       "6       5    112                    5_health_cancer_care_healthcare   \n",
       "7       6    105                        6_pr_role_agency_manchester   \n",
       "8       7    102                     7_sports_sport_football_league   \n",
       "9       8     87                8_highlighted_picked_upgrade_moving   \n",
       "10      9     85            9_disabilities_followingthe_request_box   \n",
       "11     10     80                            10_africa_cape_town_bbc   \n",
       "12     11     77  11_volunteer_volunteering_requiredsuitable_for...   \n",
       "13     12     73              12_university_college_students_alumni   \n",
       "14     13     70                 13_disabilities_request_box_emails   \n",
       "15     14     67             14_intern_internship_lockwoods_interns   \n",
       "16     15     65          15_customer_campaigns_marketing_customers   \n",
       "17     16     62                      16_social_increase_text_media   \n",
       "18     17     62                 17_move_channel_planning_typically   \n",
       "19     18     62                  18_manager_community_media_social   \n",
       "20     19     55         19_leadsno_unlockto_categoriescreate_scams   \n",
       "21     20     55            20_brand_engagement_strategy_influencer   \n",
       "22     21     53                 21_client_agency_marketing_clients   \n",
       "23     22     52              22_chegg_legitimacy_avoid_internships   \n",
       "24     23     50                     23_ikea_furnishing_home_people   \n",
       "25     24     47            24_cats_volunteers_protection_volunteer   \n",
       "26     25     45        25_sinclair_broadcasting_broadcast_stations   \n",
       "27     26     40              26_australian_clients_fun_copywriting   \n",
       "28     27     39                        27_un_women_womens_equality   \n",
       "29     28     39                        28_climate_cifor_nrdc_azula   \n",
       "30     29     38                  29_course_students_learn_training   \n",
       "31     30     35                                 30_bbc_ih_evi_asia   \n",
       "32     31     35                      31_dubai_uae_organisation_aed   \n",
       "33     32     34                      32_music_artists_radio_artist   \n",
       "34     33     34             33_communications_district_cjas_public   \n",
       "35     34     34             34_journalism_editor_audience_newsroom   \n",
       "36     35     33          35_vacancies_daman_freshersworld_freshers   \n",
       "37     36     33                  36_sydney_internship_name_fashion   \n",
       "38     37     33       37_newsnation_advertisers_republish_disclaim   \n",
       "39     38     32                    38_automotive_nascar_horiba_cox   \n",
       "40     39     31         39_audience_engagement_horseshoe_platforms   \n",
       "41     40     31          40_telecommute_customer_customers_service   \n",
       "42     41     31                      41_undp_privacy_receive_might   \n",
       "43     42     30      42_global_communications_astrazeneca_vmagroup   \n",
       "44     43     30      43_captions_prioritize_otherwritten_vigilance   \n",
       "45     44     30                     44_marketing_design_lrn_skills   \n",
       "46     45     29                  45_faculty_college_adjunct_course   \n",
       "47     46     28   46_cancel_jobsinsports_uninterrupted_autorenewed   \n",
       "48     47     28       47_learners_apprenticeship_training_assessor   \n",
       "49     48     28      48_greatest_descriptions_strategists_openings   \n",
       "50     49     28                          49_pr_uk_agency_programme   \n",
       "\n",
       "                                       Representation  \\\n",
       "0   [social, media, marketing, experience, team, d...   \n",
       "1   [internship, intern, internships, india, legit...   \n",
       "2   [london, role, uk, manager, executive, across,...   \n",
       "3   [circle, qualified, law, protected, applicants...   \n",
       "4   [republic, islands, pierre, ivoire, wallis, ki...   \n",
       "5   [design, skills, seo, web, marketing, knowledg...   \n",
       "6   [health, cancer, care, healthcare, merck, hmdc...   \n",
       "7   [pr, role, agency, manchester, looking, charit...   \n",
       "8   [sports, sport, football, league, baseball, fa...   \n",
       "9   [highlighted, picked, upgrade, moving, recruit...   \n",
       "10  [disabilities, followingthe, request, box, ema...   \n",
       "11  [africa, cape, town, bbc, platforms, unsuccess...   \n",
       "12  [volunteer, volunteering, requiredsuitable, fo...   \n",
       "13  [university, college, students, alumni, studen...   \n",
       "14  [disabilities, request, box, emails, brief, lo...   \n",
       "15  [intern, internship, lockwoods, interns, marke...   \n",
       "16  [customer, campaigns, marketing, customers, so...   \n",
       "17  [social, increase, text, media, encourages, co...   \n",
       "18  [move, channel, planning, typically, campaigns...   \n",
       "19  [manager, community, media, social, implemente...   \n",
       "20  [leadsno, unlockto, categoriescreate, scams, s...   \n",
       "21  [brand, engagement, strategy, influencer, soci...   \n",
       "22  [client, agency, marketing, clients, role, cam...   \n",
       "23  [chegg, legitimacy, avoid, internships, employ...   \n",
       "24  [ikea, furnishing, home, people, everyday, lif...   \n",
       "25  [cats, volunteers, protection, volunteer, face...   \n",
       "26  [sinclair, broadcasting, broadcast, stations, ...   \n",
       "27  [australian, clients, fun, copywriting, brands...   \n",
       "28  [un, women, womens, equality, gender, empowerm...   \n",
       "29  [climate, cifor, nrdc, azula, engagement, envi...   \n",
       "30  [course, students, learn, training, learning, ...   \n",
       "31  [bbc, ih, evi, asia, thai, digital, china, sch...   \n",
       "32  [dubai, uae, organisation, aed, detailssocial,...   \n",
       "33  [music, artists, radio, artist, bbc, product, ...   \n",
       "34  [communications, district, cjas, public, justi...   \n",
       "35  [journalism, editor, audience, newsroom, stori...   \n",
       "36  [vacancies, daman, freshersworld, freshers, ex...   \n",
       "37  [sydney, internship, name, fashion, week, days...   \n",
       "38  [newsnation, advertisers, republish, disclaim,...   \n",
       "39  [automotive, nascar, horiba, cox, client, deal...   \n",
       "40  [audience, engagement, horseshoe, platforms, s...   \n",
       "41  [telecommute, customer, customers, service, ik...   \n",
       "42  [undp, privacy, receive, might, resume1, outst...   \n",
       "43  [global, communications, astrazeneca, vmagroup...   \n",
       "44  [captions, prioritize, otherwritten, vigilance...   \n",
       "45  [marketing, design, lrn, skills, seo, media, s...   \n",
       "46  [faculty, college, adjunct, course, teaching, ...   \n",
       "47  [cancel, jobsinsports, uninterrupted, autorene...   \n",
       "48  [learners, apprenticeship, training, assessor,...   \n",
       "49  [greatest, descriptions, strategists, openings...   \n",
       "50  [pr, uk, agency, programme, role, 000, manager...   \n",
       "\n",
       "                                  Representative_Docs  \n",
       "0   [ description partner closely creative directo...  \n",
       "1   [ descriptionoverview summary social media int...  \n",
       "2   [ client independent car dealership chelmsford...  \n",
       "3   [ social media managerlocation miamistatus fre...  \n",
       "4   [ countriesunited statesunited kingdomaustrali...  \n",
       "5   [ qualificationsproven experience social media...  \n",
       "6   [ requisition id ext000386the difference poten...  \n",
       "7   [ social media manager looking broaden experie...  \n",
       "8   [ sports sunday night football social media co...  \n",
       "9   [ see big development opportunities picked tea...  \n",
       "10  [ committed equal offering opportunities inclu...  \n",
       "11  [ introductionthe bbc world service embarking ...  \n",
       "12  [ requiredsuitable fortype workit web developm...  \n",
       "13  [ descriptionposition number 00104983primary f...  \n",
       "14  [ committed equal offering opportunities inclu...  \n",
       "15  [ descriptionlockwoods looking brilliant marke...  \n",
       "16  [ social media strategistremuneration negotiab...  \n",
       "17  [ looking driven social media specialist inter...  \n",
       "18  [ informationposition purposemanage execute so...  \n",
       "19  [ social media managerjob descriptionour clien...  \n",
       "20  [ social media managerfull social media manage...  \n",
       "21  [ social media manager oversee development exe...  \n",
       "22  [ client looking social media marketing coordi...  \n",
       "23  [ descriptionpitching brands behalf creation e...  \n",
       "24  [ company descriptionthe ikea vision create ev...  \n",
       "25  [ bit rolesocial media cats go social media vo...  \n",
       "26  [ jobprofilemake mark broadcasting digital med...  \n",
       "27  [ locationpostedclosesindustryjob typel social...  \n",
       "28  [ advertised behalf location istanbul turkeyap...  \n",
       "29  [ purpose research expand monitor presence soc...  \n",
       "30  [ still openings remaining ages 18 upin introd...  \n",
       "31  [ evi services formed 1999 leading one stop e ...  \n",
       "32  [ sales telemarketing descriptionsocial media ...  \n",
       "33  [ yamaha music europe gmbh one world leading m...  \n",
       "34  [ consider title digital social media communic...  \n",
       "35  [ save jobsocial media producerdescription soc...  \n",
       "36  [ award winning integrated marketing agency of...  \n",
       "37  [ australian based fashion label selling globa...  \n",
       "38  [ fun company people truly believe newsnation ...  \n",
       "39  [ descriptiondealer cox automotive brand curre...  \n",
       "40  [ save jobsocial media specialistdescription p...  \n",
       "41  [ arecan see role driving seat customer meetin...  \n",
       "42  [ social media intern united states americacan...  \n",
       "43  [ social media strategist global digital strat...  \n",
       "44  [ primary social media expert ideal candidate ...  \n",
       "45  [ marsh seeking talented digital storyteller w...  \n",
       "46  [ descriptionadjunct faculty interactive socia...  \n",
       "47  [ director social media responsible establishi...  \n",
       "48  [ km recruitment specialist uk wide recruiter ...  \n",
       "49  [ latest social media opportunities temporary ...  \n",
       "50  [ project social media coordinator digital eco...  "
      ]
     },
     "execution_count": 6,
     "metadata": {},
     "output_type": "execute_result"
    }
   ],
   "source": [
    "freq = topic_model.get_topic_info(); freq.head(51)"
   ]
  },
  {
   "cell_type": "markdown",
   "metadata": {
    "id": "-BtOgifV7Q-H"
   },
   "source": [
    "-1 refere-se a todos os outliers e normalmente deve ser ignorado. A seguir, vamos dar uma olhada em um tópico frequente que foi gerado:"
   ]
  },
  {
   "cell_type": "code",
   "execution_count": null,
   "metadata": {
    "colab": {
     "base_uri": "https://localhost:8080/"
    },
    "id": "IVpvT4bA6KiN",
    "outputId": "9cf99b89-30bb-45fe-b98b-063f8f3624d9",
    "scrolled": true
   },
   "outputs": [],
   "source": [
    "topic_model.get_topic(0)  "
   ]
  },
  {
   "cell_type": "code",
   "execution_count": null,
   "metadata": {},
   "outputs": [],
   "source": [
    "topic_model.get_topic(1)  "
   ]
  },
  {
   "cell_type": "code",
   "execution_count": null,
   "metadata": {},
   "outputs": [],
   "source": [
    "topic_model.get_topic(2)  "
   ]
  },
  {
   "cell_type": "code",
   "execution_count": null,
   "metadata": {},
   "outputs": [],
   "source": [
    "topic_model.get_topic(3)  "
   ]
  },
  {
   "cell_type": "code",
   "execution_count": null,
   "metadata": {},
   "outputs": [],
   "source": [
    "topic_model.get_topic(4)  "
   ]
  },
  {
   "cell_type": "code",
   "execution_count": null,
   "metadata": {},
   "outputs": [],
   "source": [
    "topic_model.get_topic(5)  "
   ]
  },
  {
   "cell_type": "code",
   "execution_count": null,
   "metadata": {},
   "outputs": [],
   "source": [
    "topic_model.get_topic(6)  "
   ]
  },
  {
   "cell_type": "code",
   "execution_count": null,
   "metadata": {},
   "outputs": [],
   "source": [
    "topic_model.get_topic(7)  "
   ]
  },
  {
   "cell_type": "code",
   "execution_count": null,
   "metadata": {},
   "outputs": [],
   "source": [
    "topic_model.get_topic(8)  "
   ]
  },
  {
   "cell_type": "code",
   "execution_count": null,
   "metadata": {},
   "outputs": [],
   "source": [
    "topic_model.get_topic(9)  "
   ]
  },
  {
   "cell_type": "code",
   "execution_count": null,
   "metadata": {},
   "outputs": [],
   "source": [
    "topic_model.get_topic(10)  "
   ]
  },
  {
   "cell_type": "code",
   "execution_count": null,
   "metadata": {},
   "outputs": [],
   "source": [
    "topic_model.get_topic(11)  "
   ]
  },
  {
   "cell_type": "code",
   "execution_count": null,
   "metadata": {},
   "outputs": [],
   "source": [
    "topic_model.get_topic(12)  "
   ]
  },
  {
   "cell_type": "code",
   "execution_count": null,
   "metadata": {},
   "outputs": [],
   "source": [
    "topic_model.get_topic(13)  "
   ]
  },
  {
   "cell_type": "code",
   "execution_count": null,
   "metadata": {
    "scrolled": true
   },
   "outputs": [],
   "source": [
    "topic_model.get_topic(14)  "
   ]
  },
  {
   "cell_type": "code",
   "execution_count": null,
   "metadata": {},
   "outputs": [],
   "source": [
    "topic_model.get_topic(15)  "
   ]
  },
  {
   "cell_type": "code",
   "execution_count": null,
   "metadata": {},
   "outputs": [],
   "source": [
    "topic_model.get_topic(16)  "
   ]
  },
  {
   "cell_type": "code",
   "execution_count": null,
   "metadata": {},
   "outputs": [],
   "source": [
    "topic_model.get_topic(17)  "
   ]
  },
  {
   "cell_type": "code",
   "execution_count": null,
   "metadata": {},
   "outputs": [],
   "source": [
    "topic_model.get_topic(18)  "
   ]
  },
  {
   "cell_type": "code",
   "execution_count": null,
   "metadata": {},
   "outputs": [],
   "source": [
    "topic_model.get_topic(19)  "
   ]
  },
  {
   "cell_type": "code",
   "execution_count": null,
   "metadata": {},
   "outputs": [],
   "source": [
    "topic_model.get_topic(20)  "
   ]
  },
  {
   "cell_type": "code",
   "execution_count": null,
   "metadata": {
    "scrolled": true
   },
   "outputs": [],
   "source": [
    "#30 antes e depois\n",
    "# 'edu','zhiping weng', 'within', 'ta', stopwords 'new york', 'ithaca', 'cornell', 'albert', 'umass', 'nih','niab', 'afbi', st', jude', 'leibniz', 'hki', 'leibniz', 'dfci', 'dana', 'faber' institutos 'emilie' nomes proprios 'ensure' (garantir) verbos\n",
    "\n",
    "window = 100\n",
    "\n",
    "caracter = 'edu '\n",
    "for index, row in docs.iterrows():\n",
    "    a = row.text_result\n",
    "    n = -1\n",
    "    if(caracter in a):\n",
    "        n = a.find(caracter)\n",
    "        start_index = max(0, n - window)\n",
    "        end_index = min(len(a), n + window)\n",
    "        s = a[start_index:end_index]\n",
    "        print(index, s, '\\n')"
   ]
  },
  {
   "cell_type": "markdown",
   "metadata": {
    "id": "ixc-X2JzodrZ"
   },
   "source": [
    "**NOTA**: BERTopic é estocástico, o que significa que os tópicos podem diferir entre as execuções. Isso se deve principalmente à natureza estocástica do UMAP."
   ]
  },
  {
   "cell_type": "code",
   "execution_count": null,
   "metadata": {
    "id": "FX_Ngb3PpRFG"
   },
   "outputs": [],
   "source": [
    "### Attributes"
   ]
  },
  {
   "cell_type": "markdown",
   "metadata": {
    "id": "j91cP3xBpWDM"
   },
   "source": [
    "## Atributos\n",
    "\n",
    "Existem vários atributos que você pode acessar depois de treinar seu modelo BERTopic:\n",
    "\n",
    "\n",
    "| Attribute | Description |\n",
    "|------------------------|---------------------------------------------------------------------------------------------|\n",
    "| topics_               | The topics that are generated for each document after training or updating the topic model. |\n",
    "| probabilities_ | The probabilities that are generated for each document if HDBSCAN is used. |\n",
    "| topic_sizes_           | The size of each topic                                                                      |\n",
    "| topic_mapper_          | A class for tracking topics and their mappings anytime they are merged/reduced.             |\n",
    "| topic_representations_ | The top *n* terms per topic and their respective c-TF-IDF values.                             |\n",
    "| c_tf_idf_              | The topic-term matrix as calculated through c-TF-IDF.                                       |\n",
    "| topic_labels_          | The default labels for each topic.                                                          |\n",
    "| custom_labels_         | Custom labels for each topic as generated through `.set_topic_labels`.                                                               |\n",
    "| topic_embeddings_      | The embeddings for each topic if `embedding_model` was used.                                                              |\n",
    "| representative_docs_   | The representative documents for each topic if HDBSCAN is used.                                                |\n",
    "\n",
    "Por exemplo, para acessar os tópicos previstos para os 10 primeiros documentos, simplesmente executamos o seguinte:"
   ]
  },
  {
   "cell_type": "code",
   "execution_count": null,
   "metadata": {
    "id": "uCMHaWVMpbo3"
   },
   "outputs": [],
   "source": [
    "topic_model.topics_[:10]"
   ]
  },
  {
   "cell_type": "markdown",
   "metadata": {
    "id": "UbT2Bd9gqaJ3"
   },
   "source": [
    "# **Visualização**\n",
    "Existem várias opções de visualização disponíveis no BERTopic, nomeadamente a visualização de tópicos, probabilidades e tópicos ao longo do tempo. A modelagem de tópicos é, até certo ponto, bastante subjetiva. As visualizações ajudam a entender os tópicos que foram criados."
   ]
  },
  {
   "cell_type": "markdown",
   "metadata": {
    "id": "M8c8LenB8Zyl"
   },
   "source": [
    "## Visualizar Tópicos\n",
    "Depois de treinar nosso modelo `BERTopic`, podemos percorrer iterativamente talvez uma centena de tópicos para obter uma boa\n",
    "compreensão dos tópicos que foram extraídos. No entanto, isso leva algum tempo e carece de uma representação global.\n",
    "Em vez disso, podemos visualizar os tópicos que foram gerados de maneira muito semelhante a\n",
    "[LDAvis](https://github.com/cpsievert/LDAvis):"
   ]
  },
  {
   "cell_type": "code",
   "execution_count": null,
   "metadata": {
    "colab": {
     "base_uri": "https://localhost:8080/",
     "height": 667
    },
    "id": "S9qDqEHddgKq",
    "outputId": "3fddd5f1-194e-4708-a7dc-f0c5602c140a"
   },
   "outputs": [],
   "source": [
    "topic_model.visualize_topics()"
   ]
  },
  {
   "cell_type": "markdown",
   "metadata": {
    "id": "ITB7bf6q8nWQ"
   },
   "source": [
    "## Visualize as probabilidades do tópico\n",
    "\n",
    "A variável `probabilities` que é retornada de `transform()` ou `fit_transform()` pode\n",
    "ser usado para entender o quão confiante o BERTopic está de que certos tópicos podem ser encontrados em um documento. Em outras palavras é aistribuição de probabilidade de um determinado documento conter diferentes tópicos.\n",
    "\n",
    "Para visualizar as distribuições, simplesmente chamamos:"
   ]
  },
  {
   "cell_type": "code",
   "execution_count": null,
   "metadata": {
    "colab": {
     "base_uri": "https://localhost:8080/",
     "height": 542
    },
    "id": "ypfI1-KHdmcX",
    "outputId": "4fd56127-4143-4cf7-d227-ef43725f1ad7"
   },
   "outputs": [],
   "source": [
    "topic_model.visualize_distribution(probs[1], min_probability=0.015)"
   ]
  },
  {
   "cell_type": "markdown",
   "metadata": {
    "id": "QHRTeSpl5JYB"
   },
   "source": [
    "## Visualizar hierarquia de tópicos\n",
    "\n",
    "Os tópicos que foram criados podem ser reduzidos hierarquicamente. Para entender a estrutura hierárquica potencial dos tópicos, podemos usar scipy.cluster.hierarchy para criar clusters e visualizar como eles se relacionam entre si. Isso pode ajudar a selecionar um nr_topics apropriado ao reduzir o número de tópicos que você criou."
   ]
  },
  {
   "cell_type": "code",
   "execution_count": null,
   "metadata": {
    "colab": {
     "base_uri": "https://localhost:8080/",
     "height": 617
    },
    "id": "ltmLFRR56a4X",
    "outputId": "0458e59c-30ce-4700-8dbf-0932afc63f1d"
   },
   "outputs": [],
   "source": [
    "topic_model.visualize_hierarchy(top_n_topics=128)"
   ]
  },
  {
   "cell_type": "markdown",
   "metadata": {
    "id": "4spXl2_C6flq"
   },
   "source": [
    "## Visualizar termos\n",
    "\n",
    "Podemos visualizar os termos selecionados para alguns tópicos criando gráficos de barras a partir das pontuações c-TF-IDF para cada representação de tópico. Insights podem ser obtidos a partir das pontuações relativas de c-TF-IDF entre e dentro dos tópicos. Além disso, você pode facilmente comparar representações de tópicos entre si."
   ]
  },
  {
   "cell_type": "code",
   "execution_count": null,
   "metadata": {
    "colab": {
     "base_uri": "https://localhost:8080/",
     "height": 617
    },
    "id": "zpm9LsKW6mi5",
    "outputId": "1197affc-dde2-44c1-9ba7-c9fb36a1143c"
   },
   "outputs": [],
   "source": [
    "topic_model.visualize_barchart(top_n_topics=136, n_words=10, height=300)"
   ]
  },
  {
   "cell_type": "markdown",
   "metadata": {
    "id": "QCPdi6_z6sbT"
   },
   "source": [
    "## Visualize a similaridade do tópico\n",
    "Tendo gerado incorporações de tópicos, por meio de c-TF-IDF e incorporações, podemos criar uma matriz de similaridade simplesmente aplicando similaridades de cosseno por meio dessas incorporações de tópicos. O resultado será uma matriz que indica a semelhança entre determinados tópicos."
   ]
  },
  {
   "cell_type": "code",
   "execution_count": null,
   "metadata": {
    "colab": {
     "base_uri": "https://localhost:8080/",
     "height": 1000
    },
    "id": "edzNhZuZ6wTr",
    "outputId": "e01231db-fe82-49d3-a96f-8135522d9b9b"
   },
   "outputs": [],
   "source": [
    "topic_model.visualize_heatmap(top_n_topics=136, width=1000, height=1000)"
   ]
  },
  {
   "cell_type": "markdown",
   "metadata": {},
   "source": [
    "## Encontre tópicos semelhantes ao termo especificado"
   ]
  },
  {
   "cell_type": "code",
   "execution_count": null,
   "metadata": {
    "scrolled": true
   },
   "outputs": [],
   "source": [
    "# Retorna os 3 principais tópicos que são semanticamente mais semelhantes \n",
    "# a um termo de consulta de entrada \n",
    "\n",
    "# 3 tópicos mais semelhantes à palavra especificada\n",
    "similar_topics, similarity = \\\n",
    "topic_model.find_topics(\"skills\", top_n = 3) \n",
    "\n",
    "\n",
    "print(\"Informações sobre tópicos mais semelhantes: \\n{}\".format(topic_model.get_topic(similar_topics[0])))\n",
    "print(\"Pontuação de similaridade: {}\".format(similarity[0]))\n",
    "\n",
    "print(\"\\n Most Similar Topic Info: \\n{}\".format(topic_model.get_topic(similar_topics[1])))\n",
    "print(\"Similarity Score: {}\".format(similarity[1]))\n",
    "\n",
    "print(\"\\n Most Similar Topic Info: \\n{}\".format(topic_model.get_topic(similar_topics[2])))\n",
    "print(\"Similarity Score: {}\".format(similarity[2]))"
   ]
  },
  {
   "cell_type": "markdown",
   "metadata": {
    "id": "_ak_CLR164mx"
   },
   "source": [
    "## Visualize o declínio da pontuação do período\n",
    "Os tópicos são representados por um número de palavras começando com a palavra mais representativa. Cada palavra é representada por uma pontuação c-TF-IDF. Quanto maior a pontuação, mais representativa é a palavra para o tópico. Como as palavras do tópico são classificadas por sua pontuação c-TF-IDF, as pontuações diminuem lentamente a cada palavra adicionada. Em algum ponto, adicionar palavras à representação do tópico aumenta apenas marginalmente a pontuação total do c-TF-IDF e não seria benéfico para sua representação.\n",
    "\n",
    "Para visualizar esse efeito, podemos plotar as pontuações do c-TF-IDF para cada tópico pela classificação do termo de cada palavra. Em outras palavras, a posição das palavras (classificação do termo), onde as palavras com a maior pontuação c-TF-IDF terão uma classificação de 1, será colocada no eixo x. Considerando que o eixo y será preenchido pelas pontuações c-TF-IDF. O resultado é uma visualização que mostra o declínio da pontuação c-TF-IDF ao adicionar palavras à representação do tópico. Ele permite que você, usando o método do cotovelo, selecione o melhor número de palavras em um tópico."
   ]
  },
  {
   "cell_type": "code",
   "execution_count": null,
   "metadata": {
    "colab": {
     "base_uri": "https://localhost:8080/",
     "height": 517
    },
    "id": "7gT3Korh6-MX",
    "outputId": "5810f810-4633-425e-a7d2-3a1e9570639a"
   },
   "outputs": [],
   "source": [
    "topic_model.visualize_term_rank()"
   ]
  },
  {
   "cell_type": "markdown",
   "metadata": {
    "id": "D48ienfZrfP0"
   },
   "source": [
    "# **Representação do Tópico**\n",
    "Depois de criar o modelo de tópico, você pode não ficar satisfeito com alguns dos parâmetros escolhidos. Felizmente, o BERTopic permite que você atualize os tópicos depois de criados.\n",
    "\n",
    "Isso permite ajustar o modelo de acordo com suas especificações e desejos."
   ]
  },
  {
   "cell_type": "markdown",
   "metadata": {
    "id": "c4m3UMsw-Zxk"
   },
   "source": [
    "## Atualizar Tópicos\n",
    "Depois de treinar um modelo e visualizar os tópicos e as palavras que os representam,\n",
    "você pode não estar satisfeito com a representação. Talvez você tenha esquecido de remover\n",
    "stopwords ou você quer experimentar um `n_gram_range` diferente. Podemos usar a função `update_topics` para atualizar\n",
    "a representação do tópico com novos parâmetros para `c-TF-IDF`:"
   ]
  },
  {
   "cell_type": "code",
   "execution_count": null,
   "metadata": {
    "id": "KWm7B-FJ-iYW"
   },
   "outputs": [],
   "source": [
    "topic_model.update_topics(docs.text_result, n_gram_range=(1, 3))"
   ]
  },
  {
   "cell_type": "code",
   "execution_count": null,
   "metadata": {
    "colab": {
     "base_uri": "https://localhost:8080/"
    },
    "id": "wf31gQavdtfG",
    "outputId": "b2cf3d47-f665-44fe-bbe0-c927e4d73363"
   },
   "outputs": [],
   "source": [
    "topic_model.get_topic(0)   # We select topic that we viewed before"
   ]
  },
  {
   "cell_type": "markdown",
   "metadata": {
    "id": "9antKpdC91A-"
   },
   "source": [
    "## Redução de Tópico\n",
    "Também podemos reduzir o número de tópicos depois de treinar um modelo BERTopic. A vantagem de fazê-lo,\n",
    "é que você pode decidir o número de tópicos depois de saber quantos são realmente criados. Isso é difícil\n",
    "preveja antes de treinar seu modelo quantos tópicos estão em seus documentos e quantos serão extraídos.\n",
    "Em vez disso, podemos decidir depois quantos tópicos parecem realistas:"
   ]
  },
  {
   "cell_type": "code",
   "execution_count": null,
   "metadata": {
    "colab": {
     "base_uri": "https://localhost:8080/"
    },
    "id": "5m4Nd7Us-Peg",
    "outputId": "2d442d39-5bc5-4e7f-c155-6e6c664f6714"
   },
   "outputs": [],
   "source": [
    "topic_model.reduce_topics(docs.text_result, nr_topics=20)"
   ]
  },
  {
   "cell_type": "code",
   "execution_count": null,
   "metadata": {
    "colab": {
     "base_uri": "https://localhost:8080/"
    },
    "id": "jVAYd7pXJ1_T",
    "outputId": "433d5607-cf1d-421d-9bee-070363f13abb"
   },
   "outputs": [],
   "source": [
    "# Access the newly updated topics with:\n",
    "print(topic_model.topics_)"
   ]
  },
  {
   "cell_type": "markdown",
   "metadata": {
    "id": "ipzieuf2J4rr"
   },
   "source": []
  },
  {
   "cell_type": "code",
   "execution_count": null,
   "metadata": {},
   "outputs": [],
   "source": [
    "len(topic_model.get_topic_info())"
   ]
  },
  {
   "cell_type": "code",
   "execution_count": null,
   "metadata": {
    "colab": {
     "base_uri": "https://localhost:8080/"
    },
    "id": "IVpvT4bA6KiN",
    "outputId": "9cf99b89-30bb-45fe-b98b-063f8f3624d9",
    "scrolled": true
   },
   "outputs": [],
   "source": [
    "topic_model.get_topic(0)  "
   ]
  },
  {
   "cell_type": "code",
   "execution_count": null,
   "metadata": {},
   "outputs": [],
   "source": [
    "topic_model.get_topic(1)  "
   ]
  },
  {
   "cell_type": "code",
   "execution_count": null,
   "metadata": {},
   "outputs": [],
   "source": [
    "topic_model.get_topic(2)  "
   ]
  },
  {
   "cell_type": "code",
   "execution_count": null,
   "metadata": {},
   "outputs": [],
   "source": [
    "topic_model.get_topic(3)  "
   ]
  },
  {
   "cell_type": "code",
   "execution_count": null,
   "metadata": {},
   "outputs": [],
   "source": [
    "topic_model.get_topic(4)  "
   ]
  },
  {
   "cell_type": "code",
   "execution_count": null,
   "metadata": {},
   "outputs": [],
   "source": [
    "topic_model.get_topic(5)  "
   ]
  },
  {
   "cell_type": "code",
   "execution_count": null,
   "metadata": {},
   "outputs": [],
   "source": [
    "topic_model.get_topic(6)  "
   ]
  },
  {
   "cell_type": "code",
   "execution_count": null,
   "metadata": {},
   "outputs": [],
   "source": [
    "topic_model.get_topic(7)  "
   ]
  },
  {
   "cell_type": "code",
   "execution_count": null,
   "metadata": {},
   "outputs": [],
   "source": [
    "topic_model.get_topic(8)  "
   ]
  },
  {
   "cell_type": "code",
   "execution_count": null,
   "metadata": {},
   "outputs": [],
   "source": [
    "topic_model.get_topic(9)  "
   ]
  },
  {
   "cell_type": "code",
   "execution_count": null,
   "metadata": {},
   "outputs": [],
   "source": [
    "topic_model.get_topic(10)  "
   ]
  },
  {
   "cell_type": "code",
   "execution_count": null,
   "metadata": {},
   "outputs": [],
   "source": [
    "topic_model.get_topic(11)  "
   ]
  },
  {
   "cell_type": "code",
   "execution_count": null,
   "metadata": {},
   "outputs": [],
   "source": [
    "topic_model.get_topic(12)  "
   ]
  },
  {
   "cell_type": "code",
   "execution_count": null,
   "metadata": {},
   "outputs": [],
   "source": [
    "topic_model.get_topic(13)  "
   ]
  },
  {
   "cell_type": "code",
   "execution_count": null,
   "metadata": {
    "scrolled": true
   },
   "outputs": [],
   "source": [
    "topic_model.get_topic(14)  "
   ]
  },
  {
   "cell_type": "code",
   "execution_count": null,
   "metadata": {},
   "outputs": [],
   "source": [
    "topic_model.get_topic(15)  "
   ]
  },
  {
   "cell_type": "code",
   "execution_count": null,
   "metadata": {},
   "outputs": [],
   "source": [
    "topic_model.get_topic(16)  "
   ]
  },
  {
   "cell_type": "code",
   "execution_count": null,
   "metadata": {},
   "outputs": [],
   "source": [
    "topic_model.get_topic(17)  "
   ]
  },
  {
   "cell_type": "code",
   "execution_count": null,
   "metadata": {},
   "outputs": [],
   "source": [
    "topic_model.get_topic(18)  "
   ]
  },
  {
   "cell_type": "code",
   "execution_count": null,
   "metadata": {},
   "outputs": [],
   "source": [
    "topic_model.get_topic(19)  "
   ]
  },
  {
   "cell_type": "code",
   "execution_count": null,
   "metadata": {},
   "outputs": [],
   "source": [
    "topic_model.get_topic(20)  "
   ]
  },
  {
   "cell_type": "code",
   "execution_count": null,
   "metadata": {},
   "outputs": [],
   "source": [
    "topic_model.visualize_barchart(top_n_topics=20, n_words=10, height=300)"
   ]
  },
  {
   "cell_type": "markdown",
   "metadata": {
    "id": "UbT2Bd9gqaJ3"
   },
   "source": [
    "# **Visualização Pós Redução**\n",
    "Existem várias opções de visualização disponíveis no BERTopic, nomeadamente a visualização de tópicos, probabilidades e tópicos ao longo do tempo. A modelagem de tópicos é, até certo ponto, bastante subjetiva. As visualizações ajudam a entender os tópicos que foram criados."
   ]
  },
  {
   "cell_type": "code",
   "execution_count": null,
   "metadata": {},
   "outputs": [],
   "source": []
  },
  {
   "cell_type": "markdown",
   "metadata": {
    "id": "M8c8LenB8Zyl"
   },
   "source": [
    "## Visualizar Tópicos\n",
    "Depois de treinar nosso modelo `BERTopic`, podemos percorrer iterativamente talvez uma centena de tópicos para obter uma boa\n",
    "compreensão dos tópicos que foram extraídos. No entanto, isso leva algum tempo e carece de uma representação global.\n",
    "Em vez disso, podemos visualizar os tópicos que foram gerados de maneira muito semelhante a\n",
    "[LDAvis](https://github.com/cpsievert/LDAvis):"
   ]
  },
  {
   "cell_type": "code",
   "execution_count": null,
   "metadata": {
    "colab": {
     "base_uri": "https://localhost:8080/",
     "height": 667
    },
    "id": "S9qDqEHddgKq",
    "outputId": "3fddd5f1-194e-4708-a7dc-f0c5602c140a"
   },
   "outputs": [],
   "source": [
    "topic_model.visualize_topics()"
   ]
  },
  {
   "cell_type": "markdown",
   "metadata": {
    "id": "ITB7bf6q8nWQ"
   },
   "source": [
    "## Visualize as probabilidades do tópico\n",
    "\n",
    "A variável `probabilities` que é retornada de `transform()` ou `fit_transform()` pode\n",
    "ser usado para entender o quão confiante o BERTopic está de que certos tópicos podem ser encontrados em um documento. Em outras palavras é aistribuição de probabilidade de um determinado documento conter diferentes tópicos.\n",
    "\n",
    "Para visualizar as distribuições, simplesmente chamamos:"
   ]
  },
  {
   "cell_type": "code",
   "execution_count": null,
   "metadata": {
    "colab": {
     "base_uri": "https://localhost:8080/",
     "height": 542
    },
    "id": "ypfI1-KHdmcX",
    "outputId": "4fd56127-4143-4cf7-d227-ef43725f1ad7"
   },
   "outputs": [],
   "source": [
    "topic_model.visualize_distribution(probs[1], min_probability=0.015)"
   ]
  },
  {
   "cell_type": "markdown",
   "metadata": {
    "id": "QHRTeSpl5JYB"
   },
   "source": [
    "## Visualizar hierarquia de tópicos\n",
    "\n",
    "Os tópicos que foram criados podem ser reduzidos hierarquicamente. Para entender a estrutura hierárquica potencial dos tópicos, podemos usar scipy.cluster.hierarchy para criar clusters e visualizar como eles se relacionam entre si. Isso pode ajudar a selecionar um nr_topics apropriado ao reduzir o número de tópicos que você criou."
   ]
  },
  {
   "cell_type": "code",
   "execution_count": null,
   "metadata": {
    "colab": {
     "base_uri": "https://localhost:8080/",
     "height": 617
    },
    "id": "ltmLFRR56a4X",
    "outputId": "0458e59c-30ce-4700-8dbf-0932afc63f1d"
   },
   "outputs": [],
   "source": [
    "topic_model.visualize_hierarchy(top_n_topics=128)"
   ]
  },
  {
   "cell_type": "markdown",
   "metadata": {
    "id": "4spXl2_C6flq"
   },
   "source": [
    "## Visualizar termos\n",
    "\n",
    "Podemos visualizar os termos selecionados para alguns tópicos criando gráficos de barras a partir das pontuações c-TF-IDF para cada representação de tópico. Insights podem ser obtidos a partir das pontuações relativas de c-TF-IDF entre e dentro dos tópicos. Além disso, você pode facilmente comparar representações de tópicos entre si."
   ]
  },
  {
   "cell_type": "code",
   "execution_count": null,
   "metadata": {
    "colab": {
     "base_uri": "https://localhost:8080/",
     "height": 617
    },
    "id": "zpm9LsKW6mi5",
    "outputId": "1197affc-dde2-44c1-9ba7-c9fb36a1143c"
   },
   "outputs": [],
   "source": [
    "topic_model.visualize_barchart(top_n_topics=136, n_words=10, height=300)"
   ]
  },
  {
   "cell_type": "markdown",
   "metadata": {
    "id": "QCPdi6_z6sbT"
   },
   "source": [
    "## Visualize a similaridade do tópico\n",
    "Tendo gerado incorporações de tópicos, por meio de c-TF-IDF e incorporações, podemos criar uma matriz de similaridade simplesmente aplicando similaridades de cosseno por meio dessas incorporações de tópicos. O resultado será uma matriz que indica a semelhança entre determinados tópicos."
   ]
  },
  {
   "cell_type": "code",
   "execution_count": null,
   "metadata": {
    "colab": {
     "base_uri": "https://localhost:8080/",
     "height": 1000
    },
    "id": "edzNhZuZ6wTr",
    "outputId": "e01231db-fe82-49d3-a96f-8135522d9b9b"
   },
   "outputs": [],
   "source": [
    "topic_model.visualize_heatmap(top_n_topics=136, width=1000, height=1000)"
   ]
  },
  {
   "cell_type": "code",
   "execution_count": null,
   "metadata": {},
   "outputs": [],
   "source": []
  },
  {
   "cell_type": "markdown",
   "metadata": {
    "id": "LXYJ745O-03Z"
   },
   "source": [
    "# **Pesquisar Tópicos**\n",
    "Depois de treinar nosso modelo, podemos usar `find_topics` para pesquisar tópicos semelhantes\n",
    "para um search_term de entrada. Aqui, procuraremos tópicos que se relacionem intimamente com o\n",
    "termo de pesquisa \"omic\". Em seguida, extraímos o tópico mais semelhante e verificamos os resultados:"
   ]
  },
  {
   "cell_type": "code",
   "execution_count": null,
   "metadata": {
    "colab": {
     "base_uri": "https://localhost:8080/"
    },
    "id": "lAdiVYej-2i-",
    "outputId": "c107bd7d-1025-4d4d-b179-d007c7d16cd2"
   },
   "outputs": [],
   "source": [
    "similar_topics, similarity = topic_model.find_topics(\"omic\", top_n=5); similar_topics"
   ]
  },
  {
   "cell_type": "code",
   "execution_count": null,
   "metadata": {
    "colab": {
     "base_uri": "https://localhost:8080/"
    },
    "id": "Q9paNa09d3Xy",
    "outputId": "545bbd07-8850-46d4-fdb7-28cb3d158b15"
   },
   "outputs": [],
   "source": [
    "topic_model.get_topic(0)"
   ]
  },
  {
   "cell_type": "markdown",
   "metadata": {
    "id": "wekNoQNuUVoU"
   },
   "source": [
    "# **Serialização do modelo**\n",
    "O modelo e suas configurações internas podem ser facilmente salvos. Observe que os documentos e incorporações não serão salvos. No entanto, UMAP e HDBSCAN serão salvos."
   ]
  },
  {
   "cell_type": "code",
   "execution_count": null,
   "metadata": {
    "id": "nWUF1uxiSb_a"
   },
   "outputs": [],
   "source": [
    "# Save model\n",
    "topic_model.save(\"my_model\")\t"
   ]
  },
  {
   "cell_type": "code",
   "execution_count": null,
   "metadata": {
    "id": "y_eHBI1jSb6i"
   },
   "outputs": [],
   "source": [
    "# Load model\n",
    "my_model = BERTopic.load(\"my_model\")\t"
   ]
  },
  {
   "cell_type": "markdown",
   "metadata": {
    "id": "2eyImbal7lb8"
   },
   "source": [
    "# **Incorporando modelos**\n",
    "O parâmetro `embedding_model` recebe uma string apontando para um modelo de transformadores de sentença, um SentenceTransformer ou um modelo Flair DocumentEmbedding."
   ]
  },
  {
   "cell_type": "markdown",
   "metadata": {
    "id": "8ZKyW7NZpnEk"
   },
   "source": [
    "## Transformadores de Sentença\n",
    "Você pode selecionar qualquer modelo de transformadores de sentença aqui e passá-lo por BERTopic com embedding_model:"
   ]
  },
  {
   "cell_type": "code",
   "execution_count": null,
   "metadata": {
    "id": "k7sPgNfzprbP"
   },
   "outputs": [],
   "source": [
    "topic_model = BERTopic(embedding_model=\"xlm-r-bert-base-nli-stsb-mean-tokens\")"
   ]
  },
  {
   "cell_type": "markdown",
   "metadata": {
    "id": "8vv7i1JTp62V"
   },
   "source": [
    "Ou selecione um modelo SentenceTransformer com seus próprios parâmetros:"
   ]
  },
  {
   "cell_type": "code",
   "execution_count": null,
   "metadata": {
    "id": "Eh5qp58Hp7Ua"
   },
   "outputs": [],
   "source": [
    "from sentence_transformers import SentenceTransformer\n",
    "\n",
    "sentence_model = SentenceTransformer(\"distilbert-base-nli-mean-tokens\", device=\"cpu\")\n",
    "topic_model = BERTopic(embedding_model=sentence_model, verbose=True)"
   ]
  },
  {
   "cell_type": "markdown",
   "metadata": {
    "id": "SoMc1W-x7-b5"
   },
   "source": [
    "Click [here](https://www.sbert.net/docs/pretrained_models.html) for a list of supported sentence transformers models.  \n"
   ]
  },
  {
   "cell_type": "markdown",
   "metadata": {},
   "source": [
    "# Teste"
   ]
  },
  {
   "cell_type": "code",
   "execution_count": null,
   "metadata": {},
   "outputs": [],
   "source": [
    "from sentence_transformers import SentenceTransformer\n",
    "from bertopic import BERTopic\n",
    "from umap import UMAP"
   ]
  },
  {
   "cell_type": "code",
   "execution_count": null,
   "metadata": {},
   "outputs": [],
   "source": [
    "sentence_model = SentenceTransformer(\"all-MiniLM-L6-v2\")"
   ]
  },
  {
   "cell_type": "code",
   "execution_count": null,
   "metadata": {},
   "outputs": [],
   "source": [
    "len(docs)"
   ]
  },
  {
   "cell_type": "code",
   "execution_count": null,
   "metadata": {},
   "outputs": [],
   "source": [
    "docs = docs['title_result']"
   ]
  },
  {
   "cell_type": "code",
   "execution_count": null,
   "metadata": {},
   "outputs": [],
   "source": [
    "# https://maartengr.github.io/BERTopic/getting_started/visualization/visualization.html#visualize-documents\n",
    "embeddings = sentence_model.encode(docs, show_progress_bar=False)"
   ]
  },
  {
   "cell_type": "code",
   "execution_count": null,
   "metadata": {},
   "outputs": [],
   "source": [
    "# Train BERTopic\n",
    "topic_model = BERTopic().fit(docs, embeddings)\n",
    "\n",
    "# Run the visualization with the original embeddings\n",
    "topic_model.visualize_documents(docs, embeddings=embeddings)\n",
    "\n",
    "# Reduce dimensionality of embeddings, this step is optional but much faster to perform iteratively:\n",
    "reduced_embeddings = UMAP(n_neighbors=10, n_components=2, min_dist=0.0, metric='cosine').fit_transform(embeddings)\n",
    "topic_model.visualize_documents(docs, reduced_embeddings=reduced_embeddings)"
   ]
  }
 ],
 "metadata": {
  "accelerator": "GPU",
  "colab": {
   "provenance": [],
   "toc_visible": true
  },
  "gpuClass": "standard",
  "kernelspec": {
   "display_name": "Python 3 (ipykernel)",
   "language": "python",
   "name": "python3"
  },
  "language_info": {
   "codemirror_mode": {
    "name": "ipython",
    "version": 3
   },
   "file_extension": ".py",
   "mimetype": "text/x-python",
   "name": "python",
   "nbconvert_exporter": "python",
   "pygments_lexer": "ipython3",
   "version": "3.9.13"
  }
 },
 "nbformat": 4,
 "nbformat_minor": 1
}
